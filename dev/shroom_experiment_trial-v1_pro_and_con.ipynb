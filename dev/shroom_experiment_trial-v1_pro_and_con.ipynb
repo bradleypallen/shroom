{
 "cells": [
  {
   "cell_type": "code",
   "execution_count": 4,
   "metadata": {},
   "outputs": [],
   "source": [
    "import json, pycm\n",
    "from tqdm import tqdm\n",
    "from shroom_classifier_pro_and_con import ShroomClassifier"
   ]
  },
  {
   "cell_type": "code",
   "execution_count": 5,
   "metadata": {},
   "outputs": [],
   "source": [
    "def run_experiment(cp, filename):\n",
    "    data = json.load(open(filename, \"r\"))\n",
    "    for dp in tqdm(data):\n",
    "        if \"predicted\" in dp:\n",
    "            pass\n",
    "        else:\n",
    "            classification = cp.classify(dp[\"task\"], dp[\"src\"], dp[\"tgt\"], dp[\"hyp\"])\n",
    "            dp[\"rationale\"] = classification[\"rationale\"]\n",
    "            dp[\"predicted\"] = classification[\"label\"]\n",
    "            json.dump(data, open(filename, \"w+\"))"
   ]
  },
  {
   "cell_type": "code",
   "execution_count": 6,
   "metadata": {},
   "outputs": [
    {
     "name": "stderr",
     "output_type": "stream",
     "text": [
      " 85%|████████▌ | 68/80 [40:06<05:38, 28.19s/it]   Retrying langchain.chat_models.openai.ChatOpenAI.completion_with_retry.<locals>._completion_with_retry in 4.0 seconds as it raised Timeout: Request timed out: HTTPSConnectionPool(host='api.openai.com', port=443): Read timed out. (read timeout=600).\n",
      " 89%|████████▉ | 71/80 [1:08:16<39:30, 263.42s/it]  Retrying langchain.chat_models.openai.ChatOpenAI.completion_with_retry.<locals>._completion_with_retry in 4.0 seconds as it raised Timeout: Request timed out: HTTPSConnectionPool(host='api.openai.com', port=443): Read timed out. (read timeout=600).\n",
      "100%|██████████| 80/80 [1:54:27<00:00, 85.85s/it]   \n"
     ]
    }
   ],
   "source": [
    "cp = ShroomClassifier()\n",
    "run_experiment(cp, 'results_trial-v1_pro_and_con.json')"
   ]
  }
 ],
 "metadata": {
  "kernelspec": {
   "display_name": "conceptual-engineering-using-llms",
   "language": "python",
   "name": "python3"
  },
  "language_info": {
   "codemirror_mode": {
    "name": "ipython",
    "version": 3
   },
   "file_extension": ".py",
   "mimetype": "text/x-python",
   "name": "python",
   "nbconvert_exporter": "python",
   "pygments_lexer": "ipython3",
   "version": "3.11.4"
  },
  "orig_nbformat": 4
 },
 "nbformat": 4,
 "nbformat_minor": 2
}
