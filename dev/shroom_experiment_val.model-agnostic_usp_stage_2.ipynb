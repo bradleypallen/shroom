{
 "cells": [
  {
   "cell_type": "code",
   "execution_count": 1,
   "metadata": {},
   "outputs": [],
   "source": [
    "import json, pycm\n",
    "from tqdm import tqdm\n",
    "from shroom_classifier_usp_v2 import ShroomClassifier"
   ]
  },
  {
   "cell_type": "code",
   "execution_count": 2,
   "metadata": {},
   "outputs": [],
   "source": [
    "def run_experiment(cp, filename):\n",
    "    data = json.load(open(filename, \"r\"))\n",
    "    for dp in tqdm(data):\n",
    "        if \"predicted\" in dp:\n",
    "            pass\n",
    "        else:\n",
    "            dp.update(cp.stage_2_classify(dp[\"task\"], dp[\"src\"], dp[\"tgt\"], dp[\"hyp\"], dp[\"ref\"]))\n",
    "            json.dump(data, open(filename, \"w+\"))"
   ]
  },
  {
   "cell_type": "code",
   "execution_count": 3,
   "metadata": {},
   "outputs": [
    {
     "name": "stderr",
     "output_type": "stream",
     "text": [
      "100%|██████████| 499/499 [32:49<00:00,  3.95s/it]\n"
     ]
    }
   ],
   "source": [
    "cp = ShroomClassifier(model_name=\"gpt-4-1106-preview\", temperature=0.7)\n",
    "run_experiment(cp, 'results_val.model-agnostic_usp_v2_stage_2_v2.json')"
   ]
  }
 ],
 "metadata": {
  "kernelspec": {
   "display_name": "conceptual-engineering-using-llms",
   "language": "python",
   "name": "python3"
  },
  "language_info": {
   "codemirror_mode": {
    "name": "ipython",
    "version": 3
   },
   "file_extension": ".py",
   "mimetype": "text/x-python",
   "name": "python",
   "nbconvert_exporter": "python",
   "pygments_lexer": "ipython3",
   "version": "3.11.4"
  },
  "orig_nbformat": 4
 },
 "nbformat": 4,
 "nbformat_minor": 2
}
