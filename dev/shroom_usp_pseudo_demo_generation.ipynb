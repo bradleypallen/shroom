{
 "cells": [
  {
   "cell_type": "code",
   "execution_count": 1,
   "metadata": {},
   "outputs": [],
   "source": [
    "import json, random, rouge, itertools\n",
    "from tqdm import tqdm\n",
    "from langchain.embeddings import OpenAIEmbeddings\n",
    "from scipy.spatial.distance import cosine\n",
    "from shroom_classifier_usp_v2 import ShroomClassifier"
   ]
  },
  {
   "cell_type": "code",
   "execution_count": 12,
   "metadata": {},
   "outputs": [],
   "source": [
    "def average_pairwise_rouge(texts):\n",
    "    r = rouge.Rouge()\n",
    "    pairwise_combinations = [[a, b] for a, b in itertools.combinations(texts, 2)]\n",
    "    hyps, refs = map(list, zip(*pairwise_combinations))\n",
    "    return r.get_scores(hyps, refs, avg=True)['rouge-1']['f']\n",
    "    "
   ]
  },
  {
   "cell_type": "code",
   "execution_count": 13,
   "metadata": {},
   "outputs": [],
   "source": [
    "def cosine_similarity(v1, v2):\n",
    "    return 1 - cosine(v1, v2)"
   ]
  },
  {
   "cell_type": "code",
   "execution_count": 92,
   "metadata": {},
   "outputs": [],
   "source": [
    "def selection_metric(p, S, l=0.8):\n",
    "    phi_p = p[\"rationale_embedding\"]\n",
    "    Sc = max([ cosine_similarity(phi_p, s[\"rationale_embedding\"]) for s in S ])\n",
    "    return p['F_LFG'] - (l * Sc)\n"
   ]
  },
  {
   "cell_type": "code",
   "execution_count": 31,
   "metadata": {},
   "outputs": [],
   "source": [
    "def pseudo_demos(dp):\n",
    "    for i, rationale in enumerate(dp[\"rationales\"]):\n",
    "        if dp['predictions'][i] == dp['predicted']:\n",
    "            yield { \n",
    "                'hyp': dp['hyp'],\n",
    "                'tgt': dp['tgt'],\n",
    "                'src': dp['src'],\n",
    "                'ref': dp['ref'],\n",
    "                'task': dp['task'],\n",
    "                'model': dp['model'],\n",
    "                'rationale': rationale,\n",
    "                'predicted': dp['predicted'],\n",
    "                'rationale_embedding': dp['rationale_embeddings'][i],\n",
    "                'F_LFG': dp['F_LFG']\n",
    "            }"
   ]
  },
  {
   "cell_type": "code",
   "execution_count": 90,
   "metadata": {},
   "outputs": [],
   "source": [
    "def pseudo_demo_selection(datapoints, K=3):\n",
    "    pool = [ pd for pds in [ pseudo_demos(dp) for dp in datapoints ] for pd in pds ]\n",
    "    selections = []\n",
    "    for k in range(K):\n",
    "        if k == 0:\n",
    "            sk = max(pool, key=lambda x: x['F_LFG'])\n",
    "        else:\n",
    "            sk = max(pool, key=lambda x: selection_metric(x, selections))\n",
    "        selections.append(sk)\n",
    "        pool.remove(sk)\n",
    "    return selections"
   ]
  },
  {
   "cell_type": "code",
   "execution_count": 99,
   "metadata": {},
   "outputs": [],
   "source": [
    "EMBEDDINGS_MODEL = OpenAIEmbeddings()"
   ]
  },
  {
   "cell_type": "code",
   "execution_count": 2,
   "metadata": {},
   "outputs": [],
   "source": [
    "demo_generating_dataset = json.load(open('train.model-agnostic.json', 'r'))"
   ]
  },
  {
   "cell_type": "code",
   "execution_count": 3,
   "metadata": {},
   "outputs": [],
   "source": [
    "dm_unlabelled_datapoints = random.sample([ dp for dp in demo_generating_dataset if dp['task'] == \"DM\" ], 64)\n",
    "pg_unlabelled_datapoints = random.sample([ dp for dp in demo_generating_dataset if dp['task'] == \"PG\" ], 64)\n",
    "mt_unlabelled_datapoints = random.sample([ dp for dp in demo_generating_dataset if dp['task'] == \"MT\" ], 64)\n",
    "cp = ShroomClassifier(model_name=\"gpt-4-1106-preview\", temperature=0.7)"
   ]
  },
  {
   "cell_type": "code",
   "execution_count": 5,
   "metadata": {},
   "outputs": [
    {
     "name": "stderr",
     "output_type": "stream",
     "text": [
      " 56%|█████▋    | 36/64 [12:19<09:38, 20.66s/it]Retrying langchain.chat_models.openai.ChatOpenAI.completion_with_retry.<locals>._completion_with_retry in 4.0 seconds as it raised APIError: HTTP code 502 from API (<html>\n",
      "<head><title>502 Bad Gateway</title></head>\n",
      "<body>\n",
      "<center><h1>502 Bad Gateway</h1></center>\n",
      "<hr><center>cloudflare</center>\n",
      "</body>\n",
      "</html>\n",
      ").\n",
      "100%|██████████| 64/64 [23:02<00:00, 21.61s/it]\n"
     ]
    }
   ],
   "source": [
    "for dp in tqdm(dm_unlabelled_datapoints):\n",
    "    dp.update(cp.stage_1_classify(dp[\"task\"], dp[\"src\"], dp[\"tgt\"], dp[\"hyp\"], dp[\"ref\"]))\n",
    "    dp[\"F_LFG\"] = average_pairwise_rouge(dp[\"rationales\"])\n",
    "    dp[\"rationale_embeddings\"] = EMBEDDINGS_MODEL.embed_documents(dp[\"rationales\"])"
   ]
  },
  {
   "cell_type": "code",
   "execution_count": 97,
   "metadata": {},
   "outputs": [
    {
     "name": "stdout",
     "output_type": "stream",
     "text": [
      "0: (fandom slang) A card game in which the player character is a troll., \"The output is a hallucination. The target defines \"trollcards\" in the context of Homestuck fandom slang as a graphic featuring a portrait and biography of a fantroll, which is essentially a fan-created character in the Homestuck universe. In contrast, the output describes \"trollcards\" as a card game where the player character is a troll. This description does not match the target reference, and there is no evidence provided that \"trollcards\" is indeed a card game. Therefore, the output contains information that is not supported by the reference, making it a hallucination.\" (Hallucination)\n",
      "1: (Australia, New Zealand, slang) A bar., \"The output is a hallucination. The term \"jukie\" in the context provided by the target refers to a jukebox, which is a machine for playing music. The output incorrectly defines \"jukie\" as a bar in Australia and New Zealand slang. This definition is not supported by the target reference, which clearly states that \"jukie\" is slang for a jukebox, not a location. Thus, the information in the output is invented and not based on the provided reference.\" (Hallucination)\n",
      "2: (snooker) A type of snooker played in China., \"The output is a hallucination. The target defines \"Chinese snooker\" as a specific situation in the game of snooker that involves a reverse snooker position, where the difficulty arises due to the position of the cue ball. The output incorrectly defines it as a type of snooker played in China, which is not supported by the reference provided in the target. The term \"Chinese snooker\" does not refer to a regional variation of the game but rather to a particular challenging shot or position within the game.\" (Hallucination)\n",
      "3: (sports) A list of all the plays that have been played in a game., \"The output is a hallucination. The target definition of a \"playsheet\" is a sheet of paper outlining a team's game plan. The output incorrectly defines a playsheet as \"a list of all the plays that have been played in a game,\" which suggests it is a record of past events rather than a pre-planned strategy. The playsheet is used for planning future plays in a game, not documenting ones that have already occurred.\" (Hallucination)\n",
      "4: In an acylindrical manner., \"The output is not a hallucination. It directly matches the target by providing an equivalent phrase, \"In an acylindrical manner,\" which is an accurate definition of \"acylindrically\" as used within the given context. There is no additional information in the output that goes beyond the reference provided by the target.\" (Not Hallucination)\n"
     ]
    }
   ],
   "source": [
    "dm_selections = pseudo_demo_selection(dm_unlabelled_datapoints, K=5)\n",
    "for i, s in enumerate(dm_selections):\n",
    "    print(f'{i}: {s[\"hyp\"]}, \"{s[\"rationale\"]}\" ({s[\"predicted\"]})')"
   ]
  },
  {
   "cell_type": "code",
   "execution_count": 100,
   "metadata": {},
   "outputs": [
    {
     "name": "stderr",
     "output_type": "stream",
     "text": [
      "  9%|▉         | 6/64 [01:52<18:09, 18.78s/it]Retrying langchain.chat_models.openai.ChatOpenAI.completion_with_retry.<locals>._completion_with_retry in 4.0 seconds as it raised APIError: Request failed due to server shutdown {\n",
      "  \"error\": {\n",
      "    \"message\": \"Request failed due to server shutdown\",\n",
      "    \"type\": \"server_error\",\n",
      "    \"param\": null,\n",
      "    \"code\": null\n",
      "  }\n",
      "}\n",
      " 500 {'error': {'message': 'Request failed due to server shutdown', 'type': 'server_error', 'param': None, 'code': None}} {'Date': 'Fri, 10 Nov 2023 22:46:05 GMT', 'Content-Type': 'application/json', 'Content-Length': '141', 'Connection': 'keep-alive', 'access-control-allow-origin': '*', 'openai-model': 'gpt-4-1106-preview', 'openai-organization': 'saros156', 'openai-processing-ms': '11872', 'openai-version': '2020-10-01', 'strict-transport-security': 'max-age=15724800; includeSubDomains', 'x-ratelimit-limit-requests': '10000', 'x-ratelimit-limit-tokens': '300000', 'x-ratelimit-remaining-requests': '9950', 'x-ratelimit-remaining-tokens': '299850', 'x-ratelimit-reset-requests': '7m9.106s', 'x-ratelimit-reset-tokens': '29ms', 'x-request-id': 'f8f4cf32e14e0c341446899a5de3b48b', 'CF-Cache-Status': 'DYNAMIC', 'Server': 'cloudflare', 'CF-RAY': '8241d40efd077ed7-LAX', 'alt-svc': 'h3=\":443\"; ma=86400'}.\n",
      "100%|██████████| 64/64 [20:19<00:00, 19.06s/it]\n"
     ]
    }
   ],
   "source": [
    "for dp in tqdm(pg_unlabelled_datapoints):\n",
    "    dp.update(cp.stage_1_classify(dp[\"task\"], dp[\"src\"], dp[\"tgt\"], dp[\"hyp\"], dp[\"ref\"]))\n",
    "    dp[\"F_LFG\"] = average_pairwise_rouge(dp[\"rationales\"])\n",
    "    dp[\"rationale_embeddings\"] = EMBEDDINGS_MODEL.embed_documents(dp[\"rationales\"])"
   ]
  },
  {
   "cell_type": "code",
   "execution_count": 101,
   "metadata": {},
   "outputs": [
    {
     "name": "stdout",
     "output_type": "stream",
     "text": [
      "0: What'd she do to ya?, \"The output \"What'd she do to ya?\" is not a hallucination. It is a paraphrased version of the input \"What did she do to you?\" that uses contractions and a more colloquial or informal form of \"you\" (\"ya\"). The meaning of the sentence is preserved, and no new information is introduced. The output maintains the original question's intent and content without adding, removing, or altering the information. Therefore, the assertion that the output is a hallucination is incorrect.\" (Not Hallucination)\n",
      "1: They're phony., \"The output \"They're phony\" is not a hallucination. It is a valid paraphrase of the input \"They're fake.\" Both \"fake\" and \"phony\" are synonyms that convey the idea of something being inauthentic or not genuine. The output maintains the original meaning without introducing any new information that is unsupported by the reference.\" (Not Hallucination)\n",
      "2: Hiya, Smitty., \"The output \"Hiya, Smitty.\" is not a hallucination. It is a valid paraphrase of the input \"Hello, Smitty.\" Both the input and the output serve as greetings directed at someone named Smitty. The word \"Hiya\" is an informal way of saying \"Hello,\" thus maintaining the meaning of the original input without introducing any unsupported information.\" (Not Hallucination)\n",
      "3: Where's chuck?, \"Output is not a hallucination. The output is simply a direct repetition of the input with only the difference in capitalization of the name \"Chuck.\" There is no new information introduced in the output that is unsupported by the reference input.\" (Not Hallucination)\n",
      "4: Are you going to go?, \"The output is not a hallucination. It is a direct paraphrase of the input \"Are you gonna go?\" where \"gonna\" is simply replaced with its standard English equivalent \"going to.\" There is no new information added or implied that is unsupported by the input; therefore, the output remains faithful to the original meaning.\" (Not Hallucination)\n"
     ]
    }
   ],
   "source": [
    "pg_selections = pseudo_demo_selection(pg_unlabelled_datapoints, K=5)\n",
    "for i, s in enumerate(pg_selections):\n",
    "    print(f'{i}: {s[\"hyp\"]}, \"{s[\"rationale\"]}\" ({s[\"predicted\"]})')"
   ]
  },
  {
   "cell_type": "code",
   "execution_count": 102,
   "metadata": {},
   "outputs": [
    {
     "name": "stderr",
     "output_type": "stream",
     "text": [
      "100%|██████████| 64/64 [20:03<00:00, 18.80s/it]\n"
     ]
    }
   ],
   "source": [
    "for dp in tqdm(mt_unlabelled_datapoints):\n",
    "    dp.update(cp.stage_1_classify(dp[\"task\"], dp[\"src\"], dp[\"tgt\"], dp[\"hyp\"], dp[\"ref\"]))\n",
    "    dp[\"F_LFG\"] = average_pairwise_rouge(dp[\"rationales\"])\n",
    "    dp[\"rationale_embeddings\"] = EMBEDDINGS_MODEL.embed_documents(dp[\"rationales\"])"
   ]
  },
  {
   "cell_type": "code",
   "execution_count": 103,
   "metadata": {},
   "outputs": [
    {
     "name": "stdout",
     "output_type": "stream",
     "text": [
      "0: Even Tom couldn't help., \"The output \"Even Tom couldn't help.\" is not a hallucination. It directly corresponds to the input \"Даже Том не смог бы помочь.\" and conveys the same meaning as the target translation. There is no additional information in the output that is not supported by the reference input or target. Therefore, the output is an accurate translation and not a hallucination.\" (Not Hallucination)\n",
      "1: Put it all in the truck., \"The output is not a hallucination. It directly corresponds to the provided input and accurately reflects the target. The English translation \"Put it all in the truck.\" is an appropriate and faithful translation of the Russian input \"Положите это всё в грузовик.\" with no additional information added. Hence, the output contains no information that is not supported by the reference.\" (Not Hallucination)\n",
      "2: It depends on where we decide to go., \"The output is not a hallucination. The output \"It depends on where we decide to go.\" is a faithful translation of the input \"Это зависит от того, куда мы решим поехать.\" The meaning is preserved, and there is no additional information introduced that is not supported by the input or the target. Both the input and the output express the same conditional dependency on a decision about a destination.\" (Not Hallucination)\n",
      "3: Even Tom couldn't help., \"The output is not a hallucination. The output \"Even Tom couldn't help.\" directly corresponds to the target translation and accurately reflects the information provided in the input \"Даже Том не смог бы помочь.\" There is no additional information introduced in the output that is not supported by the input or the target.\" (Not Hallucination)\n",
      "4: Even Tom couldn't help., \"The output is not a hallucination. The translation \"Even Tom couldn't help.\" accurately reflects the meaning of the input \"Даже Том не смог бы помочь.\" There is no additional information introduced in the output that is unsupported by the input, and it aligns well with the provided target. Therefore, the output is a correct translation of the input with no hallucinated content.\" (Not Hallucination)\n"
     ]
    }
   ],
   "source": [
    "mt_selections = pseudo_demo_selection(mt_unlabelled_datapoints, K=5)\n",
    "for i, s in enumerate(mt_selections):\n",
    "    print(f'{i}: {s[\"hyp\"]}, \"{s[\"rationale\"]}\" ({s[\"predicted\"]})')"
   ]
  },
  {
   "cell_type": "code",
   "execution_count": 104,
   "metadata": {},
   "outputs": [],
   "source": [
    "selected_pseudo_demos = {\n",
    "    \"DM\": dm_selections,\n",
    "    \"PG\": pg_selections,\n",
    "    \"MT\": mt_selections,\n",
    "}\n",
    "\n",
    "json.dump(selected_pseudo_demos, open('shroom_selected_pseudo_demos.json', \"w+\"))"
   ]
  },
  {
   "cell_type": "code",
   "execution_count": 114,
   "metadata": {},
   "outputs": [],
   "source": [
    "demos = {\n",
    "    \"DM\": demo_string(dm_selections),\n",
    "    \"PG\": demo_string(pg_selections),\n",
    "    \"MT\": demo_string(mt_selections),\n",
    "}"
   ]
  },
  {
   "cell_type": "code",
   "execution_count": 113,
   "metadata": {},
   "outputs": [],
   "source": [
    "def demo_string(selections):\n",
    "    return ''.join([ f'##\\nInput: {pd[\"src\"]}\\nTarget: {pd[\"tgt\"]}\\nOutput: {pd[\"hyp\"]}\\nRationale: {pd[\"rationale\"]}\\n' for pd in selections])"
   ]
  },
  {
   "cell_type": "code",
   "execution_count": 115,
   "metadata": {},
   "outputs": [
    {
     "data": {
      "text/plain": [
       "{'DM': '##\\nInput: <define> trollcards </define> for my trollsona : v :\\nTarget: (Homestuck, _, fandom slang) A graphic featuring a portrait and biography of a fantroll.\\nOutput: (fandom slang) A card game in which the player character is a troll.\\nRationale: The output is a hallucination. The target defines \"trollcards\" in the context of Homestuck fandom slang as a graphic featuring a portrait and biography of a fantroll, which is essentially a fan-created character in the Homestuck universe. In contrast, the output describes \"trollcards\" as a card game where the player character is a troll. This description does not match the target reference, and there is no evidence provided that \"trollcards\" is indeed a card game. Therefore, the output contains information that is not supported by the reference, making it a hallucination.\\n##\\nInput: I would sit at the end of the bar , far from the <define> jukie </define> , near the door .\\nTarget: (slang) A jukebox (machine for playing music).\\nOutput: (Australia, New Zealand, slang) A bar.\\nRationale: The output is a hallucination. The term \"jukie\" in the context provided by the target refers to a jukebox, which is a machine for playing music. The output incorrectly defines \"jukie\" as a bar in Australia and New Zealand slang. This definition is not supported by the target reference, which clearly states that \"jukie\" is slang for a jukebox, not a location. Thus, the information in the output is invented and not based on the provided reference.\\n##\\nInput: Now , happy bridging over a <define> chinese snooker </define> .\\nTarget: (snooker) A reverse snooker position where the cue ball is in front of, rather than behind, a ball that is not on, making the shot very difficult because the bridge is hampered and the cueing angle is unnaturally high.\\nOutput: (snooker) A type of snooker played in China.\\nRationale: The output is a hallucination. The target defines \"Chinese snooker\" as a specific situation in the game of snooker that involves a reverse snooker position, where the difficulty arises due to the position of the cue ball. The output incorrectly defines it as a type of snooker played in China, which is not supported by the reference provided in the target. The term \"Chinese snooker\" does not refer to a regional variation of the game but rather to a particular challenging shot or position within the game.\\n##\\nInput: Seahawks Coach Mike Holmgren was not happy when NBC showed a close - up of his <define> playsheet </define> during last week ’s loss to the Saints , but it was probably time for a new one — the Seahawks ( 3 - 3 ) have scored only 17 points in their past two games .\\nTarget: (sports) A sheet of paper outlining a team\\'s game plan.\\nOutput: (sports) A list of all the plays that have been played in a game.\\nRationale: The output is a hallucination. The target definition of a \"playsheet\" is a sheet of paper outlining a team\\'s game plan. The output incorrectly defines a playsheet as \"a list of all the plays that have been played in a game,\" which suggests it is a record of past events rather than a pre-planned strategy. The playsheet is used for planning future plays in a game, not documenting ones that have already occurred.\\n##\\nInput: We show that these groups act <define> acylindrically </define> on the CAT(-1 ) polygonal complex naturally associated to their presentation .\\nTarget: In an acylindrical manner.\\nOutput: In an acylindrical manner.\\nRationale: The output is not a hallucination. It directly matches the target by providing an equivalent phrase, \"In an acylindrical manner,\" which is an accurate definition of \"acylindrically\" as used within the given context. There is no additional information in the output that goes beyond the reference provided by the target.\\n',\n",
       " 'PG': '##\\nInput: What did she do to you?\\nTarget: \\nOutput: What\\'d she do to ya?\\nRationale: The output \"What\\'d she do to ya?\" is not a hallucination. It is a paraphrased version of the input \"What did she do to you?\" that uses contractions and a more colloquial or informal form of \"you\" (\"ya\"). The meaning of the sentence is preserved, and no new information is introduced. The output maintains the original question\\'s intent and content without adding, removing, or altering the information. Therefore, the assertion that the output is a hallucination is incorrect.\\n##\\nInput: They\\'re fake.\\nTarget: \\nOutput: They\\'re phony.\\nRationale: The output \"They\\'re phony\" is not a hallucination. It is a valid paraphrase of the input \"They\\'re fake.\" Both \"fake\" and \"phony\" are synonyms that convey the idea of something being inauthentic or not genuine. The output maintains the original meaning without introducing any new information that is unsupported by the reference.\\n##\\nInput: Hello, Smitty.\\nTarget: \\nOutput: Hiya, Smitty.\\nRationale: The output \"Hiya, Smitty.\" is not a hallucination. It is a valid paraphrase of the input \"Hello, Smitty.\" Both the input and the output serve as greetings directed at someone named Smitty. The word \"Hiya\" is an informal way of saying \"Hello,\" thus maintaining the meaning of the original input without introducing any unsupported information.\\n##\\nInput: Where\\'s Chuck?\\nTarget: \\nOutput: Where\\'s chuck?\\nRationale: Output is not a hallucination. The output is simply a direct repetition of the input with only the difference in capitalization of the name \"Chuck.\" There is no new information introduced in the output that is unsupported by the reference input.\\n##\\nInput: Are you gonna go?\\nTarget: \\nOutput: Are you going to go?\\nRationale: The output is not a hallucination. It is a direct paraphrase of the input \"Are you gonna go?\" where \"gonna\" is simply replaced with its standard English equivalent \"going to.\" There is no new information added or implied that is unsupported by the input; therefore, the output remains faithful to the original meaning.\\n',\n",
       " 'MT': '##\\nInput: Даже Том не смог бы помочь.\\nTarget: Even Tom couldn\\'t help.\\nOutput: Even Tom couldn\\'t help.\\nRationale: The output \"Even Tom couldn\\'t help.\" is not a hallucination. It directly corresponds to the input \"Даже Том не смог бы помочь.\" and conveys the same meaning as the target translation. There is no additional information in the output that is not supported by the reference input or target. Therefore, the output is an accurate translation and not a hallucination.\\n##\\nInput: Положите это всё в грузовик.\\nTarget: Put it all in the truck.\\nOutput: Put it all in the truck.\\nRationale: The output is not a hallucination. It directly corresponds to the provided input and accurately reflects the target. The English translation \"Put it all in the truck.\" is an appropriate and faithful translation of the Russian input \"Положите это всё в грузовик.\" with no additional information added. Hence, the output contains no information that is not supported by the reference.\\n##\\nInput: Это зависит от того, куда мы решим поехать.\\nTarget: That depends on where we decide to go.\\nOutput: It depends on where we decide to go.\\nRationale: The output is not a hallucination. The output \"It depends on where we decide to go.\" is a faithful translation of the input \"Это зависит от того, куда мы решим поехать.\" The meaning is preserved, and there is no additional information introduced that is not supported by the input or the target. Both the input and the output express the same conditional dependency on a decision about a destination.\\n##\\nInput: Даже Том не смог бы помочь.\\nTarget: Even Tom couldn\\'t help.\\nOutput: Even Tom couldn\\'t help.\\nRationale: The output is not a hallucination. The output \"Even Tom couldn\\'t help.\" directly corresponds to the target translation and accurately reflects the information provided in the input \"Даже Том не смог бы помочь.\" There is no additional information introduced in the output that is not supported by the input or the target.\\n##\\nInput: Даже Том не смог бы помочь.\\nTarget: Even Tom couldn\\'t help.\\nOutput: Even Tom couldn\\'t help.\\nRationale: The output is not a hallucination. The translation \"Even Tom couldn\\'t help.\" accurately reflects the meaning of the input \"Даже Том не смог бы помочь.\" There is no additional information introduced in the output that is unsupported by the input, and it aligns well with the provided target. Therefore, the output is a correct translation of the input with no hallucinated content.\\n'}"
      ]
     },
     "execution_count": 115,
     "metadata": {},
     "output_type": "execute_result"
    }
   ],
   "source": [
    "demos"
   ]
  }
 ],
 "metadata": {
  "kernelspec": {
   "display_name": "shroom",
   "language": "python",
   "name": "python3"
  },
  "language_info": {
   "codemirror_mode": {
    "name": "ipython",
    "version": 3
   },
   "file_extension": ".py",
   "mimetype": "text/x-python",
   "name": "python",
   "nbconvert_exporter": "python",
   "pygments_lexer": "ipython3",
   "version": "3.11.4"
  }
 },
 "nbformat": 4,
 "nbformat_minor": 2
}
