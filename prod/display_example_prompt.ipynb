{
 "cells": [
  {
   "cell_type": "code",
   "execution_count": 13,
   "metadata": {},
   "outputs": [],
   "source": [
    "import json\n",
    "from datetime import datetime\n",
    "from tqdm import tqdm\n",
    "from langchain.prompts import ChatPromptTemplate\n",
    "from shroom_classifier_v13 import ShroomClassifier"
   ]
  },
  {
   "cell_type": "code",
   "execution_count": 3,
   "metadata": {},
   "outputs": [],
   "source": [
    "DATASET = json.load(open('reference/val.model-agnostic.json', 'r'))\n",
    "MODEL = \"gpt-4-0125-preview\"\n",
    "TEMP = 1.2\n",
    "CLASSIFIER = ShroomClassifier(model_name=MODEL, temperature=TEMP, example_selection=4)"
   ]
  },
  {
   "cell_type": "code",
   "execution_count": 8,
   "metadata": {},
   "outputs": [],
   "source": [
    "datapoint = DATASET[0]\n",
    "submission = {\n",
    "    \"task\": CLASSIFIER.TASKS[datapoint[\"task\"]], \n",
    "    \"role\": CLASSIFIER.ROLES[datapoint[\"task\"]],\n",
    "    \"definition\": CLASSIFIER.DEFINITION, \n",
    "    \"examples\": CLASSIFIER.examples[datapoint[\"task\"]],\n",
    "    \"src\": datapoint[\"src\"], \n",
    "    \"tgt\": datapoint[\"tgt\"], \n",
    "    \"hyp\": datapoint[\"hyp\"],\n",
    "}"
   ]
  },
  {
   "cell_type": "code",
   "execution_count": 12,
   "metadata": {},
   "outputs": [
    {
     "data": {
      "text/plain": [
       "\"A language model has generated an output from a given input for a specific task.\\n{task}\\n{role}\\nYou will be given three inputs: input text, target text, and generated text.\\nYou are asked to evaluate the generated text looking at the input text and the target text. \\nThen, you need to answer the question: is the generated text a hallucination or not? \\n{definition}\\nAnswer 'Hallucination' if the output is a hallucination, or 'Not Hallucination' if it is not a hallucination. \\nOnly answer 'Hallucination' or 'Not Hallucination'.\\n{examples}\\n##\\nInput text: {src}\\nTarget text: {tgt}\\nGenerated text: {hyp}\\nAnswer:\\n\""
      ]
     },
     "execution_count": 12,
     "metadata": {},
     "output_type": "execute_result"
    }
   ],
   "source": [
    "CLASSIFIER.PROMPT"
   ]
  },
  {
   "cell_type": "code",
   "execution_count": 21,
   "metadata": {},
   "outputs": [],
   "source": [
    "template = ChatPromptTemplate.from_template(CLASSIFIER.PROMPT)\n",
    "prompt_str = template.format(**submission)"
   ]
  },
  {
   "cell_type": "code",
   "execution_count": 23,
   "metadata": {},
   "outputs": [
    {
     "name": "stdout",
     "output_type": "stream",
     "text": [
      "Human: A language model has generated an output from a given input for a specific task.\n",
      "The given task is Definition Modeling, meaning that the goal of the language model is to generate a definition for a specific term in the input text.\n",
      "You are a lexicographer concerned that the generated text accurately captures the meaning of the term between the '<define>' and '</define>' delimiters in the input text.\n",
      "You will be given three inputs: input text, target text, and generated text.\n",
      "You are asked to evaluate the generated text looking at the input text and the target text. \n",
      "Then, you need to answer the question: is the generated text a hallucination or not? \n",
      "A text contains a hallucination if and only if it contains any nonsensical or \n",
      "factually incorrect information, or contains any additional information that cannot be supported by either \n",
      "the input text or the target text.\n",
      "\n",
      "Answer 'Hallucination' if the output is a hallucination, or 'Not Hallucination' if it is not a hallucination. \n",
      "Only answer 'Hallucination' or 'Not Hallucination'.\n",
      "##\n",
      "Input text: [ … ]   Never could keep friends long , so I figured if I had a sister , I 'd at least have someone to be friends with , even if she was a crying <define> poop machine </define> for the first year . \"\n",
      "Target text: (informal, pejorative, or, humorous) An infant.\n",
      "Generated text: (informal) A person who produces a large amount of poop.\n",
      "Answer: Hallucination\n",
      "##\n",
      "Input text: ' Well , ' Smiley says , easy and careless , ' he 's good enough for one thing , I should judge — he can <define> outjump </define> any frog in Calaveras Country . '\n",
      "Target text: (transitive) To jump better than; particularly higher than, or further than.\n",
      "Generated text: (transitive) To jump higher than.\n",
      "Answer: Not Hallucination\n",
      "##\n",
      "Input text: The writer had just entered into his eighteenth year , when he met at the table of a certain Anglo - Germanist an individual , apparently somewhat under thirty , of middle stature , a thin and <define> weaselly </define> figure , a sallow complexion , a certain obliquity of vision , and a large pair of spectacles .\n",
      "Target text: Resembling a weasel (in appearance).\n",
      "Generated text: Resembling or characteristic of a weasel.\n",
      "Answer:\n",
      "\n"
     ]
    }
   ],
   "source": [
    "print(prompt_str)"
   ]
  },
  {
   "cell_type": "code",
   "execution_count": null,
   "metadata": {},
   "outputs": [],
   "source": []
  }
 ],
 "metadata": {
  "kernelspec": {
   "display_name": "env",
   "language": "python",
   "name": "python3"
  },
  "language_info": {
   "codemirror_mode": {
    "name": "ipython",
    "version": 3
   },
   "file_extension": ".py",
   "mimetype": "text/x-python",
   "name": "python",
   "nbconvert_exporter": "python",
   "pygments_lexer": "ipython3",
   "version": "3.11.4"
  }
 },
 "nbformat": 4,
 "nbformat_minor": 2
}
