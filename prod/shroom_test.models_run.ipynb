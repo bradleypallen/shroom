{
 "cells": [
  {
   "cell_type": "code",
   "execution_count": 1,
   "metadata": {},
   "outputs": [],
   "source": [
    "import json\n",
    "from datetime import datetime\n",
    "from tqdm import tqdm\n",
    "from shroom_classifier_lcel_baseline_v4_persona import ShroomClassifier"
   ]
  },
  {
   "cell_type": "code",
   "execution_count": 2,
   "metadata": {},
   "outputs": [],
   "source": [
    "def run_experiment(cp, reference, submission):\n",
    "    data = json.load(open(reference, \"r\"))\n",
    "    predictions = []\n",
    "    for dp in tqdm(data):\n",
    "        prediction = cp.classify(dp)\n",
    "        predictions.append(prediction)\n",
    "    json.dump(predictions, open(submission, \"w+\"))"
   ]
  },
  {
   "cell_type": "code",
   "execution_count": 3,
   "metadata": {},
   "outputs": [],
   "source": [
    "RUN = \"baseline_v4_persona\"\n",
    "MODEL = \"gpt-4-1106-preview\"\n",
    "TEMP = 1.2\n",
    "DATE = datetime.utcnow().date().isoformat()"
   ]
  },
  {
   "cell_type": "code",
   "execution_count": 4,
   "metadata": {},
   "outputs": [
    {
     "name": "stderr",
     "output_type": "stream",
     "text": [
      "/Users/bradleyallen/Documents/GitHub/shroom/env/lib/python3.11/site-packages/langchain_core/_api/deprecation.py:117: LangChainDeprecationWarning: The class `langchain_community.chat_models.openai.ChatOpenAI` was deprecated in langchain-community 0.0.10 and will be removed in 0.2.0. An updated version of the class exists in the langchain-openai package and should be used instead. To use it run `pip install -U langchain-openai` and import as `from langchain_openai import ChatOpenAI`.\n",
      "  warn_deprecated(\n",
      "100%|██████████| 1500/1500 [1:08:46<00:00,  2.75s/it]    \n",
      "100%|██████████| 1500/1500 [27:54<00:00,  1.12s/it] \n"
     ]
    }
   ],
   "source": [
    "CLASSIFIER = ShroomClassifier(model_name=MODEL, temperature=TEMP)\n",
    "run_experiment(CLASSIFIER, 'reference/test.model-agnostic.json', 'submission/test.model-agnostic.json')\n",
    "run_experiment(CLASSIFIER, 'reference/test.model-aware.json', 'submission/test.model-aware.json')"
   ]
  },
  {
   "cell_type": "code",
   "execution_count": 5,
   "metadata": {},
   "outputs": [
    {
     "name": "stdout",
     "output_type": "stream",
     "text": [
      "  adding: submission/test.model-agnostic.json (deflated 95%)\n",
      "  adding: submission/test.model-aware.json (deflated 95%)\n"
     ]
    }
   ],
   "source": [
    "! zip submission/{MODEL}-{RUN}-{DATE}.zip submission/test.model-*.json \n",
    "! mv submission/test.model-agnostic.json results/test.model-agnostic.{MODEL}-{RUN}-{DATE}\n",
    "! mv submission/test.model-aware.json results/test.model-aware.{MODEL}-{RUN}-{DATE}"
   ]
  }
 ],
 "metadata": {
  "kernelspec": {
   "display_name": "conceptual-engineering-using-llms",
   "language": "python",
   "name": "python3"
  },
  "language_info": {
   "codemirror_mode": {
    "name": "ipython",
    "version": 3
   },
   "file_extension": ".py",
   "mimetype": "text/x-python",
   "name": "python",
   "nbconvert_exporter": "python",
   "pygments_lexer": "ipython3",
   "version": "3.11.4"
  },
  "orig_nbformat": 4
 },
 "nbformat": 4,
 "nbformat_minor": 2
}
