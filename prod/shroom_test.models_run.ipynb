{
 "cells": [
  {
   "cell_type": "code",
   "execution_count": 1,
   "metadata": {},
   "outputs": [],
   "source": [
    "import json\n",
    "from datetime import datetime\n",
    "from tqdm import tqdm\n",
    "from shroom_classifier_v10 import ShroomClassifier"
   ]
  },
  {
   "cell_type": "code",
   "execution_count": 2,
   "metadata": {},
   "outputs": [],
   "source": [
    "def run_experiment(cp, reference, submission):\n",
    "    data = json.load(open(reference, \"r\"))\n",
    "    predictions = []\n",
    "    for dp in tqdm(data):\n",
    "        prediction = cp.classify(dp)\n",
    "        predictions.append(prediction)\n",
    "    json.dump(predictions, open(submission, \"w+\"))"
   ]
  },
  {
   "cell_type": "code",
   "execution_count": 3,
   "metadata": {},
   "outputs": [],
   "source": [
    "RUN = \"v10\"\n",
    "MODEL = \"gpt-4-1106-preview\"\n",
    "TEMP = 1.2\n",
    "DATE = datetime.utcnow().date().isoformat()"
   ]
  },
  {
   "cell_type": "code",
   "execution_count": 4,
   "metadata": {},
   "outputs": [
    {
     "name": "stderr",
     "output_type": "stream",
     "text": [
      "100%|██████████| 1500/1500 [38:19<00:00,  1.53s/it] \n",
      "100%|██████████| 1500/1500 [46:34<00:00,  1.86s/it]   \n"
     ]
    }
   ],
   "source": [
    "CLASSIFIER = ShroomClassifier(model_name=MODEL, temperature=TEMP)\n",
    "run_experiment(CLASSIFIER, 'reference/test.model-agnostic.json', 'submission/test.model-agnostic.json')\n",
    "run_experiment(CLASSIFIER, 'reference/test.model-aware.json', 'submission/test.model-aware.json')"
   ]
  },
  {
   "cell_type": "code",
   "execution_count": 5,
   "metadata": {},
   "outputs": [
    {
     "name": "stdout",
     "output_type": "stream",
     "text": [
      "  adding: submission/test.model-agnostic.json (deflated 95%)\n",
      "  adding: submission/test.model-aware.json (deflated 95%)\n"
     ]
    }
   ],
   "source": [
    "! zip submission/{MODEL}-{RUN}-{DATE}.zip submission/test.model-*.json \n",
    "! mv submission/test.model-agnostic.json results/test.model-agnostic.{MODEL}-{RUN}-{DATE}\n",
    "! mv submission/test.model-aware.json results/test.model-aware.{MODEL}-{RUN}-{DATE}"
   ]
  }
 ],
 "metadata": {
  "kernelspec": {
   "display_name": "conceptual-engineering-using-llms",
   "language": "python",
   "name": "python3"
  },
  "language_info": {
   "codemirror_mode": {
    "name": "ipython",
    "version": 3
   },
   "file_extension": ".py",
   "mimetype": "text/x-python",
   "name": "python",
   "nbconvert_exporter": "python",
   "pygments_lexer": "ipython3",
   "version": "3.11.4"
  },
  "orig_nbformat": 4
 },
 "nbformat": 4,
 "nbformat_minor": 2
}
