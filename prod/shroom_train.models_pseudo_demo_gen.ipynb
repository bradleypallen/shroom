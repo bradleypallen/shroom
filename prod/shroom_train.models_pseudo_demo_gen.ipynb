{
 "cells": [
  {
   "cell_type": "code",
   "execution_count": 1,
   "metadata": {},
   "outputs": [],
   "source": [
    "import json, random, math, numpy as np\n",
    "from datetime import datetime\n",
    "from tqdm import tqdm\n",
    "from string import Template\n",
    "from langchain_openai import OpenAIEmbeddings\n",
    "from scipy.spatial.distance import cosine\n",
    "from shroom_classifier_v7 import ShroomClassifier"
   ]
  },
  {
   "cell_type": "code",
   "execution_count": 2,
   "metadata": {},
   "outputs": [],
   "source": [
    "MODEL = \"gpt-4\"\n",
    "\n",
    "TEMP = 1.2\n",
    "\n",
    "DATE = datetime.utcnow().date().isoformat()\n",
    "\n",
    "SAMPLE_SIZE = 64\n",
    "\n",
    "EMBEDDINGS_MODEL = OpenAIEmbeddings()\n",
    "\n",
    "CLASSIFIER = ShroomClassifier(model_name=MODEL, temperature=TEMP)\n",
    "\n",
    "PSEUDO_DEMO_TEMPLATE = Template(\"\"\"##\n",
    "Input text: $src\n",
    "Target text: $tgt\n",
    "Generated text: $hyp\n",
    "Answer: $label\n",
    "\"\"\")"
   ]
  },
  {
   "cell_type": "code",
   "execution_count": 3,
   "metadata": {},
   "outputs": [],
   "source": [
    "def binary_negative_entropy(p, epsilon=1e-10):\n",
    "    # Adjust probabilities to avoid log(0)\n",
    "    p = np.clip(p, epsilon, 1 - epsilon)\n",
    "    return p * np.log(p) + (1 - p) * np.log(1 - p)"
   ]
  },
  {
   "cell_type": "code",
   "execution_count": 4,
   "metadata": {},
   "outputs": [],
   "source": [
    "def cos_sim(v1, v2):\n",
    "    return 1 - cosine(v1, v2)"
   ]
  },
  {
   "cell_type": "code",
   "execution_count": 5,
   "metadata": {},
   "outputs": [],
   "source": [
    "def phi(dp, classification):\n",
    "    serialization = f'{dp[\"hyp\"]} {dp[\"tgt\"]} {dp[\"src\"]} {dp[\"tgt\"]} {classification[\"label\"]}'\n",
    "    return EMBEDDINGS_MODEL.embed_query(serialization)"
   ]
  },
  {
   "cell_type": "code",
   "execution_count": 6,
   "metadata": {},
   "outputs": [],
   "source": [
    "def selection_metric(p, S, l=0.2):\n",
    "    return p['F_CLS'] - (l * max([ cos_sim(p[\"phi\"], s[\"phi\"]) for s in S ]))"
   ]
  },
  {
   "cell_type": "code",
   "execution_count": 7,
   "metadata": {},
   "outputs": [],
   "source": [
    "def generate_pseudo_demos(datapoints):\n",
    "    pseudo_demos = []\n",
    "    for dp in tqdm(datapoints):  \n",
    "        classification = CLASSIFIER.classify(dp)\n",
    "        pseudo_demos.append(\n",
    "            {\n",
    "                \"datapoint\": dp,\n",
    "                \"classification\": classification,\n",
    "                \"F_CLS\": binary_negative_entropy(classification[\"p(Hallucination)\"]),\n",
    "                \"phi\": phi(dp, classification) \n",
    "            }\n",
    "        )\n",
    "    return pseudo_demos"
   ]
  },
  {
   "cell_type": "code",
   "execution_count": 8,
   "metadata": {},
   "outputs": [],
   "source": [
    "def select_pseudo_demos(pseudo_demos, K=3):\n",
    "    pool = pseudo_demos\n",
    "    selections = []\n",
    "    for k in range(K):\n",
    "        if k == 0:\n",
    "            sk = max(pool, key=lambda x: x['F_CLS'])\n",
    "        else:\n",
    "            sk = max(pool, key=lambda x: selection_metric(x, selections))\n",
    "        selections.append(sk)\n",
    "        pool.remove(sk)\n",
    "    return selections"
   ]
  },
  {
   "cell_type": "code",
   "execution_count": 9,
   "metadata": {},
   "outputs": [],
   "source": [
    "def serialize_selected_pseudo_demos(pseudo_demos):\n",
    "    return ''.join([ PSEUDO_DEMO_TEMPLATE.substitute(\n",
    "        {\n",
    "            \"hyp\": pd[\"datapoint\"][\"hyp\"],\n",
    "            \"src\": pd[\"datapoint\"][\"src\"],        \n",
    "            \"tgt\": pd[\"datapoint\"][\"tgt\"],        \n",
    "            \"label\": pd[\"classification\"][\"label\"],    \n",
    "        }\n",
    "    ) for pd in pseudo_demos])"
   ]
  },
  {
   "cell_type": "code",
   "execution_count": 10,
   "metadata": {},
   "outputs": [
    {
     "name": "stderr",
     "output_type": "stream",
     "text": [
      "  0%|          | 0/64 [00:00<?, ?it/s]"
     ]
    },
    {
     "name": "stderr",
     "output_type": "stream",
     "text": [
      "100%|██████████| 64/64 [01:20<00:00,  1.26s/it]\n",
      "100%|██████████| 64/64 [01:20<00:00,  1.25s/it]\n",
      "100%|██████████| 64/64 [01:18<00:00,  1.22s/it]\n"
     ]
    }
   ],
   "source": [
    "dataset = json.load(open('reference/train.model-agnostic.json', 'r'))\n",
    "dm_pds = generate_pseudo_demos(random.sample([ dp for dp in dataset if dp['task'] == \"DM\" ], SAMPLE_SIZE))\n",
    "pg_pds = generate_pseudo_demos(random.sample([ dp for dp in dataset if dp['task'] == \"PG\" ], SAMPLE_SIZE))\n",
    "mt_pds = generate_pseudo_demos(random.sample([ dp for dp in dataset if dp['task'] == \"MT\" ], SAMPLE_SIZE))"
   ]
  },
  {
   "cell_type": "code",
   "execution_count": 11,
   "metadata": {},
   "outputs": [
    {
     "name": "stdout",
     "output_type": "stream",
     "text": [
      "##\n",
      "Input text: Instead , the shares are held by a <define> superentity </define> called Cede & Company in an arrangement administered by the Depositary Trust and Clearing Corporation .\n",
      "Target text: An entity comprising several lesser entities.\n",
      "Generated text: (finance) A company that owns shares in another company.\n",
      "Answer: Hallucination\n",
      "##\n",
      "Input text: Now though Cider uſed in my Method ſhould not ferment at all , till it come into the Bottle , and then but a little ; yet the Cauſe of Fermentation being in a great Degree taken away , the reſt can do no conſiderable Harm to thoſe who drink it , [ ... ] It is in your Power to give the Cider juſt as much <define> fret </define> as you pleaſe , and no more ; and that by ſeveral ways : For either you may bottle it ſooner or later , as you pleaſe : Or you may bottle it from two Taps in your Veſſel , and that from the higher Tap will have leſs Fret , and the lower more : [ ... ]\n",
      "Target text: Agitation of the surface of a fluid by fermentation or some other cause; a rippling on the surface of water.\n",
      "Generated text: (countable, uncountable) Fret.\n",
      "Answer: Hallucination\n",
      "##\n",
      "Input text: An alternative route for the preparation of monomer 5 , in which the <define> pseudopeptide </define> intermediate is obtained by reductive N - alkylation , was outlined previously [ 13 ] .\n",
      "Target text: (organic chemistry) An amide of an amino acid that does not occur in natural peptides or proteins, especially one introduced into a polypeptide chain\n",
      "Generated text: (biochemistry) A polypeptide that is not a monomer.\n",
      "Answer: Hallucination\n",
      "##\n",
      "Input text: It was a large front room on the first floor , over a chandler 's shop in an old - fashioned house in Montague Street , Whitechapel . Its shape was peculiar — an oblong stretching <define> streetwards </define> , interrupted in one of the longer walls by a square .\n",
      "Target text: Toward the street.\n",
      "Generated text: In the direction of the street.\n",
      "Answer: Not Hallucination\n",
      "##\n",
      "Input text: Since the Dalai Lama is a <define> tulka </define> , he can choose to be reborn as he pleases to serve humanity .\n",
      "Target text: (Buddhism) In Tibetan Mahayana, a particular high-ranking lama who can choose their own manner of rebirth.\n",
      "Generated text: (Buddhism) A reincarnated person.\n",
      "Answer: Not Hallucination\n",
      "##\n",
      "Input text: But how to change attitudes and habits in nutrition when global acting enterprises earn their money by selling billion tons of sugar and meat followed by drugs to cure diseases caused by <define> supernutrition </define> .\n",
      "Target text: Overeating.\n",
      "Generated text: (uncountable) The state or quality of being supernourished.\n",
      "Answer: Not Hallucination\n",
      "\n"
     ]
    }
   ],
   "source": [
    "dm_pds_pos = [ pd for pd in dm_pds if pd[\"classification\"][\"label\"] == \"Hallucination\" ]\n",
    "dm_pds_neg = [ pd for pd in dm_pds if pd[\"classification\"][\"label\"] == \"Not Hallucination\" ]\n",
    "selected_dm_pds = select_pseudo_demos(dm_pds_pos) + select_pseudo_demos(dm_pds_neg)\n",
    "dm_demos = serialize_selected_pseudo_demos(selected_dm_pds)\n",
    "print(dm_demos)"
   ]
  },
  {
   "cell_type": "code",
   "execution_count": 12,
   "metadata": {},
   "outputs": [
    {
     "name": "stdout",
     "output_type": "stream",
     "text": [
      "##\n",
      "Input text: What'd they do?\n",
      "Target text: \n",
      "Generated text: What'd you think they'd be doing?\n",
      "Answer: Hallucination\n",
      "##\n",
      "Input text: Dead or alive, you're coming with me.\n",
      "Target text: \n",
      "Generated text: Dead or alive, you're comin 'into with me.\n",
      "Answer: Hallucination\n",
      "##\n",
      "Input text: Maybe you can use one of these.\n",
      "Target text: \n",
      "Generated text: Maybe you can use one of these cuffs.\n",
      "Answer: Hallucination\n",
      "##\n",
      "Input text: Hey, Frankie.\n",
      "Target text: \n",
      "Generated text: Hey, frankie.\n",
      "Answer: Not Hallucination\n",
      "##\n",
      "Input text: I seem to come back to the present when I finish some chapter in the lives of people that I'm tracking.\n",
      "Target text: \n",
      "Generated text: I seem to come back to the present when I'm finishing some chapter in the lives of people that I'm tracking.\n",
      "Answer: Not Hallucination\n",
      "##\n",
      "Input text: Could be dangerous.\n",
      "Target text: \n",
      "Generated text: It could be dangerously.\n",
      "Answer: Not Hallucination\n",
      "\n"
     ]
    }
   ],
   "source": [
    "pg_pds_pos = [ pd for pd in pg_pds if pd[\"classification\"][\"label\"] == \"Hallucination\" ]\n",
    "pg_pds_neg = [ pd for pd in pg_pds if pd[\"classification\"][\"label\"] == \"Not Hallucination\" ]\n",
    "selected_pg_pds = select_pseudo_demos(pg_pds_pos) + select_pseudo_demos(pg_pds_neg)\n",
    "pg_demos = serialize_selected_pseudo_demos(selected_pg_pds)\n",
    "print(pg_demos)"
   ]
  },
  {
   "cell_type": "code",
   "execution_count": 13,
   "metadata": {},
   "outputs": [
    {
     "name": "stdout",
     "output_type": "stream",
     "text": [
      "##\n",
      "Input text: Том сказал, когда вернётся?\n",
      "Target text: Did Tom say when he'd be back?\n",
      "Generated text: Tom said when he got back?\n",
      "Answer: Hallucination\n",
      "##\n",
      "Input text: Он нам сейчас не нужен.\n",
      "Target text: We don't need it now.\n",
      "Generated text: We don't need him now.\n",
      "Answer: Hallucination\n",
      "##\n",
      "Input text: Едва завидев меня, Том рассмеялся.\n",
      "Target text: As soon as Tom saw me, he started laughing.\n",
      "Generated text: Two jealous of me, Tom laughed.\n",
      "Answer: Hallucination\n",
      "##\n",
      "Input text: Я получаю всё, что хочу.\n",
      "Target text: I get everything I want.\n",
      "Generated text: I get everything I want.\n",
      "Answer: Not Hallucination\n",
      "##\n",
      "Input text: День подошёл к концу. Благодаря Вашим своевременным усилиям, люди, которые стремились помочь Вам в Ваших трудах, не успели подвергнуть себя опасности. В Театре, Маски репетируют новую пантомиму.\n",
      "Target text: The day has reached its end. Thanks to your timely efforts, people who intended to help you in your labours managed not to throw themselves into danger. In the theater, the masks are rehearsing a new pantomime.\n",
      "Generated text: The day has come to an end. Thanks to your timely efforts, people who sought to help you in your work, did not have time to put themselves in danger. In the Theater, Masks rehearse a new pantomime.\n",
      "Answer: Not Hallucination\n",
      "##\n",
      "Input text: Как вас уговорили присоединиться к поисковому отряду?\n",
      "Target text: How were you persuaded to join the search party?\n",
      "Generated text: How did you get involved in joining a search team?\n",
      "Answer: Not Hallucination\n",
      "\n"
     ]
    }
   ],
   "source": [
    "mt_pds_pos = [ pd for pd in mt_pds if pd[\"classification\"][\"label\"] == \"Hallucination\" ]\n",
    "mt_pds_neg = [ pd for pd in mt_pds if pd[\"classification\"][\"label\"] == \"Not Hallucination\" ]\n",
    "selected_mt_pds = select_pseudo_demos(mt_pds_pos) + select_pseudo_demos(mt_pds_neg)\n",
    "mt_demos = serialize_selected_pseudo_demos(selected_mt_pds)\n",
    "print(mt_demos)"
   ]
  }
 ],
 "metadata": {
  "kernelspec": {
   "display_name": "conceptual-engineering-using-llms",
   "language": "python",
   "name": "python3"
  },
  "language_info": {
   "codemirror_mode": {
    "name": "ipython",
    "version": 3
   },
   "file_extension": ".py",
   "mimetype": "text/x-python",
   "name": "python",
   "nbconvert_exporter": "python",
   "pygments_lexer": "ipython3",
   "version": "3.11.4"
  },
  "orig_nbformat": 4
 },
 "nbformat": 4,
 "nbformat_minor": 2
}
