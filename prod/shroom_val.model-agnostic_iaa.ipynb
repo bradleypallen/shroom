{
 "cells": [
  {
   "cell_type": "code",
   "execution_count": 139,
   "metadata": {},
   "outputs": [],
   "source": [
    "import json, pycm, itertools, pandas as pd, numpy as np, seaborn as sns, matplotlib.pyplot as plt\n",
    "from scipy.stats import spearmanr"
   ]
  },
  {
   "cell_type": "code",
   "execution_count": 2,
   "metadata": {},
   "outputs": [],
   "source": [
    "val_model_agnostic_data = json.load(open('reference/val.model-agnostic.json', 'r'))"
   ]
  },
  {
   "cell_type": "code",
   "execution_count": 3,
   "metadata": {},
   "outputs": [],
   "source": [
    "classifier_data = json.load(open('results/val.model-agnostic.gpt-4-0125-preview-v13-20-sample-selection-4-2024-01-28', 'r'))"
   ]
  },
  {
   "cell_type": "code",
   "execution_count": 39,
   "metadata": {},
   "outputs": [
    {
     "data": {
      "text/plain": [
       "{'hyp': 'Resembling or characteristic of a weasel.',\n",
       " 'ref': 'tgt',\n",
       " 'src': 'The writer had just entered into his eighteenth year , when he met at the table of a certain Anglo - Germanist an individual , apparently somewhat under thirty , of middle stature , a thin and <define> weaselly </define> figure , a sallow complexion , a certain obliquity of vision , and a large pair of spectacles .',\n",
       " 'tgt': 'Resembling a weasel (in appearance).',\n",
       " 'model': '',\n",
       " 'task': 'DM',\n",
       " 'labels': ['Hallucination',\n",
       "  'Not Hallucination',\n",
       "  'Not Hallucination',\n",
       "  'Not Hallucination',\n",
       "  'Not Hallucination'],\n",
       " 'label': 'Not Hallucination',\n",
       " 'p(Hallucination)': 0.2}"
      ]
     },
     "execution_count": 39,
     "metadata": {},
     "output_type": "execute_result"
    }
   ],
   "source": [
    "val_model_agnostic_data[0]"
   ]
  },
  {
   "cell_type": "code",
   "execution_count": 54,
   "metadata": {},
   "outputs": [],
   "source": [
    "labeling = [ \n",
    "    { \n",
    "        \"h0\": dp[\"labels\"][0], \n",
    "        \"h1\": dp[\"labels\"][1], \n",
    "        \"h2\": dp[\"labels\"][2], \n",
    "        \"h3\": dp[\"labels\"][3], \n",
    "        \"h4\": dp[\"labels\"][4],\n",
    "        \"h_hallucination\": sum([ 1 for label in dp[\"labels\"] if label == 'Hallucination']),\n",
    "        \"h_not_hallucination\": sum([ 1 for label in dp[\"labels\"] if label == 'Not Hallucination']),\n",
    "        \"h_consensus\": dp[\"label\"],\n",
    "        \"h_prob\": float(dp[\"p(Hallucination)\"]),\n",
    "        \"llm\": classifier_data[i]['label'],\n",
    "        \"llm_prob\": float(classifier_data[i][\"p(Hallucination)\"])\n",
    "    } for i, dp in enumerate(val_model_agnostic_data)\n",
    "]"
   ]
  },
  {
   "cell_type": "code",
   "execution_count": 130,
   "metadata": {},
   "outputs": [],
   "source": [
    "df = pd.DataFrame.from_records(labeling)"
   ]
  },
  {
   "cell_type": "code",
   "execution_count": 131,
   "metadata": {},
   "outputs": [
    {
     "data": {
      "text/html": [
       "<div>\n",
       "<style scoped>\n",
       "    .dataframe tbody tr th:only-of-type {\n",
       "        vertical-align: middle;\n",
       "    }\n",
       "\n",
       "    .dataframe tbody tr th {\n",
       "        vertical-align: top;\n",
       "    }\n",
       "\n",
       "    .dataframe thead th {\n",
       "        text-align: right;\n",
       "    }\n",
       "</style>\n",
       "<table border=\"1\" class=\"dataframe\">\n",
       "  <thead>\n",
       "    <tr style=\"text-align: right;\">\n",
       "      <th></th>\n",
       "      <th>h0</th>\n",
       "      <th>h1</th>\n",
       "      <th>h2</th>\n",
       "      <th>h3</th>\n",
       "      <th>h4</th>\n",
       "      <th>h_hallucination</th>\n",
       "      <th>h_not_hallucination</th>\n",
       "      <th>h_consensus</th>\n",
       "      <th>h_prob</th>\n",
       "      <th>llm</th>\n",
       "      <th>llm_prob</th>\n",
       "    </tr>\n",
       "  </thead>\n",
       "  <tbody>\n",
       "    <tr>\n",
       "      <th>0</th>\n",
       "      <td>Hallucination</td>\n",
       "      <td>Not Hallucination</td>\n",
       "      <td>Not Hallucination</td>\n",
       "      <td>Not Hallucination</td>\n",
       "      <td>Not Hallucination</td>\n",
       "      <td>1</td>\n",
       "      <td>4</td>\n",
       "      <td>Not Hallucination</td>\n",
       "      <td>0.2</td>\n",
       "      <td>Not Hallucination</td>\n",
       "      <td>0.00</td>\n",
       "    </tr>\n",
       "    <tr>\n",
       "      <th>1</th>\n",
       "      <td>Hallucination</td>\n",
       "      <td>Hallucination</td>\n",
       "      <td>Hallucination</td>\n",
       "      <td>Hallucination</td>\n",
       "      <td>Not Hallucination</td>\n",
       "      <td>4</td>\n",
       "      <td>1</td>\n",
       "      <td>Hallucination</td>\n",
       "      <td>0.8</td>\n",
       "      <td>Not Hallucination</td>\n",
       "      <td>0.00</td>\n",
       "    </tr>\n",
       "    <tr>\n",
       "      <th>2</th>\n",
       "      <td>Not Hallucination</td>\n",
       "      <td>Not Hallucination</td>\n",
       "      <td>Not Hallucination</td>\n",
       "      <td>Not Hallucination</td>\n",
       "      <td>Not Hallucination</td>\n",
       "      <td>0</td>\n",
       "      <td>5</td>\n",
       "      <td>Not Hallucination</td>\n",
       "      <td>0.0</td>\n",
       "      <td>Hallucination</td>\n",
       "      <td>0.65</td>\n",
       "    </tr>\n",
       "    <tr>\n",
       "      <th>3</th>\n",
       "      <td>Not Hallucination</td>\n",
       "      <td>Not Hallucination</td>\n",
       "      <td>Hallucination</td>\n",
       "      <td>Not Hallucination</td>\n",
       "      <td>Not Hallucination</td>\n",
       "      <td>1</td>\n",
       "      <td>4</td>\n",
       "      <td>Not Hallucination</td>\n",
       "      <td>0.2</td>\n",
       "      <td>Hallucination</td>\n",
       "      <td>1.00</td>\n",
       "    </tr>\n",
       "    <tr>\n",
       "      <th>4</th>\n",
       "      <td>Not Hallucination</td>\n",
       "      <td>Not Hallucination</td>\n",
       "      <td>Not Hallucination</td>\n",
       "      <td>Not Hallucination</td>\n",
       "      <td>Not Hallucination</td>\n",
       "      <td>0</td>\n",
       "      <td>5</td>\n",
       "      <td>Not Hallucination</td>\n",
       "      <td>0.0</td>\n",
       "      <td>Not Hallucination</td>\n",
       "      <td>0.10</td>\n",
       "    </tr>\n",
       "  </tbody>\n",
       "</table>\n",
       "</div>"
      ],
      "text/plain": [
       "                  h0                 h1                 h2                 h3  \\\n",
       "0      Hallucination  Not Hallucination  Not Hallucination  Not Hallucination   \n",
       "1      Hallucination      Hallucination      Hallucination      Hallucination   \n",
       "2  Not Hallucination  Not Hallucination  Not Hallucination  Not Hallucination   \n",
       "3  Not Hallucination  Not Hallucination      Hallucination  Not Hallucination   \n",
       "4  Not Hallucination  Not Hallucination  Not Hallucination  Not Hallucination   \n",
       "\n",
       "                  h4  h_hallucination  h_not_hallucination        h_consensus  \\\n",
       "0  Not Hallucination                1                    4  Not Hallucination   \n",
       "1  Not Hallucination                4                    1      Hallucination   \n",
       "2  Not Hallucination                0                    5  Not Hallucination   \n",
       "3  Not Hallucination                1                    4  Not Hallucination   \n",
       "4  Not Hallucination                0                    5  Not Hallucination   \n",
       "\n",
       "   h_prob                llm  llm_prob  \n",
       "0     0.2  Not Hallucination      0.00  \n",
       "1     0.8  Not Hallucination      0.00  \n",
       "2     0.0      Hallucination      0.65  \n",
       "3     0.2      Hallucination      1.00  \n",
       "4     0.0  Not Hallucination      0.10  "
      ]
     },
     "execution_count": 131,
     "metadata": {},
     "output_type": "execute_result"
    }
   ],
   "source": [
    "df.head()"
   ]
  },
  {
   "cell_type": "code",
   "execution_count": 132,
   "metadata": {},
   "outputs": [],
   "source": [
    "def P_i(row, n, col_1=\"h_hallucination\", col_2=\"h_not_hallucination\"):\n",
    "    return (1. / float(n * (n - 1))) * float(((row[col_1] ** 2) + (row[col_2] ** 2)) - n)"
   ]
  },
  {
   "cell_type": "code",
   "execution_count": 133,
   "metadata": {},
   "outputs": [],
   "source": [
    "def fleiss_kappa(df, n, col_1=\"h_hallucination\", col_2=\"h_not_hallucination\", col_P_i=\"P_i\"):\n",
    "    N = len(df)\n",
    "    p_1 = (1. / float(N*n)) * df[col_1].sum()\n",
    "    p_2 = (1. / float(N*n)) * df[col_2].sum()\n",
    "    P_bar_e = p_1 ** 2. + p_2 ** 2.\n",
    "    df[col_P_i] = df.apply(lambda x: P_i(x, n, col_1, col_2), axis=1)\n",
    "    P_bar = (1. / float(N)) * df[col_P_i].sum()\n",
    "    return (P_bar - P_bar_e) / (1. - P_bar_e)"
   ]
  },
  {
   "cell_type": "code",
   "execution_count": 134,
   "metadata": {},
   "outputs": [],
   "source": [
    "df[\"h_plus_llm_hallucination\"] = df.apply(lambda x: x[\"h_hallucination\"] + 1 if x[\"llm\"] == \"Hallucination\" else x[\"h_hallucination\"], axis=1)\n",
    "df[\"h_plus_llm_not_hallucination\"] = df.apply(lambda x: 6 - x[\"h_plus_llm_hallucination\"], axis=1)"
   ]
  },
  {
   "cell_type": "code",
   "execution_count": 135,
   "metadata": {},
   "outputs": [
    {
     "name": "stdout",
     "output_type": "stream",
     "text": [
      "0.3727529158707229 0.40506786646813814 -0.03231495059741524\n"
     ]
    }
   ],
   "source": [
    "human_kappa = fleiss_kappa(df, 5)\n",
    "human_plus_llm_kappa = fleiss_kappa(df, 6, col_1=\"h_plus_llm_hallucination\", col_2=\"h_plus_llm_not_hallucination\", col_P_i=\"P_i_h_plus_llm\")\n",
    "print(human_kappa, human_plus_llm_kappa, human_kappa - human_plus_llm_kappa)"
   ]
  },
  {
   "cell_type": "code",
   "execution_count": 6,
   "metadata": {},
   "outputs": [],
   "source": [
    "def pairwise_cm(labeling, labeler_1, labeler_2):\n",
    "    return pycm.ConfusionMatrix(labeling[labeler_1].tolist(), labeling[labeler_2].tolist(), digit=2, classes=[ 'Hallucination', 'Not Hallucination' ])"
   ]
  },
  {
   "cell_type": "code",
   "execution_count": 23,
   "metadata": {},
   "outputs": [],
   "source": [
    "labelers = ['h0', 'h1', 'h2', 'h3', 'h4', 'llm']"
   ]
  },
  {
   "cell_type": "code",
   "execution_count": 37,
   "metadata": {},
   "outputs": [
    {
     "data": {
      "image/png": "[encoded data removed]",
      "text/plain": [
       "<Figure size 1000x800 with 2 Axes>"
      ]
     },
     "metadata": {},
     "output_type": "display_data"
    }
   ],
   "source": [
    "data = {\n",
    "    'h0': [ pairwise_cm(df, 'h0', label).Kappa for label in labelers ],\n",
    "    'h1': [ pairwise_cm(df, 'h1', label).Kappa for label in labelers ],\n",
    "    'h2': [ pairwise_cm(df, 'h2', label).Kappa for label in labelers ],\n",
    "    'h3': [ pairwise_cm(df, 'h3', label).Kappa for label in labelers ],\n",
    "    'h4': [ pairwise_cm(df, 'h4', label).Kappa for label in labelers ],\n",
    "    'llm': [ pairwise_cm(df, 'llm', label).Kappa for label in labelers ],\n",
    "}\n",
    "\n",
    "kappa_df = pd.DataFrame(data, index=['h0', 'h1', 'h2', 'h3', 'h4', 'llm'])\n",
    "\n",
    "plt.figure(figsize=(10, 8))\n",
    "sns.heatmap(kappa_df, annot=True, cmap=\"coolwarm\", vmin=0, vmax=1)\n",
    "plt.title('pairwise Cohen\\'s kappa')\n",
    "plt.show()"
   ]
  },
  {
   "cell_type": "code",
   "execution_count": 38,
   "metadata": {},
   "outputs": [
    {
     "data": {
      "image/png": "[encoded data removed]",
      "text/plain": [
       "<Figure size 1000x800 with 2 Axes>"
      ]
     },
     "metadata": {},
     "output_type": "display_data"
    }
   ],
   "source": [
    "mask = np.triu(np.ones_like(kappa_df, dtype=bool))\n",
    "\n",
    "plt.figure(figsize=(10, 8))\n",
    "sns.heatmap(kappa_df, annot=True, mask=mask, cmap=\"coolwarm\", vmin=0, vmax=1, cbar_kws={'shrink': .5})\n",
    "plt.title('pairwise Cohen\\'s kappa')\n",
    "plt.show()"
   ]
  },
  {
   "cell_type": "code",
   "execution_count": 70,
   "metadata": {},
   "outputs": [
    {
     "data": {
      "text/plain": [
       "pycm.ConfusionMatrix(classes: ['Hallucination', 'Not Hallucination'])"
      ]
     },
     "execution_count": 70,
     "metadata": {},
     "output_type": "execute_result"
    }
   ],
   "source": [
    "pairwise_cm(df, 'h_consensus', 'llm')"
   ]
  },
  {
   "cell_type": "code",
   "execution_count": 71,
   "metadata": {},
   "outputs": [
    {
     "data": {
      "text/plain": [
       "0.6225753718779737"
      ]
     },
     "execution_count": 71,
     "metadata": {},
     "output_type": "execute_result"
    }
   ],
   "source": [
    "_.Kappa"
   ]
  },
  {
   "cell_type": "code",
   "execution_count": 154,
   "metadata": {},
   "outputs": [],
   "source": [
    "df_h_low_confidence = df[ (df[\"h_hallucination\"] == 2) | (df[\"h_hallucination\"] == 3) ]"
   ]
  },
  {
   "cell_type": "code",
   "execution_count": 155,
   "metadata": {},
   "outputs": [],
   "source": [
    "df_h_high_confidence = df[ (df[\"h_hallucination\"] == 4) | (df[\"h_hallucination\"] == 1) ]"
   ]
  },
  {
   "cell_type": "code",
   "execution_count": 156,
   "metadata": {},
   "outputs": [],
   "source": [
    "df_h_very_high_confidence = df[ (df[\"h_hallucination\"] == 5) | (df[\"h_hallucination\"] == 0) ]"
   ]
  },
  {
   "cell_type": "code",
   "execution_count": 157,
   "metadata": {},
   "outputs": [
    {
     "data": {
      "text/plain": [
       "171"
      ]
     },
     "execution_count": 157,
     "metadata": {},
     "output_type": "execute_result"
    }
   ],
   "source": [
    "len(df_h_high_confidence)"
   ]
  },
  {
   "cell_type": "code",
   "execution_count": 158,
   "metadata": {},
   "outputs": [
    {
     "data": {
      "text/plain": [
       "183"
      ]
     },
     "execution_count": 158,
     "metadata": {},
     "output_type": "execute_result"
    }
   ],
   "source": [
    "len(df_h_very_high_confidence)"
   ]
  },
  {
   "cell_type": "code",
   "execution_count": 159,
   "metadata": {},
   "outputs": [
    {
     "data": {
      "text/plain": [
       "145"
      ]
     },
     "execution_count": 159,
     "metadata": {},
     "output_type": "execute_result"
    }
   ],
   "source": [
    "len(df_h_low_confidence)"
   ]
  },
  {
   "cell_type": "code",
   "execution_count": 164,
   "metadata": {},
   "outputs": [
    {
     "data": {
      "text/plain": [
       "0.700944386149003"
      ]
     },
     "execution_count": 164,
     "metadata": {},
     "output_type": "execute_result"
    }
   ],
   "source": [
    "pairwise_cm(df_h_high_confidence, 'h_consensus', 'llm').Kappa"
   ]
  },
  {
   "cell_type": "code",
   "execution_count": 149,
   "metadata": {},
   "outputs": [
    {
     "data": {
      "text/plain": [
       "0.23779030870687193"
      ]
     },
     "execution_count": 149,
     "metadata": {},
     "output_type": "execute_result"
    }
   ],
   "source": [
    "pairwise_cm(df_h_low_confidence, 'h_consensus', 'llm').Kappa"
   ]
  },
  {
   "cell_type": "code",
   "execution_count": 163,
   "metadata": {},
   "outputs": [
    {
     "data": {
      "text/plain": [
       "{'Hallucination': 0.8538011695906432, 'Not Hallucination': 0.8538011695906432}"
      ]
     },
     "execution_count": 163,
     "metadata": {},
     "output_type": "execute_result"
    }
   ],
   "source": [
    "pairwise_cm(df_h_high_confidence, 'h_consensus', 'llm').ACC"
   ]
  },
  {
   "cell_type": "code",
   "execution_count": 148,
   "metadata": {},
   "outputs": [
    {
     "data": {
      "text/plain": [
       "{'Hallucination': 0.6206896551724138, 'Not Hallucination': 0.6206896551724138}"
      ]
     },
     "execution_count": 148,
     "metadata": {},
     "output_type": "execute_result"
    }
   ],
   "source": [
    "pairwise_cm(df_h_low_confidence, 'h_consensus', 'llm').ACC"
   ]
  },
  {
   "cell_type": "code",
   "execution_count": 82,
   "metadata": {},
   "outputs": [
    {
     "data": {
      "text/plain": [
       "0.8562103354487761"
      ]
     },
     "execution_count": 82,
     "metadata": {},
     "output_type": "execute_result"
    }
   ],
   "source": [
    "pairwise_cm(df_h_very_high_confidence, 'h_consensus', 'llm').Kappa"
   ]
  },
  {
   "cell_type": "code",
   "execution_count": 138,
   "metadata": {},
   "outputs": [
    {
     "data": {
      "text/plain": [
       "{'Hallucination': 0.9289617486338798, 'Not Hallucination': 0.9289617486338798}"
      ]
     },
     "execution_count": 138,
     "metadata": {},
     "output_type": "execute_result"
    }
   ],
   "source": [
    "pairwise_cm(df_h_very_high_confidence, 'h_consensus', 'llm').ACC"
   ]
  },
  {
   "cell_type": "code",
   "execution_count": 140,
   "metadata": {},
   "outputs": [
    {
     "data": {
      "text/html": [
       "<div>\n",
       "<style scoped>\n",
       "    .dataframe tbody tr th:only-of-type {\n",
       "        vertical-align: middle;\n",
       "    }\n",
       "\n",
       "    .dataframe tbody tr th {\n",
       "        vertical-align: top;\n",
       "    }\n",
       "\n",
       "    .dataframe thead th {\n",
       "        text-align: right;\n",
       "    }\n",
       "</style>\n",
       "<table border=\"1\" class=\"dataframe\">\n",
       "  <thead>\n",
       "    <tr style=\"text-align: right;\">\n",
       "      <th></th>\n",
       "      <th>h0</th>\n",
       "      <th>h1</th>\n",
       "      <th>h2</th>\n",
       "      <th>h3</th>\n",
       "      <th>h4</th>\n",
       "      <th>h_hallucination</th>\n",
       "      <th>h_not_hallucination</th>\n",
       "      <th>h_consensus</th>\n",
       "      <th>h_prob</th>\n",
       "      <th>llm</th>\n",
       "      <th>llm_prob</th>\n",
       "      <th>P_i</th>\n",
       "    </tr>\n",
       "  </thead>\n",
       "  <tbody>\n",
       "    <tr>\n",
       "      <th>0</th>\n",
       "      <td>Hallucination</td>\n",
       "      <td>Not Hallucination</td>\n",
       "      <td>Not Hallucination</td>\n",
       "      <td>Not Hallucination</td>\n",
       "      <td>Not Hallucination</td>\n",
       "      <td>1</td>\n",
       "      <td>4</td>\n",
       "      <td>Not Hallucination</td>\n",
       "      <td>0.2</td>\n",
       "      <td>Not Hallucination</td>\n",
       "      <td>0.00</td>\n",
       "      <td>0.6</td>\n",
       "    </tr>\n",
       "    <tr>\n",
       "      <th>1</th>\n",
       "      <td>Hallucination</td>\n",
       "      <td>Hallucination</td>\n",
       "      <td>Hallucination</td>\n",
       "      <td>Hallucination</td>\n",
       "      <td>Not Hallucination</td>\n",
       "      <td>4</td>\n",
       "      <td>1</td>\n",
       "      <td>Hallucination</td>\n",
       "      <td>0.8</td>\n",
       "      <td>Not Hallucination</td>\n",
       "      <td>0.00</td>\n",
       "      <td>0.6</td>\n",
       "    </tr>\n",
       "    <tr>\n",
       "      <th>2</th>\n",
       "      <td>Not Hallucination</td>\n",
       "      <td>Not Hallucination</td>\n",
       "      <td>Not Hallucination</td>\n",
       "      <td>Not Hallucination</td>\n",
       "      <td>Not Hallucination</td>\n",
       "      <td>0</td>\n",
       "      <td>5</td>\n",
       "      <td>Not Hallucination</td>\n",
       "      <td>0.0</td>\n",
       "      <td>Hallucination</td>\n",
       "      <td>0.65</td>\n",
       "      <td>1.0</td>\n",
       "    </tr>\n",
       "    <tr>\n",
       "      <th>3</th>\n",
       "      <td>Not Hallucination</td>\n",
       "      <td>Not Hallucination</td>\n",
       "      <td>Hallucination</td>\n",
       "      <td>Not Hallucination</td>\n",
       "      <td>Not Hallucination</td>\n",
       "      <td>1</td>\n",
       "      <td>4</td>\n",
       "      <td>Not Hallucination</td>\n",
       "      <td>0.2</td>\n",
       "      <td>Hallucination</td>\n",
       "      <td>1.00</td>\n",
       "      <td>0.6</td>\n",
       "    </tr>\n",
       "    <tr>\n",
       "      <th>4</th>\n",
       "      <td>Not Hallucination</td>\n",
       "      <td>Not Hallucination</td>\n",
       "      <td>Not Hallucination</td>\n",
       "      <td>Not Hallucination</td>\n",
       "      <td>Not Hallucination</td>\n",
       "      <td>0</td>\n",
       "      <td>5</td>\n",
       "      <td>Not Hallucination</td>\n",
       "      <td>0.0</td>\n",
       "      <td>Not Hallucination</td>\n",
       "      <td>0.10</td>\n",
       "      <td>1.0</td>\n",
       "    </tr>\n",
       "    <tr>\n",
       "      <th>...</th>\n",
       "      <td>...</td>\n",
       "      <td>...</td>\n",
       "      <td>...</td>\n",
       "      <td>...</td>\n",
       "      <td>...</td>\n",
       "      <td>...</td>\n",
       "      <td>...</td>\n",
       "      <td>...</td>\n",
       "      <td>...</td>\n",
       "      <td>...</td>\n",
       "      <td>...</td>\n",
       "      <td>...</td>\n",
       "    </tr>\n",
       "    <tr>\n",
       "      <th>494</th>\n",
       "      <td>Not Hallucination</td>\n",
       "      <td>Not Hallucination</td>\n",
       "      <td>Not Hallucination</td>\n",
       "      <td>Not Hallucination</td>\n",
       "      <td>Not Hallucination</td>\n",
       "      <td>0</td>\n",
       "      <td>5</td>\n",
       "      <td>Not Hallucination</td>\n",
       "      <td>0.0</td>\n",
       "      <td>Not Hallucination</td>\n",
       "      <td>0.00</td>\n",
       "      <td>1.0</td>\n",
       "    </tr>\n",
       "    <tr>\n",
       "      <th>495</th>\n",
       "      <td>Not Hallucination</td>\n",
       "      <td>Hallucination</td>\n",
       "      <td>Not Hallucination</td>\n",
       "      <td>Not Hallucination</td>\n",
       "      <td>Not Hallucination</td>\n",
       "      <td>1</td>\n",
       "      <td>4</td>\n",
       "      <td>Not Hallucination</td>\n",
       "      <td>0.2</td>\n",
       "      <td>Not Hallucination</td>\n",
       "      <td>0.00</td>\n",
       "      <td>0.6</td>\n",
       "    </tr>\n",
       "    <tr>\n",
       "      <th>496</th>\n",
       "      <td>Not Hallucination</td>\n",
       "      <td>Not Hallucination</td>\n",
       "      <td>Not Hallucination</td>\n",
       "      <td>Not Hallucination</td>\n",
       "      <td>Not Hallucination</td>\n",
       "      <td>0</td>\n",
       "      <td>5</td>\n",
       "      <td>Not Hallucination</td>\n",
       "      <td>0.0</td>\n",
       "      <td>Not Hallucination</td>\n",
       "      <td>0.00</td>\n",
       "      <td>1.0</td>\n",
       "    </tr>\n",
       "    <tr>\n",
       "      <th>497</th>\n",
       "      <td>Not Hallucination</td>\n",
       "      <td>Not Hallucination</td>\n",
       "      <td>Not Hallucination</td>\n",
       "      <td>Not Hallucination</td>\n",
       "      <td>Not Hallucination</td>\n",
       "      <td>0</td>\n",
       "      <td>5</td>\n",
       "      <td>Not Hallucination</td>\n",
       "      <td>0.0</td>\n",
       "      <td>Not Hallucination</td>\n",
       "      <td>0.00</td>\n",
       "      <td>1.0</td>\n",
       "    </tr>\n",
       "    <tr>\n",
       "      <th>498</th>\n",
       "      <td>Not Hallucination</td>\n",
       "      <td>Not Hallucination</td>\n",
       "      <td>Not Hallucination</td>\n",
       "      <td>Not Hallucination</td>\n",
       "      <td>Not Hallucination</td>\n",
       "      <td>0</td>\n",
       "      <td>5</td>\n",
       "      <td>Not Hallucination</td>\n",
       "      <td>0.0</td>\n",
       "      <td>Not Hallucination</td>\n",
       "      <td>0.00</td>\n",
       "      <td>1.0</td>\n",
       "    </tr>\n",
       "  </tbody>\n",
       "</table>\n",
       "<p>354 rows × 12 columns</p>\n",
       "</div>"
      ],
      "text/plain": [
       "                    h0                 h1                 h2  \\\n",
       "0        Hallucination  Not Hallucination  Not Hallucination   \n",
       "1        Hallucination      Hallucination      Hallucination   \n",
       "2    Not Hallucination  Not Hallucination  Not Hallucination   \n",
       "3    Not Hallucination  Not Hallucination      Hallucination   \n",
       "4    Not Hallucination  Not Hallucination  Not Hallucination   \n",
       "..                 ...                ...                ...   \n",
       "494  Not Hallucination  Not Hallucination  Not Hallucination   \n",
       "495  Not Hallucination      Hallucination  Not Hallucination   \n",
       "496  Not Hallucination  Not Hallucination  Not Hallucination   \n",
       "497  Not Hallucination  Not Hallucination  Not Hallucination   \n",
       "498  Not Hallucination  Not Hallucination  Not Hallucination   \n",
       "\n",
       "                    h3                 h4  h_hallucination  \\\n",
       "0    Not Hallucination  Not Hallucination                1   \n",
       "1        Hallucination  Not Hallucination                4   \n",
       "2    Not Hallucination  Not Hallucination                0   \n",
       "3    Not Hallucination  Not Hallucination                1   \n",
       "4    Not Hallucination  Not Hallucination                0   \n",
       "..                 ...                ...              ...   \n",
       "494  Not Hallucination  Not Hallucination                0   \n",
       "495  Not Hallucination  Not Hallucination                1   \n",
       "496  Not Hallucination  Not Hallucination                0   \n",
       "497  Not Hallucination  Not Hallucination                0   \n",
       "498  Not Hallucination  Not Hallucination                0   \n",
       "\n",
       "     h_not_hallucination        h_consensus  h_prob                llm  \\\n",
       "0                      4  Not Hallucination     0.2  Not Hallucination   \n",
       "1                      1      Hallucination     0.8  Not Hallucination   \n",
       "2                      5  Not Hallucination     0.0      Hallucination   \n",
       "3                      4  Not Hallucination     0.2      Hallucination   \n",
       "4                      5  Not Hallucination     0.0  Not Hallucination   \n",
       "..                   ...                ...     ...                ...   \n",
       "494                    5  Not Hallucination     0.0  Not Hallucination   \n",
       "495                    4  Not Hallucination     0.2  Not Hallucination   \n",
       "496                    5  Not Hallucination     0.0  Not Hallucination   \n",
       "497                    5  Not Hallucination     0.0  Not Hallucination   \n",
       "498                    5  Not Hallucination     0.0  Not Hallucination   \n",
       "\n",
       "     llm_prob  P_i  \n",
       "0        0.00  0.6  \n",
       "1        0.00  0.6  \n",
       "2        0.65  1.0  \n",
       "3        1.00  0.6  \n",
       "4        0.10  1.0  \n",
       "..        ...  ...  \n",
       "494      0.00  1.0  \n",
       "495      0.00  0.6  \n",
       "496      0.00  1.0  \n",
       "497      0.00  1.0  \n",
       "498      0.00  1.0  \n",
       "\n",
       "[354 rows x 12 columns]"
      ]
     },
     "execution_count": 140,
     "metadata": {},
     "output_type": "execute_result"
    }
   ],
   "source": [
    "df_h_high_confidence"
   ]
  },
  {
   "cell_type": "code",
   "execution_count": 162,
   "metadata": {},
   "outputs": [
    {
     "name": "stdout",
     "output_type": "stream",
     "text": [
      "0.7341239712201545 3.2144098737201325e-30\n"
     ]
    }
   ],
   "source": [
    "\n",
    "rho, pval = spearmanr(df_h_high_confidence['h_prob'], df_h_high_confidence['llm_prob'])\n",
    "print(rho, pval)"
   ]
  },
  {
   "cell_type": "code",
   "execution_count": 143,
   "metadata": {},
   "outputs": [
    {
     "name": "stdout",
     "output_type": "stream",
     "text": [
      "0.8851735361864671 4.76337969427657e-62\n"
     ]
    }
   ],
   "source": [
    "\n",
    "rho, pval = spearmanr(df_h_very_high_confidence['h_prob'], df_h_very_high_confidence['llm_prob'])\n",
    "print(rho, pval)"
   ]
  },
  {
   "cell_type": "code",
   "execution_count": 145,
   "metadata": {},
   "outputs": [
    {
     "name": "stdout",
     "output_type": "stream",
     "text": [
      "0.6966336513428443 1.0743796238398965e-73\n"
     ]
    }
   ],
   "source": [
    "\n",
    "rho, pval = spearmanr(df['h_prob'], df['llm_prob'])\n",
    "print(rho, pval)"
   ]
  },
  {
   "cell_type": "code",
   "execution_count": null,
   "metadata": {},
   "outputs": [],
   "source": []
  }
 ],
 "metadata": {
  "kernelspec": {
   "display_name": "env",
   "language": "python",
   "name": "python3"
  },
  "language_info": {
   "codemirror_mode": {
    "name": "ipython",
    "version": 3
   },
   "file_extension": ".py",
   "mimetype": "text/x-python",
   "name": "python",
   "nbconvert_exporter": "python",
   "pygments_lexer": "ipython3",
   "version": "3.11.4"
  }
 },
 "nbformat": 4,
 "nbformat_minor": 2
}
