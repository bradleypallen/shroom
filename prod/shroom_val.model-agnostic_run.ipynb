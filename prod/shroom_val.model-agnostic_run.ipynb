{
 "cells": [
  {
   "cell_type": "code",
   "execution_count": 1,
   "metadata": {},
   "outputs": [],
   "source": [
    "import json\n",
    "from tqdm import tqdm\n",
    "from shroom_classifier import ShroomClassifier"
   ]
  },
  {
   "cell_type": "code",
   "execution_count": 2,
   "metadata": {},
   "outputs": [],
   "source": [
    "def run_experiment(cp, reference, results, submission):\n",
    "    data = json.load(open(reference, \"r\"))\n",
    "    for dp in tqdm(data):\n",
    "        if \"predicted\" in dp:\n",
    "            pass\n",
    "        else:\n",
    "            dp.update(cp.classify(dp[\"task\"], dp[\"src\"], dp[\"tgt\"], dp[\"hyp\"]))\n",
    "            json.dump(data, open(results, \"w+\"))\n",
    "    submission = [ {\"label\": dp[\"predicted\"], \"p(Hallucination)\": dp[\"predicted_p\"]} for dp in data ]\n",
    "    json.dump(data, open(submission, \"w+\"))"
   ]
  },
  {
   "cell_type": "code",
   "execution_count": 3,
   "metadata": {},
   "outputs": [
    {
     "name": "stderr",
     "output_type": "stream",
     "text": [
      "  2%|▏         | 10/499 [08:25<6:55:17, 50.96s/it]"
     ]
    }
   ],
   "source": [
    "cp = ShroomClassifier(model_name=\"gpt-4-1106-preview\", temperature=0.7)\n",
    "run_experiment(cp, 'reference/val.model-agnostic.json', 'results/val.model-agnostic.json', 'submission/val.model-agnostic.json')"
   ]
  }
 ],
 "metadata": {
  "kernelspec": {
   "display_name": "conceptual-engineering-using-llms",
   "language": "python",
   "name": "python3"
  },
  "language_info": {
   "codemirror_mode": {
    "name": "ipython",
    "version": 3
   },
   "file_extension": ".py",
   "mimetype": "text/x-python",
   "name": "python",
   "nbconvert_exporter": "python",
   "pygments_lexer": "ipython3",
   "version": "3.11.4"
  },
  "orig_nbformat": 4
 },
 "nbformat": 4,
 "nbformat_minor": 2
}
