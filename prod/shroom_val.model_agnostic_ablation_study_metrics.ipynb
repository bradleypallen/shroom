{
 "cells": [
  {
   "cell_type": "code",
   "execution_count": null,
   "metadata": {},
   "outputs": [],
   "source": [
    "import json, pycm, itertools, pandas as pd, numpy as np, seaborn as sns, matplotlib.pyplot as plt\n",
    "from scipy.stats import spearmanr"
   ]
  },
  {
   "cell_type": "code",
   "execution_count": null,
   "metadata": {},
   "outputs": [],
   "source": [
    "experiments = json.load(open('ablation_study_model-agnostic_2.json', 'r'))"
   ]
  },
  {
   "cell_type": "code",
   "execution_count": null,
   "metadata": {},
   "outputs": [],
   "source": [
    "ablation_metrics = {}\n",
    "for experiment in experiments:\n",
    "    df1 = pd.DataFrame.from_records(experiment[\"data\"])\n",
    "    df1a = df1[[\"label\", \"p(Hallucination)\"]].rename(columns={'label': 'h_label', 'p(Hallucination)': 'h_p'})\n",
    "    df2 = pd.DataFrame.from_records(experiment[\"predictions\"])\n",
    "    df2a = df2[[\"label\", \"p(Hallucination)\"]].rename(columns={'label': 's_label', 'p(Hallucination)': 's_p'})\n",
    "    df3 = pd.concat([df1a, df2a], axis=1)\n",
    "    cm = pycm.ConfusionMatrix(df3[\"h_label\"].tolist(), df3[\"s_label\"].tolist(), digit=2, classes=[ 'Hallucination', 'Not Hallucination' ])\n",
    "    rho, _ = spearmanr(df3['h_p'], df3['s_p'])\n",
    "    examples, task_defined, role_defined, hallucination_defined = (experiment[\"config\"][\"examples\"], experiment[\"config\"][\"task_defined\"], experiment[\"config\"][\"role_defined\"], experiment[\"config\"][\"hallucination_defined\"])\n",
    "    if examples and task_defined and role_defined and hallucination_defined:\n",
    "        ablation = \"none\"\n",
    "    elif not examples and task_defined and role_defined and hallucination_defined:\n",
    "        ablation = \"w/o\\nexamples\"\n",
    "    elif not examples and not task_defined and role_defined and hallucination_defined:\n",
    "        ablation = \"and w/o\\ntask\"\n",
    "    elif not examples and not task_defined and not role_defined and hallucination_defined:\n",
    "        ablation = \"and w/o\\nrole\"\n",
    "    elif not examples and not task_defined and not role_defined and not hallucination_defined:\n",
    "        ablation = \"and w/o\\nconcept\"\n",
    "    if not ablation in ablation_metrics:\n",
    "        ablation_metrics[ablation] = { \"accuracy\": [], \"rho\": [], \"kappa\": [] }\n",
    "    ablation_metrics[ablation][\"accuracy\"].append(cm.ACC['Hallucination'])\n",
    "    ablation_metrics[ablation][\"rho\"].append(rho)\n",
    "    ablation_metrics[ablation][\"kappa\"].append(cm.Kappa)"
   ]
  },
  {
   "cell_type": "code",
   "execution_count": null,
   "metadata": {},
   "outputs": [],
   "source": [
    "flattened_metrics = []\n",
    "\n",
    "for ablation, metrics in ablation_metrics.items():\n",
    "    for metric_name, values in metrics.items():\n",
    "        for value in values:\n",
    "            flattened_metrics.append({\"Ablation\": ablation, \"Metric\": metric_name, \"Value\": value})\n",
    "\n",
    "df_long = pd.DataFrame.from_records(flattened_metrics)\n",
    "df_long2 = df_long[df_long[\"Metric\"] == \"accuracy\"]\n",
    "df_long3 = df_long[df_long[\"Metric\"] == \"rho\"]\n",
    "df_long4 = df_long[df_long[\"Metric\"] == \"kappa\"]\n",
    "\n",
    "fig, axes = plt.subplots(nrows=1, ncols=2, figsize=(8, 3.5))\n",
    "\n",
    "sns.set_theme(style=\"whitegrid\")\n",
    "sns.boxplot(x='Ablation', y='Value', data=df_long2, palette=\"Set2\", ax=axes[0])\n",
    "axes[0].set_xlabel('\\nablation')\n",
    "axes[0].set_ylabel('accuracy')\n",
    "axes[0].set_ylim(0.72, 0.79)\n",
    "\n",
    "sns.set_theme(style=\"whitegrid\")\n",
    "sns.boxplot(x='Ablation', y='Value', data=df_long3, palette=\"Set2\", ax=axes[1])\n",
    "axes[1].set_xlabel('\\nablation')\n",
    "axes[1].set_ylabel('rho')\n",
    "axes[1].set_ylim(0.57, 0.65)\n",
    "\n",
    "plt.tight_layout()\n",
    "plt.show()"
   ]
  }
 ],
 "metadata": {
  "kernelspec": {
   "display_name": "env",
   "language": "python",
   "name": "python3"
  },
  "language_info": {
   "codemirror_mode": {
    "name": "ipython",
    "version": 3
   },
   "file_extension": ".py",
   "mimetype": "text/x-python",
   "name": "python",
   "nbconvert_exporter": "python",
   "pygments_lexer": "ipython3",
   "version": "3.11.4"
  }
 },
 "nbformat": 4,
 "nbformat_minor": 2
}
