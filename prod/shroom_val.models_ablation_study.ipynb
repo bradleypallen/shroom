{
 "cells": [
  {
   "cell_type": "code",
   "execution_count": null,
   "metadata": {},
   "outputs": [],
   "source": [
    "import json\n",
    "from datetime import datetime\n",
    "from tqdm import tqdm\n",
    "from shroom_classifier_v13 import ShroomClassifier"
   ]
  },
  {
   "cell_type": "code",
   "execution_count": null,
   "metadata": {},
   "outputs": [],
   "source": [
    "MODEL_NAME = \"gpt-3.5-turbo\"\n",
    "\n",
    "MODEL_AGNOSTIC_FILENAME = 'reference/val.model-agnostic.json'\n",
    "\n",
    "MODEL_AWARE_FILENAME = 'reference/val.model-aware.json'\n",
    "\n",
    "ABLATION_STUDY_FILENAME = 'ablation_study_model-agnostic_2.json'"
   ]
  },
  {
   "cell_type": "code",
   "execution_count": null,
   "metadata": {},
   "outputs": [],
   "source": [
    "def run_experiment(config):\n",
    "    start = datetime.utcnow().isoformat()\n",
    "    cp = ShroomClassifier(config[\"model_name\"], config[\"temperature\"], config[\"examples_per_class\"])\n",
    "    predictions = []\n",
    "    data = json.load(open(config[\"dataset_filename\"], 'r'))\n",
    "    for dp in tqdm(data):\n",
    "        prediction = cp.classify(\n",
    "            dp, \n",
    "            N=config[\"samples\"], \n",
    "            task_defined=config[\"task_defined\"], \n",
    "            role_defined=config[\"role_defined\"], \n",
    "            hallucination_defined=config[\"hallucination_defined\"], \n",
    "            examples=config[\"examples\"]\n",
    "        )\n",
    "        predictions.append(prediction)\n",
    "    return { \n",
    "        \"start\": start, \n",
    "        \"end\": datetime.utcnow().isoformat(), \n",
    "        \"config\": config, \n",
    "        \"data\": data, \n",
    "        \"predictions\": predictions \n",
    "    }"
   ]
  },
  {
   "cell_type": "code",
   "execution_count": null,
   "metadata": {},
   "outputs": [],
   "source": [
    "ablation_settings = [\n",
    "    { \"temperature\": 0.5, \"samples\": 15, \"examples_per_class\": 3, \"examples\": True, \"task_defined\": True, \"role_defined\": True, \"hallucination_defined\": True },\n",
    "    { \"temperature\": 0.5, \"samples\": 15, \"examples_per_class\": 3, \"examples\": False, \"task_defined\": True, \"role_defined\": True, \"hallucination_defined\": True },\n",
    "    { \"temperature\": 0.5, \"samples\": 15, \"examples_per_class\": 3, \"examples\": False, \"task_defined\": False, \"role_defined\": True, \"hallucination_defined\": True },\n",
    "    { \"temperature\": 0.5, \"samples\": 15, \"examples_per_class\": 3, \"examples\": False, \"task_defined\": False, \"role_defined\": False, \"hallucination_defined\": True },\n",
    "    { \"temperature\": 0.5, \"samples\": 15, \"examples_per_class\": 3, \"examples\": False, \"task_defined\": False, \"role_defined\": False, \"hallucination_defined\": False },\n",
    "]"
   ]
  },
  {
   "cell_type": "code",
   "execution_count": null,
   "metadata": {},
   "outputs": [],
   "source": [
    "ablation_configs = []\n",
    "for setting in ablation_settings:\n",
    "    for dataset in [ MODEL_AGNOSTIC_FILENAME ]: # MODEL_AWARE_FILENAME ]: \n",
    "        for run in range(3):\n",
    "            ablation_configs.append(\n",
    "                {\n",
    "                    \"run\": run,\n",
    "                    \"model_name\": MODEL_NAME,\n",
    "                    \"dataset_filename\": dataset,\n",
    "                    \"temperature\": setting[\"temperature\"],\n",
    "                    \"examples_per_class\": setting[\"examples_per_class\"],\n",
    "                    \"samples\": setting[\"samples\"],\n",
    "                    \"task_defined\": setting[\"task_defined\"],\n",
    "                    \"role_defined\": setting[\"role_defined\"],\n",
    "                    \"hallucination_defined\": setting[\"hallucination_defined\"],\n",
    "                    \"examples\": setting[\"examples\"]\n",
    "                }\n",
    "            )\n",
    "len(ablation_configs)"
   ]
  },
  {
   "cell_type": "code",
   "execution_count": null,
   "metadata": {},
   "outputs": [],
   "source": [
    "runs = []\n",
    "for config in ablation_configs:\n",
    "    print(config)\n",
    "    runs.append(run_experiment(config))\n",
    "    json.dump(runs, open(ABLATION_STUDY_FILENAME, 'w+'))"
   ]
  }
 ],
 "metadata": {
  "kernelspec": {
   "display_name": "conceptual-engineering-using-llms",
   "language": "python",
   "name": "python3"
  },
  "language_info": {
   "codemirror_mode": {
    "name": "ipython",
    "version": 3
   },
   "file_extension": ".py",
   "mimetype": "text/x-python",
   "name": "python",
   "nbconvert_exporter": "python",
   "pygments_lexer": "ipython3",
   "version": "3.11.4"
  },
  "orig_nbformat": 4
 },
 "nbformat": 4,
 "nbformat_minor": 2
}
