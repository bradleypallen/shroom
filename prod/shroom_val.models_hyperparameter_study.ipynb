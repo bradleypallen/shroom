{
 "cells": [
  {
   "cell_type": "code",
   "execution_count": 1,
   "metadata": {},
   "outputs": [],
   "source": [
    "import json\n",
    "from datetime import datetime\n",
    "from tqdm import tqdm\n",
    "from shroom_classifier_v13 import ShroomClassifier"
   ]
  },
  {
   "cell_type": "code",
   "execution_count": 2,
   "metadata": {},
   "outputs": [],
   "source": [
    "MODEL_NAME = \"gpt-3.5-turbo\"\n",
    "\n",
    "MODEL_AGNOSTIC_FILENAME = 'reference/val.model-agnostic.json'\n",
    "\n",
    "MODEL_AWARE_FILENAME = 'reference/val.model-aware.json'\n",
    "\n",
    "TEMPERATURE_STUDY_FILENAME = 'temperature_study_model-agnostic.json'\n",
    "\n",
    "EXAMPLES_PER_LABEL_STUDY_FILENAME = 'examples_per_label_study_model-agnostic.json'\n",
    "\n",
    "SAMPLES_PER_QUERY_STUDY_FILENAME = 'samples_per_query_study_model-agnostic.json'"
   ]
  },
  {
   "cell_type": "code",
   "execution_count": 3,
   "metadata": {},
   "outputs": [],
   "source": [
    "def run_experiment(config):\n",
    "    start = datetime.utcnow().isoformat()\n",
    "    cp = ShroomClassifier(config[\"model_name\"], config[\"temperature\"], config[\"examples_per_class\"])\n",
    "    predictions = []\n",
    "    data = json.load(open(config[\"dataset_filename\"], 'r'))\n",
    "    for dp in tqdm(data):\n",
    "        prediction = cp.classify(\n",
    "            dp, \n",
    "            N=config[\"samples\"], \n",
    "            task_defined=config[\"task_defined\"], \n",
    "            role_defined=config[\"role_defined\"], \n",
    "            hallucination_defined=config[\"hallucination_defined\"], \n",
    "            examples=config[\"examples\"]\n",
    "        )\n",
    "        predictions.append(prediction)\n",
    "    return { \n",
    "        \"start\": start, \n",
    "        \"end\": datetime.utcnow().isoformat(), \n",
    "        \"config\": config, \n",
    "        \"data\": data, \n",
    "        \"predictions\": predictions \n",
    "    }"
   ]
  },
  {
   "cell_type": "code",
   "execution_count": 4,
   "metadata": {},
   "outputs": [],
   "source": [
    "temperature_settings = [\n",
    "    { \"temperature\": 0.1, \"samples\": 5, \"examples_per_class\": 1, \"examples\": True, \"task_defined\": True, \"role_defined\": True, \"hallucination_defined\": True },\n",
    "    { \"temperature\": 0.5, \"samples\": 5, \"examples_per_class\": 1, \"examples\": True, \"task_defined\": True, \"role_defined\": True, \"hallucination_defined\": True },\n",
    "    { \"temperature\": 1.0, \"samples\": 5, \"examples_per_class\": 1, \"examples\": True, \"task_defined\": True, \"role_defined\": True, \"hallucination_defined\": True },\n",
    "    { \"temperature\": 1.5, \"samples\": 5, \"examples_per_class\": 1, \"examples\": True, \"task_defined\": True, \"role_defined\": True, \"hallucination_defined\": True },\n",
    "]\n",
    "\n",
    "examples_per_label_settings = [\n",
    "    { \"temperature\": 1.0, \"samples\": 5, \"examples_per_class\": 1, \"examples\": True, \"task_defined\": True, \"role_defined\": True, \"hallucination_defined\": True },\n",
    "    { \"temperature\": 1.0, \"samples\": 5, \"examples_per_class\": 2, \"examples\": True, \"task_defined\": True, \"role_defined\": True, \"hallucination_defined\": True },\n",
    "    { \"temperature\": 1.0, \"samples\": 5, \"examples_per_class\": 3, \"examples\": True, \"task_defined\": True, \"role_defined\": True, \"hallucination_defined\": True },\n",
    "    { \"temperature\": 1.0, \"samples\": 5, \"examples_per_class\": 4, \"examples\": True, \"task_defined\": True, \"role_defined\": True, \"hallucination_defined\": True },\n",
    "    { \"temperature\": 1.0, \"samples\": 5, \"examples_per_class\": 5, \"examples\": True, \"task_defined\": True, \"role_defined\": True, \"hallucination_defined\": True },\n",
    "]\n",
    "\n",
    "samples_settings = [\n",
    "    { \"temperature\": 1.0, \"samples\": 1, \"examples_per_class\": 1, \"examples\": True, \"task_defined\": True, \"role_defined\": True, \"hallucination_defined\": True },\n",
    "    { \"temperature\": 1.0, \"samples\": 5, \"examples_per_class\": 1, \"examples\": True, \"task_defined\": True, \"role_defined\": True, \"hallucination_defined\": True },\n",
    "    { \"temperature\": 1.0, \"samples\": 10, \"examples_per_class\": 1, \"examples\": True, \"task_defined\": True, \"role_defined\": True, \"hallucination_defined\": True },\n",
    "    { \"temperature\": 1.0, \"samples\": 15, \"examples_per_class\": 1, \"examples\": True, \"task_defined\": True, \"role_defined\": True, \"hallucination_defined\": True },\n",
    "    { \"temperature\": 1.0, \"samples\": 20, \"examples_per_class\": 1, \"examples\": True, \"task_defined\": True, \"role_defined\": True, \"hallucination_defined\": True },\n",
    "    { \"temperature\": 1.0, \"samples\": 25, \"examples_per_class\": 1, \"examples\": True, \"task_defined\": True, \"role_defined\": True, \"hallucination_defined\": True },\n",
    "]"
   ]
  },
  {
   "cell_type": "code",
   "execution_count": 5,
   "metadata": {},
   "outputs": [
    {
     "data": {
      "text/plain": [
       "12"
      ]
     },
     "execution_count": 5,
     "metadata": {},
     "output_type": "execute_result"
    }
   ],
   "source": [
    "temperature_configs = []\n",
    "for setting in temperature_settings:\n",
    "    for dataset in [ MODEL_AGNOSTIC_FILENAME ]: # MODEL_AWARE_FILENAME ]: \n",
    "        for run in range(3):\n",
    "            temperature_configs.append(\n",
    "                {\n",
    "                    \"run\": run,\n",
    "                    \"model_name\": MODEL_NAME,\n",
    "                    \"dataset_filename\": dataset,\n",
    "                    \"temperature\": setting[\"temperature\"],\n",
    "                    \"examples_per_class\": setting[\"examples_per_class\"],\n",
    "                    \"samples\": setting[\"samples\"],\n",
    "                    \"task_defined\": setting[\"task_defined\"],\n",
    "                    \"role_defined\": setting[\"role_defined\"],\n",
    "                    \"hallucination_defined\": setting[\"hallucination_defined\"],\n",
    "                    \"examples\": setting[\"examples\"]\n",
    "                }\n",
    "            )\n",
    "len(temperature_configs)"
   ]
  },
  {
   "cell_type": "code",
   "execution_count": 6,
   "metadata": {},
   "outputs": [
    {
     "data": {
      "text/plain": [
       "15"
      ]
     },
     "execution_count": 6,
     "metadata": {},
     "output_type": "execute_result"
    }
   ],
   "source": [
    "examples_per_label_configs = []\n",
    "for setting in examples_per_label_settings:\n",
    "    for dataset in [ MODEL_AGNOSTIC_FILENAME ]: # MODEL_AWARE_FILENAME ]: \n",
    "        for run in range(3):\n",
    "            examples_per_label_configs.append(\n",
    "                {\n",
    "                    \"run\": run,\n",
    "                    \"model_name\": MODEL_NAME,\n",
    "                    \"dataset_filename\": dataset,\n",
    "                    \"temperature\": setting[\"temperature\"],\n",
    "                    \"examples_per_class\": setting[\"examples_per_class\"],\n",
    "                    \"samples\": setting[\"samples\"],\n",
    "                    \"task_defined\": setting[\"task_defined\"],\n",
    "                    \"role_defined\": setting[\"role_defined\"],\n",
    "                    \"hallucination_defined\": setting[\"hallucination_defined\"],\n",
    "                    \"examples\": setting[\"examples\"]\n",
    "                }\n",
    "            )\n",
    "len(examples_per_label_configs)"
   ]
  },
  {
   "cell_type": "code",
   "execution_count": 7,
   "metadata": {},
   "outputs": [
    {
     "data": {
      "text/plain": [
       "18"
      ]
     },
     "execution_count": 7,
     "metadata": {},
     "output_type": "execute_result"
    }
   ],
   "source": [
    "samples_configs = []\n",
    "for setting in samples_settings:\n",
    "    for dataset in [ MODEL_AGNOSTIC_FILENAME ]: # MODEL_AWARE_FILENAME ]: \n",
    "        for run in range(3):\n",
    "            samples_configs.append(\n",
    "                {\n",
    "                    \"run\": run,\n",
    "                    \"model_name\": MODEL_NAME,\n",
    "                    \"dataset_filename\": dataset,\n",
    "                    \"temperature\": setting[\"temperature\"],\n",
    "                    \"examples_per_class\": setting[\"examples_per_class\"],\n",
    "                    \"samples\": setting[\"samples\"],\n",
    "                    \"task_defined\": setting[\"task_defined\"],\n",
    "                    \"role_defined\": setting[\"role_defined\"],\n",
    "                    \"hallucination_defined\": setting[\"hallucination_defined\"],\n",
    "                    \"examples\": setting[\"examples\"]\n",
    "                }\n",
    "            )\n",
    "len(samples_configs)"
   ]
  },
  {
   "cell_type": "code",
   "execution_count": 8,
   "metadata": {},
   "outputs": [
    {
     "name": "stdout",
     "output_type": "stream",
     "text": [
      "{'run': 0, 'model_name': 'gpt-3.5-turbo', 'dataset_filename': 'reference/val.model-agnostic.json', 'temperature': 0.1, 'examples_per_class': 1, 'samples': 5, 'task_defined': True, 'role_defined': True, 'hallucination_defined': True, 'examples': True}\n"
     ]
    },
    {
     "name": "stderr",
     "output_type": "stream",
     "text": [
      "100%|██████████| 499/499 [17:28<00:00,  2.10s/it]  \n"
     ]
    },
    {
     "name": "stdout",
     "output_type": "stream",
     "text": [
      "{'run': 1, 'model_name': 'gpt-3.5-turbo', 'dataset_filename': 'reference/val.model-agnostic.json', 'temperature': 0.1, 'examples_per_class': 1, 'samples': 5, 'task_defined': True, 'role_defined': True, 'hallucination_defined': True, 'examples': True}\n"
     ]
    },
    {
     "name": "stderr",
     "output_type": "stream",
     "text": [
      "100%|██████████| 499/499 [1:09:06<00:00,  8.31s/it]   \n"
     ]
    },
    {
     "name": "stdout",
     "output_type": "stream",
     "text": [
      "{'run': 2, 'model_name': 'gpt-3.5-turbo', 'dataset_filename': 'reference/val.model-agnostic.json', 'temperature': 0.1, 'examples_per_class': 1, 'samples': 5, 'task_defined': True, 'role_defined': True, 'hallucination_defined': True, 'examples': True}\n"
     ]
    },
    {
     "name": "stderr",
     "output_type": "stream",
     "text": [
      "100%|██████████| 499/499 [1:35:22<00:00, 11.47s/it]    \n"
     ]
    },
    {
     "name": "stdout",
     "output_type": "stream",
     "text": [
      "{'run': 0, 'model_name': 'gpt-3.5-turbo', 'dataset_filename': 'reference/val.model-agnostic.json', 'temperature': 0.5, 'examples_per_class': 1, 'samples': 5, 'task_defined': True, 'role_defined': True, 'hallucination_defined': True, 'examples': True}\n"
     ]
    },
    {
     "name": "stderr",
     "output_type": "stream",
     "text": [
      "100%|██████████| 499/499 [23:15<00:00,  2.80s/it]  \n"
     ]
    },
    {
     "name": "stdout",
     "output_type": "stream",
     "text": [
      "{'run': 1, 'model_name': 'gpt-3.5-turbo', 'dataset_filename': 'reference/val.model-agnostic.json', 'temperature': 0.5, 'examples_per_class': 1, 'samples': 5, 'task_defined': True, 'role_defined': True, 'hallucination_defined': True, 'examples': True}\n"
     ]
    },
    {
     "name": "stderr",
     "output_type": "stream",
     "text": [
      "100%|██████████| 499/499 [1:51:54<00:00, 13.46s/it]    \n"
     ]
    },
    {
     "name": "stdout",
     "output_type": "stream",
     "text": [
      "{'run': 2, 'model_name': 'gpt-3.5-turbo', 'dataset_filename': 'reference/val.model-agnostic.json', 'temperature': 0.5, 'examples_per_class': 1, 'samples': 5, 'task_defined': True, 'role_defined': True, 'hallucination_defined': True, 'examples': True}\n"
     ]
    },
    {
     "name": "stderr",
     "output_type": "stream",
     "text": [
      "100%|██████████| 499/499 [15:14<00:00,  1.83s/it]  \n"
     ]
    },
    {
     "name": "stdout",
     "output_type": "stream",
     "text": [
      "{'run': 0, 'model_name': 'gpt-3.5-turbo', 'dataset_filename': 'reference/val.model-agnostic.json', 'temperature': 1.0, 'examples_per_class': 1, 'samples': 5, 'task_defined': True, 'role_defined': True, 'hallucination_defined': True, 'examples': True}\n"
     ]
    },
    {
     "name": "stderr",
     "output_type": "stream",
     "text": [
      "100%|██████████| 499/499 [13:48<00:00,  1.66s/it]  \n"
     ]
    },
    {
     "name": "stdout",
     "output_type": "stream",
     "text": [
      "{'run': 1, 'model_name': 'gpt-3.5-turbo', 'dataset_filename': 'reference/val.model-agnostic.json', 'temperature': 1.0, 'examples_per_class': 1, 'samples': 5, 'task_defined': True, 'role_defined': True, 'hallucination_defined': True, 'examples': True}\n"
     ]
    },
    {
     "name": "stderr",
     "output_type": "stream",
     "text": [
      "100%|██████████| 499/499 [24:35<00:00,  2.96s/it]  \n"
     ]
    },
    {
     "name": "stdout",
     "output_type": "stream",
     "text": [
      "{'run': 2, 'model_name': 'gpt-3.5-turbo', 'dataset_filename': 'reference/val.model-agnostic.json', 'temperature': 1.0, 'examples_per_class': 1, 'samples': 5, 'task_defined': True, 'role_defined': True, 'hallucination_defined': True, 'examples': True}\n"
     ]
    },
    {
     "name": "stderr",
     "output_type": "stream",
     "text": [
      "100%|██████████| 499/499 [25:48<00:00,  3.10s/it]  \n"
     ]
    },
    {
     "name": "stdout",
     "output_type": "stream",
     "text": [
      "{'run': 0, 'model_name': 'gpt-3.5-turbo', 'dataset_filename': 'reference/val.model-agnostic.json', 'temperature': 1.5, 'examples_per_class': 1, 'samples': 5, 'task_defined': True, 'role_defined': True, 'hallucination_defined': True, 'examples': True}\n"
     ]
    },
    {
     "name": "stderr",
     "output_type": "stream",
     "text": [
      "100%|██████████| 499/499 [31:15<00:00,  3.76s/it]  \n"
     ]
    },
    {
     "name": "stdout",
     "output_type": "stream",
     "text": [
      "{'run': 1, 'model_name': 'gpt-3.5-turbo', 'dataset_filename': 'reference/val.model-agnostic.json', 'temperature': 1.5, 'examples_per_class': 1, 'samples': 5, 'task_defined': True, 'role_defined': True, 'hallucination_defined': True, 'examples': True}\n"
     ]
    },
    {
     "name": "stderr",
     "output_type": "stream",
     "text": [
      "100%|██████████| 499/499 [39:40<00:00,  4.77s/it]   \n"
     ]
    },
    {
     "name": "stdout",
     "output_type": "stream",
     "text": [
      "{'run': 2, 'model_name': 'gpt-3.5-turbo', 'dataset_filename': 'reference/val.model-agnostic.json', 'temperature': 1.5, 'examples_per_class': 1, 'samples': 5, 'task_defined': True, 'role_defined': True, 'hallucination_defined': True, 'examples': True}\n"
     ]
    },
    {
     "name": "stderr",
     "output_type": "stream",
     "text": [
      "100%|██████████| 499/499 [19:13<00:00,  2.31s/it]  \n"
     ]
    }
   ],
   "source": [
    "runs = []\n",
    "for config in temperature_configs:\n",
    "    print(config)\n",
    "    runs.append(run_experiment(config))\n",
    "    json.dump(runs, open(TEMPERATURE_STUDY_FILENAME, 'w+'))"
   ]
  },
  {
   "cell_type": "code",
   "execution_count": 9,
   "metadata": {},
   "outputs": [
    {
     "name": "stdout",
     "output_type": "stream",
     "text": [
      "{'run': 0, 'model_name': 'gpt-3.5-turbo', 'dataset_filename': 'reference/val.model-agnostic.json', 'temperature': 1.0, 'examples_per_class': 1, 'samples': 5, 'task_defined': True, 'role_defined': True, 'hallucination_defined': True, 'examples': True}\n"
     ]
    },
    {
     "name": "stderr",
     "output_type": "stream",
     "text": [
      "100%|██████████| 499/499 [10:29<00:00,  1.26s/it]  \n"
     ]
    },
    {
     "name": "stdout",
     "output_type": "stream",
     "text": [
      "{'run': 1, 'model_name': 'gpt-3.5-turbo', 'dataset_filename': 'reference/val.model-agnostic.json', 'temperature': 1.0, 'examples_per_class': 1, 'samples': 5, 'task_defined': True, 'role_defined': True, 'hallucination_defined': True, 'examples': True}\n"
     ]
    },
    {
     "name": "stderr",
     "output_type": "stream",
     "text": [
      "100%|██████████| 499/499 [21:15<00:00,  2.56s/it]  \n"
     ]
    },
    {
     "name": "stdout",
     "output_type": "stream",
     "text": [
      "{'run': 2, 'model_name': 'gpt-3.5-turbo', 'dataset_filename': 'reference/val.model-agnostic.json', 'temperature': 1.0, 'examples_per_class': 1, 'samples': 5, 'task_defined': True, 'role_defined': True, 'hallucination_defined': True, 'examples': True}\n"
     ]
    },
    {
     "name": "stderr",
     "output_type": "stream",
     "text": [
      "100%|██████████| 499/499 [29:15<00:00,  3.52s/it]  \n"
     ]
    },
    {
     "name": "stdout",
     "output_type": "stream",
     "text": [
      "{'run': 0, 'model_name': 'gpt-3.5-turbo', 'dataset_filename': 'reference/val.model-agnostic.json', 'temperature': 1.0, 'examples_per_class': 2, 'samples': 5, 'task_defined': True, 'role_defined': True, 'hallucination_defined': True, 'examples': True}\n"
     ]
    },
    {
     "name": "stderr",
     "output_type": "stream",
     "text": [
      "100%|██████████| 499/499 [1:05:21<00:00,  7.86s/it]  \n"
     ]
    },
    {
     "name": "stdout",
     "output_type": "stream",
     "text": [
      "{'run': 1, 'model_name': 'gpt-3.5-turbo', 'dataset_filename': 'reference/val.model-agnostic.json', 'temperature': 1.0, 'examples_per_class': 2, 'samples': 5, 'task_defined': True, 'role_defined': True, 'hallucination_defined': True, 'examples': True}\n"
     ]
    },
    {
     "name": "stderr",
     "output_type": "stream",
     "text": [
      "100%|██████████| 499/499 [35:31<00:00,  4.27s/it]    \n"
     ]
    },
    {
     "name": "stdout",
     "output_type": "stream",
     "text": [
      "{'run': 2, 'model_name': 'gpt-3.5-turbo', 'dataset_filename': 'reference/val.model-agnostic.json', 'temperature': 1.0, 'examples_per_class': 2, 'samples': 5, 'task_defined': True, 'role_defined': True, 'hallucination_defined': True, 'examples': True}\n"
     ]
    },
    {
     "name": "stderr",
     "output_type": "stream",
     "text": [
      "100%|██████████| 499/499 [15:55<00:00,  1.91s/it]  \n"
     ]
    },
    {
     "name": "stdout",
     "output_type": "stream",
     "text": [
      "{'run': 0, 'model_name': 'gpt-3.5-turbo', 'dataset_filename': 'reference/val.model-agnostic.json', 'temperature': 1.0, 'examples_per_class': 3, 'samples': 5, 'task_defined': True, 'role_defined': True, 'hallucination_defined': True, 'examples': True}\n"
     ]
    },
    {
     "name": "stderr",
     "output_type": "stream",
     "text": [
      "100%|██████████| 499/499 [11:28<00:00,  1.38s/it]  \n"
     ]
    },
    {
     "name": "stdout",
     "output_type": "stream",
     "text": [
      "{'run': 1, 'model_name': 'gpt-3.5-turbo', 'dataset_filename': 'reference/val.model-agnostic.json', 'temperature': 1.0, 'examples_per_class': 3, 'samples': 5, 'task_defined': True, 'role_defined': True, 'hallucination_defined': True, 'examples': True}\n"
     ]
    },
    {
     "name": "stderr",
     "output_type": "stream",
     "text": [
      "100%|██████████| 499/499 [32:42<00:00,  3.93s/it]   \n"
     ]
    },
    {
     "name": "stdout",
     "output_type": "stream",
     "text": [
      "{'run': 2, 'model_name': 'gpt-3.5-turbo', 'dataset_filename': 'reference/val.model-agnostic.json', 'temperature': 1.0, 'examples_per_class': 3, 'samples': 5, 'task_defined': True, 'role_defined': True, 'hallucination_defined': True, 'examples': True}\n"
     ]
    },
    {
     "name": "stderr",
     "output_type": "stream",
     "text": [
      "100%|██████████| 499/499 [20:47<00:00,  2.50s/it]  \n"
     ]
    },
    {
     "name": "stdout",
     "output_type": "stream",
     "text": [
      "{'run': 0, 'model_name': 'gpt-3.5-turbo', 'dataset_filename': 'reference/val.model-agnostic.json', 'temperature': 1.0, 'examples_per_class': 4, 'samples': 5, 'task_defined': True, 'role_defined': True, 'hallucination_defined': True, 'examples': True}\n"
     ]
    },
    {
     "name": "stderr",
     "output_type": "stream",
     "text": [
      "100%|██████████| 499/499 [29:22<00:00,  3.53s/it]  \n"
     ]
    },
    {
     "name": "stdout",
     "output_type": "stream",
     "text": [
      "{'run': 1, 'model_name': 'gpt-3.5-turbo', 'dataset_filename': 'reference/val.model-agnostic.json', 'temperature': 1.0, 'examples_per_class': 4, 'samples': 5, 'task_defined': True, 'role_defined': True, 'hallucination_defined': True, 'examples': True}\n"
     ]
    },
    {
     "name": "stderr",
     "output_type": "stream",
     "text": [
      "100%|██████████| 499/499 [26:13<00:00,  3.15s/it]  \n"
     ]
    },
    {
     "name": "stdout",
     "output_type": "stream",
     "text": [
      "{'run': 2, 'model_name': 'gpt-3.5-turbo', 'dataset_filename': 'reference/val.model-agnostic.json', 'temperature': 1.0, 'examples_per_class': 4, 'samples': 5, 'task_defined': True, 'role_defined': True, 'hallucination_defined': True, 'examples': True}\n"
     ]
    },
    {
     "name": "stderr",
     "output_type": "stream",
     "text": [
      "100%|██████████| 499/499 [15:35<00:00,  1.87s/it]  \n"
     ]
    },
    {
     "name": "stdout",
     "output_type": "stream",
     "text": [
      "{'run': 0, 'model_name': 'gpt-3.5-turbo', 'dataset_filename': 'reference/val.model-agnostic.json', 'temperature': 1.0, 'examples_per_class': 5, 'samples': 5, 'task_defined': True, 'role_defined': True, 'hallucination_defined': True, 'examples': True}\n"
     ]
    },
    {
     "name": "stderr",
     "output_type": "stream",
     "text": [
      "100%|██████████| 499/499 [13:29<00:00,  1.62s/it]  \n"
     ]
    },
    {
     "name": "stdout",
     "output_type": "stream",
     "text": [
      "{'run': 1, 'model_name': 'gpt-3.5-turbo', 'dataset_filename': 'reference/val.model-agnostic.json', 'temperature': 1.0, 'examples_per_class': 5, 'samples': 5, 'task_defined': True, 'role_defined': True, 'hallucination_defined': True, 'examples': True}\n"
     ]
    },
    {
     "name": "stderr",
     "output_type": "stream",
     "text": [
      "100%|██████████| 499/499 [17:22<00:00,  2.09s/it]  \n"
     ]
    },
    {
     "name": "stdout",
     "output_type": "stream",
     "text": [
      "{'run': 2, 'model_name': 'gpt-3.5-turbo', 'dataset_filename': 'reference/val.model-agnostic.json', 'temperature': 1.0, 'examples_per_class': 5, 'samples': 5, 'task_defined': True, 'role_defined': True, 'hallucination_defined': True, 'examples': True}\n"
     ]
    },
    {
     "name": "stderr",
     "output_type": "stream",
     "text": [
      "100%|██████████| 499/499 [15:53<00:00,  1.91s/it]  \n"
     ]
    }
   ],
   "source": [
    "runs = []\n",
    "for config in examples_per_label_configs:\n",
    "    print(config)\n",
    "    runs.append(run_experiment(config))\n",
    "    json.dump(runs, open(EXAMPLES_PER_LABEL_STUDY_FILENAME, 'w+'))"
   ]
  },
  {
   "cell_type": "code",
   "execution_count": 8,
   "metadata": {},
   "outputs": [
    {
     "name": "stdout",
     "output_type": "stream",
     "text": [
      "{'run': 0, 'model_name': 'gpt-3.5-turbo', 'dataset_filename': 'reference/val.model-agnostic.json', 'temperature': 1.0, 'examples_per_class': 1, 'samples': 1, 'task_defined': True, 'role_defined': True, 'hallucination_defined': True, 'examples': True}\n"
     ]
    },
    {
     "name": "stderr",
     "output_type": "stream",
     "text": [
      "100%|██████████| 499/499 [06:42<00:00,  1.24it/s]  \n"
     ]
    },
    {
     "name": "stdout",
     "output_type": "stream",
     "text": [
      "{'run': 1, 'model_name': 'gpt-3.5-turbo', 'dataset_filename': 'reference/val.model-agnostic.json', 'temperature': 1.0, 'examples_per_class': 1, 'samples': 1, 'task_defined': True, 'role_defined': True, 'hallucination_defined': True, 'examples': True}\n"
     ]
    },
    {
     "name": "stderr",
     "output_type": "stream",
     "text": [
      "100%|██████████| 499/499 [04:00<00:00,  2.07it/s]\n"
     ]
    },
    {
     "name": "stdout",
     "output_type": "stream",
     "text": [
      "{'run': 2, 'model_name': 'gpt-3.5-turbo', 'dataset_filename': 'reference/val.model-agnostic.json', 'temperature': 1.0, 'examples_per_class': 1, 'samples': 1, 'task_defined': True, 'role_defined': True, 'hallucination_defined': True, 'examples': True}\n"
     ]
    },
    {
     "name": "stderr",
     "output_type": "stream",
     "text": [
      "100%|██████████| 499/499 [03:15<00:00,  2.56it/s]\n"
     ]
    },
    {
     "name": "stdout",
     "output_type": "stream",
     "text": [
      "{'run': 0, 'model_name': 'gpt-3.5-turbo', 'dataset_filename': 'reference/val.model-agnostic.json', 'temperature': 1.0, 'examples_per_class': 1, 'samples': 5, 'task_defined': True, 'role_defined': True, 'hallucination_defined': True, 'examples': True}\n"
     ]
    },
    {
     "name": "stderr",
     "output_type": "stream",
     "text": [
      "100%|██████████| 499/499 [17:10<00:00,  2.07s/it]  \n"
     ]
    },
    {
     "name": "stdout",
     "output_type": "stream",
     "text": [
      "{'run': 1, 'model_name': 'gpt-3.5-turbo', 'dataset_filename': 'reference/val.model-agnostic.json', 'temperature': 1.0, 'examples_per_class': 1, 'samples': 5, 'task_defined': True, 'role_defined': True, 'hallucination_defined': True, 'examples': True}\n"
     ]
    },
    {
     "name": "stderr",
     "output_type": "stream",
     "text": [
      "100%|██████████| 499/499 [21:28<00:00,  2.58s/it]  \n"
     ]
    },
    {
     "name": "stdout",
     "output_type": "stream",
     "text": [
      "{'run': 2, 'model_name': 'gpt-3.5-turbo', 'dataset_filename': 'reference/val.model-agnostic.json', 'temperature': 1.0, 'examples_per_class': 1, 'samples': 5, 'task_defined': True, 'role_defined': True, 'hallucination_defined': True, 'examples': True}\n"
     ]
    },
    {
     "name": "stderr",
     "output_type": "stream",
     "text": [
      "100%|██████████| 499/499 [21:07<00:00,  2.54s/it]  \n"
     ]
    },
    {
     "name": "stdout",
     "output_type": "stream",
     "text": [
      "{'run': 0, 'model_name': 'gpt-3.5-turbo', 'dataset_filename': 'reference/val.model-agnostic.json', 'temperature': 1.0, 'examples_per_class': 1, 'samples': 10, 'task_defined': True, 'role_defined': True, 'hallucination_defined': True, 'examples': True}\n"
     ]
    },
    {
     "name": "stderr",
     "output_type": "stream",
     "text": [
      "100%|██████████| 499/499 [35:26<00:00,  4.26s/it]   \n"
     ]
    },
    {
     "name": "stdout",
     "output_type": "stream",
     "text": [
      "{'run': 1, 'model_name': 'gpt-3.5-turbo', 'dataset_filename': 'reference/val.model-agnostic.json', 'temperature': 1.0, 'examples_per_class': 1, 'samples': 10, 'task_defined': True, 'role_defined': True, 'hallucination_defined': True, 'examples': True}\n"
     ]
    },
    {
     "name": "stderr",
     "output_type": "stream",
     "text": [
      "100%|██████████| 499/499 [57:02<00:00,  6.86s/it]   \n"
     ]
    },
    {
     "name": "stdout",
     "output_type": "stream",
     "text": [
      "{'run': 2, 'model_name': 'gpt-3.5-turbo', 'dataset_filename': 'reference/val.model-agnostic.json', 'temperature': 1.0, 'examples_per_class': 1, 'samples': 10, 'task_defined': True, 'role_defined': True, 'hallucination_defined': True, 'examples': True}\n"
     ]
    },
    {
     "name": "stderr",
     "output_type": "stream",
     "text": [
      "100%|██████████| 499/499 [26:41<00:00,  3.21s/it]  \n"
     ]
    },
    {
     "name": "stdout",
     "output_type": "stream",
     "text": [
      "{'run': 0, 'model_name': 'gpt-3.5-turbo', 'dataset_filename': 'reference/val.model-agnostic.json', 'temperature': 1.0, 'examples_per_class': 1, 'samples': 15, 'task_defined': True, 'role_defined': True, 'hallucination_defined': True, 'examples': True}\n"
     ]
    },
    {
     "name": "stderr",
     "output_type": "stream",
     "text": [
      "100%|██████████| 499/499 [2:34:54<00:00, 18.63s/it]    \n"
     ]
    },
    {
     "name": "stdout",
     "output_type": "stream",
     "text": [
      "{'run': 1, 'model_name': 'gpt-3.5-turbo', 'dataset_filename': 'reference/val.model-agnostic.json', 'temperature': 1.0, 'examples_per_class': 1, 'samples': 15, 'task_defined': True, 'role_defined': True, 'hallucination_defined': True, 'examples': True}\n"
     ]
    },
    {
     "name": "stderr",
     "output_type": "stream",
     "text": [
      "100%|██████████| 499/499 [42:35<00:00,  5.12s/it]  \n"
     ]
    },
    {
     "name": "stdout",
     "output_type": "stream",
     "text": [
      "{'run': 2, 'model_name': 'gpt-3.5-turbo', 'dataset_filename': 'reference/val.model-agnostic.json', 'temperature': 1.0, 'examples_per_class': 1, 'samples': 15, 'task_defined': True, 'role_defined': True, 'hallucination_defined': True, 'examples': True}\n"
     ]
    },
    {
     "name": "stderr",
     "output_type": "stream",
     "text": [
      "100%|██████████| 499/499 [1:06:13<00:00,  7.96s/it]  \n"
     ]
    },
    {
     "name": "stdout",
     "output_type": "stream",
     "text": [
      "{'run': 0, 'model_name': 'gpt-3.5-turbo', 'dataset_filename': 'reference/val.model-agnostic.json', 'temperature': 1.0, 'examples_per_class': 1, 'samples': 20, 'task_defined': True, 'role_defined': True, 'hallucination_defined': True, 'examples': True}\n"
     ]
    },
    {
     "name": "stderr",
     "output_type": "stream",
     "text": [
      "100%|██████████| 499/499 [1:30:26<00:00, 10.88s/it]  \n"
     ]
    },
    {
     "name": "stdout",
     "output_type": "stream",
     "text": [
      "{'run': 1, 'model_name': 'gpt-3.5-turbo', 'dataset_filename': 'reference/val.model-agnostic.json', 'temperature': 1.0, 'examples_per_class': 1, 'samples': 20, 'task_defined': True, 'role_defined': True, 'hallucination_defined': True, 'examples': True}\n"
     ]
    },
    {
     "name": "stderr",
     "output_type": "stream",
     "text": [
      " 17%|█▋        | 86/499 [14:41<1:10:34, 10.25s/it]\n"
     ]
    },
    {
     "ename": "KeyboardInterrupt",
     "evalue": "",
     "output_type": "error",
     "traceback": [
      "\u001b[0;31m---------------------------------------------------------------------------\u001b[0m",
      "\u001b[0;31mKeyboardInterrupt\u001b[0m                         Traceback (most recent call last)",
      "Cell \u001b[0;32mIn[8], line 4\u001b[0m\n\u001b[1;32m      2\u001b[0m \u001b[38;5;28;01mfor\u001b[39;00m config \u001b[38;5;129;01min\u001b[39;00m samples_configs:\n\u001b[1;32m      3\u001b[0m     \u001b[38;5;28mprint\u001b[39m(config)\n\u001b[0;32m----> 4\u001b[0m     runs\u001b[38;5;241m.\u001b[39mappend(\u001b[43mrun_experiment\u001b[49m\u001b[43m(\u001b[49m\u001b[43mconfig\u001b[49m\u001b[43m)\u001b[49m)\n\u001b[1;32m      5\u001b[0m     json\u001b[38;5;241m.\u001b[39mdump(runs, \u001b[38;5;28mopen\u001b[39m(SAMPLES_PER_QUERY_STUDY_FILENAME, \u001b[38;5;124m'\u001b[39m\u001b[38;5;124mw+\u001b[39m\u001b[38;5;124m'\u001b[39m))\n",
      "Cell \u001b[0;32mIn[3], line 7\u001b[0m, in \u001b[0;36mrun_experiment\u001b[0;34m(config)\u001b[0m\n\u001b[1;32m      5\u001b[0m data \u001b[38;5;241m=\u001b[39m json\u001b[38;5;241m.\u001b[39mload(\u001b[38;5;28mopen\u001b[39m(config[\u001b[38;5;124m\"\u001b[39m\u001b[38;5;124mdataset_filename\u001b[39m\u001b[38;5;124m\"\u001b[39m], \u001b[38;5;124m'\u001b[39m\u001b[38;5;124mr\u001b[39m\u001b[38;5;124m'\u001b[39m))\n\u001b[1;32m      6\u001b[0m \u001b[38;5;28;01mfor\u001b[39;00m dp \u001b[38;5;129;01min\u001b[39;00m tqdm(data):\n\u001b[0;32m----> 7\u001b[0m     prediction \u001b[38;5;241m=\u001b[39m \u001b[43mcp\u001b[49m\u001b[38;5;241;43m.\u001b[39;49m\u001b[43mclassify\u001b[49m\u001b[43m(\u001b[49m\n\u001b[1;32m      8\u001b[0m \u001b[43m        \u001b[49m\u001b[43mdp\u001b[49m\u001b[43m,\u001b[49m\u001b[43m \u001b[49m\n\u001b[1;32m      9\u001b[0m \u001b[43m        \u001b[49m\u001b[43mN\u001b[49m\u001b[38;5;241;43m=\u001b[39;49m\u001b[43mconfig\u001b[49m\u001b[43m[\u001b[49m\u001b[38;5;124;43m\"\u001b[39;49m\u001b[38;5;124;43msamples\u001b[39;49m\u001b[38;5;124;43m\"\u001b[39;49m\u001b[43m]\u001b[49m\u001b[43m,\u001b[49m\u001b[43m \u001b[49m\n\u001b[1;32m     10\u001b[0m \u001b[43m        \u001b[49m\u001b[43mtask_defined\u001b[49m\u001b[38;5;241;43m=\u001b[39;49m\u001b[43mconfig\u001b[49m\u001b[43m[\u001b[49m\u001b[38;5;124;43m\"\u001b[39;49m\u001b[38;5;124;43mtask_defined\u001b[39;49m\u001b[38;5;124;43m\"\u001b[39;49m\u001b[43m]\u001b[49m\u001b[43m,\u001b[49m\u001b[43m \u001b[49m\n\u001b[1;32m     11\u001b[0m \u001b[43m        \u001b[49m\u001b[43mrole_defined\u001b[49m\u001b[38;5;241;43m=\u001b[39;49m\u001b[43mconfig\u001b[49m\u001b[43m[\u001b[49m\u001b[38;5;124;43m\"\u001b[39;49m\u001b[38;5;124;43mrole_defined\u001b[39;49m\u001b[38;5;124;43m\"\u001b[39;49m\u001b[43m]\u001b[49m\u001b[43m,\u001b[49m\u001b[43m \u001b[49m\n\u001b[1;32m     12\u001b[0m \u001b[43m        \u001b[49m\u001b[43mhallucination_defined\u001b[49m\u001b[38;5;241;43m=\u001b[39;49m\u001b[43mconfig\u001b[49m\u001b[43m[\u001b[49m\u001b[38;5;124;43m\"\u001b[39;49m\u001b[38;5;124;43mhallucination_defined\u001b[39;49m\u001b[38;5;124;43m\"\u001b[39;49m\u001b[43m]\u001b[49m\u001b[43m,\u001b[49m\u001b[43m \u001b[49m\n\u001b[1;32m     13\u001b[0m \u001b[43m        \u001b[49m\u001b[43mexamples\u001b[49m\u001b[38;5;241;43m=\u001b[39;49m\u001b[43mconfig\u001b[49m\u001b[43m[\u001b[49m\u001b[38;5;124;43m\"\u001b[39;49m\u001b[38;5;124;43mexamples\u001b[39;49m\u001b[38;5;124;43m\"\u001b[39;49m\u001b[43m]\u001b[49m\n\u001b[1;32m     14\u001b[0m \u001b[43m    \u001b[49m\u001b[43m)\u001b[49m\n\u001b[1;32m     15\u001b[0m     predictions\u001b[38;5;241m.\u001b[39mappend(prediction)\n\u001b[1;32m     16\u001b[0m \u001b[38;5;28;01mreturn\u001b[39;00m { \n\u001b[1;32m     17\u001b[0m     \u001b[38;5;124m\"\u001b[39m\u001b[38;5;124mstart\u001b[39m\u001b[38;5;124m\"\u001b[39m: start, \n\u001b[1;32m     18\u001b[0m     \u001b[38;5;124m\"\u001b[39m\u001b[38;5;124mend\u001b[39m\u001b[38;5;124m\"\u001b[39m: datetime\u001b[38;5;241m.\u001b[39mutcnow()\u001b[38;5;241m.\u001b[39misoformat(), \n\u001b[0;32m   (...)\u001b[0m\n\u001b[1;32m     21\u001b[0m     \u001b[38;5;124m\"\u001b[39m\u001b[38;5;124mpredictions\u001b[39m\u001b[38;5;124m\"\u001b[39m: predictions \n\u001b[1;32m     22\u001b[0m }\n",
      "File \u001b[0;32m~/Documents/GitHub/shroom/prod/shroom_classifier_v13.py:118\u001b[0m, in \u001b[0;36mShroomClassifier.classify\u001b[0;34m(self, datapoint, N, task_defined, role_defined, hallucination_defined, examples)\u001b[0m\n\u001b[1;32m    106\u001b[0m \u001b[38;5;28;01mdef\u001b[39;00m \u001b[38;5;21mclassify\u001b[39m(\u001b[38;5;28mself\u001b[39m, datapoint, N\u001b[38;5;241m=\u001b[39m\u001b[38;5;241m10\u001b[39m, task_defined\u001b[38;5;241m=\u001b[39m\u001b[38;5;28;01mTrue\u001b[39;00m, role_defined\u001b[38;5;241m=\u001b[39m\u001b[38;5;28;01mTrue\u001b[39;00m, hallucination_defined\u001b[38;5;241m=\u001b[39m\u001b[38;5;28;01mTrue\u001b[39;00m, examples\u001b[38;5;241m=\u001b[39m\u001b[38;5;28;01mTrue\u001b[39;00m):\n\u001b[1;32m    107\u001b[0m \u001b[38;5;250m    \u001b[39m\u001b[38;5;124;03m\"\"\"\u001b[39;00m\n\u001b[1;32m    108\u001b[0m \u001b[38;5;124;03m    Determines whether or not the output (hyp) is a hallucination, and \u001b[39;00m\n\u001b[1;32m    109\u001b[0m \u001b[38;5;124;03m    produces an estimate of the probability that the output is a hallucination.\u001b[39;00m\n\u001b[0;32m   (...)\u001b[0m\n\u001b[1;32m    115\u001b[0m \u001b[38;5;124;03m        A dict containing a classification of the output based on the task, input, output and target.\u001b[39;00m\n\u001b[1;32m    116\u001b[0m \u001b[38;5;124;03m    \"\"\"\u001b[39;00m\n\u001b[0;32m--> 118\u001b[0m     predictions \u001b[38;5;241m=\u001b[39m \u001b[38;5;28;43mself\u001b[39;49m\u001b[38;5;241;43m.\u001b[39;49m\u001b[43mchain\u001b[49m\u001b[38;5;241;43m.\u001b[39;49m\u001b[43mbatch\u001b[49m\u001b[43m(\u001b[49m\u001b[43m[\u001b[49m\u001b[43m \u001b[49m\n\u001b[1;32m    119\u001b[0m \u001b[43m        \u001b[49m\u001b[43m{\u001b[49m\u001b[43m \u001b[49m\n\u001b[1;32m    120\u001b[0m \u001b[43m            \u001b[49m\u001b[38;5;124;43m\"\u001b[39;49m\u001b[38;5;124;43mtask\u001b[39;49m\u001b[38;5;124;43m\"\u001b[39;49m\u001b[43m:\u001b[49m\u001b[43m \u001b[49m\u001b[38;5;28;43mself\u001b[39;49m\u001b[38;5;241;43m.\u001b[39;49m\u001b[43mTASKS\u001b[49m\u001b[43m[\u001b[49m\u001b[43mdatapoint\u001b[49m\u001b[43m[\u001b[49m\u001b[38;5;124;43m\"\u001b[39;49m\u001b[38;5;124;43mtask\u001b[39;49m\u001b[38;5;124;43m\"\u001b[39;49m\u001b[43m]\u001b[49m\u001b[43m]\u001b[49m\u001b[43m \u001b[49m\u001b[38;5;28;43;01mif\u001b[39;49;00m\u001b[43m \u001b[49m\u001b[43mtask_defined\u001b[49m\u001b[43m \u001b[49m\u001b[38;5;28;43;01melse\u001b[39;49;00m\u001b[43m \u001b[49m\u001b[38;5;124;43m\"\u001b[39;49m\u001b[38;5;124;43m\"\u001b[39;49m\u001b[43m,\u001b[49m\u001b[43m \u001b[49m\n\u001b[1;32m    121\u001b[0m \u001b[43m            \u001b[49m\u001b[38;5;124;43m\"\u001b[39;49m\u001b[38;5;124;43mrole\u001b[39;49m\u001b[38;5;124;43m\"\u001b[39;49m\u001b[43m:\u001b[49m\u001b[43m \u001b[49m\u001b[38;5;28;43mself\u001b[39;49m\u001b[38;5;241;43m.\u001b[39;49m\u001b[43mROLES\u001b[49m\u001b[43m[\u001b[49m\u001b[43mdatapoint\u001b[49m\u001b[43m[\u001b[49m\u001b[38;5;124;43m\"\u001b[39;49m\u001b[38;5;124;43mtask\u001b[39;49m\u001b[38;5;124;43m\"\u001b[39;49m\u001b[43m]\u001b[49m\u001b[43m]\u001b[49m\u001b[43m \u001b[49m\u001b[38;5;28;43;01mif\u001b[39;49;00m\u001b[43m \u001b[49m\u001b[43mrole_defined\u001b[49m\u001b[43m \u001b[49m\u001b[38;5;28;43;01melse\u001b[39;49;00m\u001b[43m \u001b[49m\u001b[38;5;124;43m\"\u001b[39;49m\u001b[38;5;124;43m\"\u001b[39;49m\u001b[43m,\u001b[49m\n\u001b[1;32m    122\u001b[0m \u001b[43m            \u001b[49m\u001b[38;5;124;43m\"\u001b[39;49m\u001b[38;5;124;43mdefinition\u001b[39;49m\u001b[38;5;124;43m\"\u001b[39;49m\u001b[43m:\u001b[49m\u001b[43m \u001b[49m\u001b[38;5;28;43mself\u001b[39;49m\u001b[38;5;241;43m.\u001b[39;49m\u001b[43mDEFINITION\u001b[49m\u001b[43m \u001b[49m\u001b[38;5;28;43;01mif\u001b[39;49;00m\u001b[43m \u001b[49m\u001b[43mhallucination_defined\u001b[49m\u001b[43m \u001b[49m\u001b[38;5;28;43;01melse\u001b[39;49;00m\u001b[43m \u001b[49m\u001b[38;5;124;43m\"\u001b[39;49m\u001b[38;5;124;43m\"\u001b[39;49m\u001b[43m,\u001b[49m\u001b[43m \u001b[49m\n\u001b[1;32m    123\u001b[0m \u001b[43m            \u001b[49m\u001b[38;5;124;43m\"\u001b[39;49m\u001b[38;5;124;43mexamples\u001b[39;49m\u001b[38;5;124;43m\"\u001b[39;49m\u001b[43m:\u001b[49m\u001b[43m \u001b[49m\u001b[38;5;28;43mself\u001b[39;49m\u001b[38;5;241;43m.\u001b[39;49m\u001b[43mexamples\u001b[49m\u001b[43m[\u001b[49m\u001b[43mdatapoint\u001b[49m\u001b[43m[\u001b[49m\u001b[38;5;124;43m\"\u001b[39;49m\u001b[38;5;124;43mtask\u001b[39;49m\u001b[38;5;124;43m\"\u001b[39;49m\u001b[43m]\u001b[49m\u001b[43m]\u001b[49m\u001b[43m \u001b[49m\u001b[38;5;28;43;01mif\u001b[39;49;00m\u001b[43m \u001b[49m\u001b[43mexamples\u001b[49m\u001b[43m \u001b[49m\u001b[38;5;28;43;01melse\u001b[39;49;00m\u001b[43m \u001b[49m\u001b[38;5;124;43m\"\u001b[39;49m\u001b[38;5;124;43m\"\u001b[39;49m\u001b[43m,\u001b[49m\n\u001b[1;32m    124\u001b[0m \u001b[43m            \u001b[49m\u001b[38;5;124;43m\"\u001b[39;49m\u001b[38;5;124;43msrc\u001b[39;49m\u001b[38;5;124;43m\"\u001b[39;49m\u001b[43m:\u001b[49m\u001b[43m \u001b[49m\u001b[43mdatapoint\u001b[49m\u001b[43m[\u001b[49m\u001b[38;5;124;43m\"\u001b[39;49m\u001b[38;5;124;43msrc\u001b[39;49m\u001b[38;5;124;43m\"\u001b[39;49m\u001b[43m]\u001b[49m\u001b[43m,\u001b[49m\u001b[43m \u001b[49m\n\u001b[1;32m    125\u001b[0m \u001b[43m            \u001b[49m\u001b[38;5;124;43m\"\u001b[39;49m\u001b[38;5;124;43mtgt\u001b[39;49m\u001b[38;5;124;43m\"\u001b[39;49m\u001b[43m:\u001b[49m\u001b[43m \u001b[49m\u001b[43mdatapoint\u001b[49m\u001b[43m[\u001b[49m\u001b[38;5;124;43m\"\u001b[39;49m\u001b[38;5;124;43mtgt\u001b[39;49m\u001b[38;5;124;43m\"\u001b[39;49m\u001b[43m]\u001b[49m\u001b[43m,\u001b[49m\u001b[43m \u001b[49m\n\u001b[1;32m    126\u001b[0m \u001b[43m            \u001b[49m\u001b[38;5;124;43m\"\u001b[39;49m\u001b[38;5;124;43mhyp\u001b[39;49m\u001b[38;5;124;43m\"\u001b[39;49m\u001b[43m:\u001b[49m\u001b[43m \u001b[49m\u001b[43mdatapoint\u001b[49m\u001b[43m[\u001b[49m\u001b[38;5;124;43m\"\u001b[39;49m\u001b[38;5;124;43mhyp\u001b[39;49m\u001b[38;5;124;43m\"\u001b[39;49m\u001b[43m]\u001b[49m\u001b[43m,\u001b[49m\n\u001b[1;32m    127\u001b[0m \u001b[43m        \u001b[49m\u001b[43m}\u001b[49m\u001b[43m \u001b[49m\u001b[38;5;28;43;01mfor\u001b[39;49;00m\u001b[43m \u001b[49m\u001b[43mi\u001b[49m\u001b[43m \u001b[49m\u001b[38;5;129;43;01min\u001b[39;49;00m\u001b[43m \u001b[49m\u001b[38;5;28;43mrange\u001b[39;49m\u001b[43m(\u001b[49m\u001b[43mN\u001b[49m\u001b[43m)\u001b[49m\u001b[43m \u001b[49m\u001b[43m]\u001b[49m\n\u001b[1;32m    128\u001b[0m \u001b[43m    \u001b[49m\u001b[43m)\u001b[49m\n\u001b[1;32m    129\u001b[0m     w \u001b[38;5;241m=\u001b[39m \u001b[38;5;241m1.\u001b[39m\u001b[38;5;241m/\u001b[39m\u001b[38;5;28mfloat\u001b[39m(N)\n\u001b[1;32m    130\u001b[0m     prob_hallucination \u001b[38;5;241m=\u001b[39m \u001b[38;5;28msum\u001b[39m([ w \u001b[38;5;28;01mfor\u001b[39;00m p \u001b[38;5;129;01min\u001b[39;00m predictions \u001b[38;5;28;01mif\u001b[39;00m p \u001b[38;5;241m==\u001b[39m \u001b[38;5;124m'\u001b[39m\u001b[38;5;124mHallucination\u001b[39m\u001b[38;5;124m'\u001b[39m ])\n",
      "File \u001b[0;32m~/Documents/GitHub/shroom/env/lib/python3.11/site-packages/langchain_core/runnables/base.py:1914\u001b[0m, in \u001b[0;36mRunnableSequence.batch\u001b[0;34m(self, inputs, config, return_exceptions, **kwargs)\u001b[0m\n\u001b[1;32m   1912\u001b[0m     \u001b[38;5;28;01melse\u001b[39;00m:\n\u001b[1;32m   1913\u001b[0m         \u001b[38;5;28;01mfor\u001b[39;00m i, step \u001b[38;5;129;01min\u001b[39;00m \u001b[38;5;28menumerate\u001b[39m(\u001b[38;5;28mself\u001b[39m\u001b[38;5;241m.\u001b[39msteps):\n\u001b[0;32m-> 1914\u001b[0m             inputs \u001b[38;5;241m=\u001b[39m \u001b[43mstep\u001b[49m\u001b[38;5;241;43m.\u001b[39;49m\u001b[43mbatch\u001b[49m\u001b[43m(\u001b[49m\n\u001b[1;32m   1915\u001b[0m \u001b[43m                \u001b[49m\u001b[43minputs\u001b[49m\u001b[43m,\u001b[49m\n\u001b[1;32m   1916\u001b[0m \u001b[43m                \u001b[49m\u001b[43m[\u001b[49m\n\u001b[1;32m   1917\u001b[0m \u001b[43m                    \u001b[49m\u001b[38;5;66;43;03m# each step a child run of the corresponding root run\u001b[39;49;00m\n\u001b[1;32m   1918\u001b[0m \u001b[43m                    \u001b[49m\u001b[43mpatch_config\u001b[49m\u001b[43m(\u001b[49m\n\u001b[1;32m   1919\u001b[0m \u001b[43m                        \u001b[49m\u001b[43mconfig\u001b[49m\u001b[43m,\u001b[49m\u001b[43m \u001b[49m\u001b[43mcallbacks\u001b[49m\u001b[38;5;241;43m=\u001b[39;49m\u001b[43mrm\u001b[49m\u001b[38;5;241;43m.\u001b[39;49m\u001b[43mget_child\u001b[49m\u001b[43m(\u001b[49m\u001b[38;5;124;43mf\u001b[39;49m\u001b[38;5;124;43m\"\u001b[39;49m\u001b[38;5;124;43mseq:step:\u001b[39;49m\u001b[38;5;132;43;01m{\u001b[39;49;00m\u001b[43mi\u001b[49m\u001b[38;5;241;43m+\u001b[39;49m\u001b[38;5;241;43m1\u001b[39;49m\u001b[38;5;132;43;01m}\u001b[39;49;00m\u001b[38;5;124;43m\"\u001b[39;49m\u001b[43m)\u001b[49m\n\u001b[1;32m   1920\u001b[0m \u001b[43m                    \u001b[49m\u001b[43m)\u001b[49m\n\u001b[1;32m   1921\u001b[0m \u001b[43m                    \u001b[49m\u001b[38;5;28;43;01mfor\u001b[39;49;00m\u001b[43m \u001b[49m\u001b[43mrm\u001b[49m\u001b[43m,\u001b[49m\u001b[43m \u001b[49m\u001b[43mconfig\u001b[49m\u001b[43m \u001b[49m\u001b[38;5;129;43;01min\u001b[39;49;00m\u001b[43m \u001b[49m\u001b[38;5;28;43mzip\u001b[39;49m\u001b[43m(\u001b[49m\u001b[43mrun_managers\u001b[49m\u001b[43m,\u001b[49m\u001b[43m \u001b[49m\u001b[43mconfigs\u001b[49m\u001b[43m)\u001b[49m\n\u001b[1;32m   1922\u001b[0m \u001b[43m                \u001b[49m\u001b[43m]\u001b[49m\u001b[43m,\u001b[49m\n\u001b[1;32m   1923\u001b[0m \u001b[43m            \u001b[49m\u001b[43m)\u001b[49m\n\u001b[1;32m   1925\u001b[0m \u001b[38;5;66;03m# finish the root runs\u001b[39;00m\n\u001b[1;32m   1926\u001b[0m \u001b[38;5;28;01mexcept\u001b[39;00m \u001b[38;5;167;01mBaseException\u001b[39;00m \u001b[38;5;28;01mas\u001b[39;00m e:\n",
      "File \u001b[0;32m~/Documents/GitHub/shroom/env/lib/python3.11/site-packages/langchain_core/runnables/base.py:529\u001b[0m, in \u001b[0;36mRunnable.batch\u001b[0;34m(self, inputs, config, return_exceptions, **kwargs)\u001b[0m\n\u001b[1;32m    526\u001b[0m     \u001b[38;5;28;01mreturn\u001b[39;00m cast(List[Output], [invoke(inputs[\u001b[38;5;241m0\u001b[39m], configs[\u001b[38;5;241m0\u001b[39m])])\n\u001b[1;32m    528\u001b[0m \u001b[38;5;28;01mwith\u001b[39;00m get_executor_for_config(configs[\u001b[38;5;241m0\u001b[39m]) \u001b[38;5;28;01mas\u001b[39;00m executor:\n\u001b[0;32m--> 529\u001b[0m     \u001b[38;5;28;01mreturn\u001b[39;00m cast(List[Output], \u001b[38;5;28mlist\u001b[39m(executor\u001b[38;5;241m.\u001b[39mmap(invoke, inputs, configs)))\n",
      "File \u001b[0;32m~/.pyenv/versions/3.11.4/lib/python3.11/concurrent/futures/_base.py:619\u001b[0m, in \u001b[0;36mExecutor.map.<locals>.result_iterator\u001b[0;34m()\u001b[0m\n\u001b[1;32m    616\u001b[0m \u001b[38;5;28;01mwhile\u001b[39;00m fs:\n\u001b[1;32m    617\u001b[0m     \u001b[38;5;66;03m# Careful not to keep a reference to the popped future\u001b[39;00m\n\u001b[1;32m    618\u001b[0m     \u001b[38;5;28;01mif\u001b[39;00m timeout \u001b[38;5;129;01mis\u001b[39;00m \u001b[38;5;28;01mNone\u001b[39;00m:\n\u001b[0;32m--> 619\u001b[0m         \u001b[38;5;28;01myield\u001b[39;00m \u001b[43m_result_or_cancel\u001b[49m\u001b[43m(\u001b[49m\u001b[43mfs\u001b[49m\u001b[38;5;241;43m.\u001b[39;49m\u001b[43mpop\u001b[49m\u001b[43m(\u001b[49m\u001b[43m)\u001b[49m\u001b[43m)\u001b[49m\n\u001b[1;32m    620\u001b[0m     \u001b[38;5;28;01melse\u001b[39;00m:\n\u001b[1;32m    621\u001b[0m         \u001b[38;5;28;01myield\u001b[39;00m _result_or_cancel(fs\u001b[38;5;241m.\u001b[39mpop(), end_time \u001b[38;5;241m-\u001b[39m time\u001b[38;5;241m.\u001b[39mmonotonic())\n",
      "File \u001b[0;32m~/.pyenv/versions/3.11.4/lib/python3.11/concurrent/futures/_base.py:317\u001b[0m, in \u001b[0;36m_result_or_cancel\u001b[0;34m(***failed resolving arguments***)\u001b[0m\n\u001b[1;32m    315\u001b[0m \u001b[38;5;28;01mtry\u001b[39;00m:\n\u001b[1;32m    316\u001b[0m     \u001b[38;5;28;01mtry\u001b[39;00m:\n\u001b[0;32m--> 317\u001b[0m         \u001b[38;5;28;01mreturn\u001b[39;00m \u001b[43mfut\u001b[49m\u001b[38;5;241;43m.\u001b[39;49m\u001b[43mresult\u001b[49m\u001b[43m(\u001b[49m\u001b[43mtimeout\u001b[49m\u001b[43m)\u001b[49m\n\u001b[1;32m    318\u001b[0m     \u001b[38;5;28;01mfinally\u001b[39;00m:\n\u001b[1;32m    319\u001b[0m         fut\u001b[38;5;241m.\u001b[39mcancel()\n",
      "File \u001b[0;32m~/.pyenv/versions/3.11.4/lib/python3.11/concurrent/futures/_base.py:451\u001b[0m, in \u001b[0;36mFuture.result\u001b[0;34m(self, timeout)\u001b[0m\n\u001b[1;32m    448\u001b[0m \u001b[38;5;28;01melif\u001b[39;00m \u001b[38;5;28mself\u001b[39m\u001b[38;5;241m.\u001b[39m_state \u001b[38;5;241m==\u001b[39m FINISHED:\n\u001b[1;32m    449\u001b[0m     \u001b[38;5;28;01mreturn\u001b[39;00m \u001b[38;5;28mself\u001b[39m\u001b[38;5;241m.\u001b[39m__get_result()\n\u001b[0;32m--> 451\u001b[0m \u001b[38;5;28;43mself\u001b[39;49m\u001b[38;5;241;43m.\u001b[39;49m\u001b[43m_condition\u001b[49m\u001b[38;5;241;43m.\u001b[39;49m\u001b[43mwait\u001b[49m\u001b[43m(\u001b[49m\u001b[43mtimeout\u001b[49m\u001b[43m)\u001b[49m\n\u001b[1;32m    453\u001b[0m \u001b[38;5;28;01mif\u001b[39;00m \u001b[38;5;28mself\u001b[39m\u001b[38;5;241m.\u001b[39m_state \u001b[38;5;129;01min\u001b[39;00m [CANCELLED, CANCELLED_AND_NOTIFIED]:\n\u001b[1;32m    454\u001b[0m     \u001b[38;5;28;01mraise\u001b[39;00m CancelledError()\n",
      "File \u001b[0;32m~/.pyenv/versions/3.11.4/lib/python3.11/threading.py:320\u001b[0m, in \u001b[0;36mCondition.wait\u001b[0;34m(self, timeout)\u001b[0m\n\u001b[1;32m    318\u001b[0m \u001b[38;5;28;01mtry\u001b[39;00m:    \u001b[38;5;66;03m# restore state no matter what (e.g., KeyboardInterrupt)\u001b[39;00m\n\u001b[1;32m    319\u001b[0m     \u001b[38;5;28;01mif\u001b[39;00m timeout \u001b[38;5;129;01mis\u001b[39;00m \u001b[38;5;28;01mNone\u001b[39;00m:\n\u001b[0;32m--> 320\u001b[0m         \u001b[43mwaiter\u001b[49m\u001b[38;5;241;43m.\u001b[39;49m\u001b[43macquire\u001b[49m\u001b[43m(\u001b[49m\u001b[43m)\u001b[49m\n\u001b[1;32m    321\u001b[0m         gotit \u001b[38;5;241m=\u001b[39m \u001b[38;5;28;01mTrue\u001b[39;00m\n\u001b[1;32m    322\u001b[0m     \u001b[38;5;28;01melse\u001b[39;00m:\n",
      "\u001b[0;31mKeyboardInterrupt\u001b[0m: "
     ]
    }
   ],
   "source": [
    "runs = []\n",
    "for config in samples_configs:\n",
    "    print(config)\n",
    "    runs.append(run_experiment(config))\n",
    "    json.dump(runs, open(SAMPLES_PER_QUERY_STUDY_FILENAME, 'w+'))"
   ]
  }
 ],
 "metadata": {
  "kernelspec": {
   "display_name": "conceptual-engineering-using-llms",
   "language": "python",
   "name": "python3"
  },
  "language_info": {
   "codemirror_mode": {
    "name": "ipython",
    "version": 3
   },
   "file_extension": ".py",
   "mimetype": "text/x-python",
   "name": "python",
   "nbconvert_exporter": "python",
   "pygments_lexer": "ipython3",
   "version": "3.11.4"
  },
  "orig_nbformat": 4
 },
 "nbformat": 4,
 "nbformat_minor": 2
}
