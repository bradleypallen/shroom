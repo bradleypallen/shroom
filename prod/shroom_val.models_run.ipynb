{
 "cells": [
  {
   "cell_type": "code",
   "execution_count": 1,
   "metadata": {},
   "outputs": [],
   "source": [
    "import json\n",
    "from datetime import datetime\n",
    "from tqdm import tqdm\n",
    "from shroom_classifier_v1_persona import ShroomClassifier"
   ]
  },
  {
   "cell_type": "code",
   "execution_count": 2,
   "metadata": {},
   "outputs": [],
   "source": [
    "def run_experiment(cp, reference, submission):\n",
    "    data = json.load(open(reference, \"r\"))\n",
    "    predictions = []\n",
    "    for dp in tqdm(data):\n",
    "        prediction = cp.classify(dp)\n",
    "        predictions.append(prediction)\n",
    "    json.dump(predictions, open(submission, \"w+\"))"
   ]
  },
  {
   "cell_type": "code",
   "execution_count": 3,
   "metadata": {},
   "outputs": [],
   "source": [
    "RUN = \"v1-persona\"\n",
    "MODEL = \"gpt-3.5-turbo\"\n",
    "TEMP = 0.7\n",
    "DATE = datetime.utcnow().date().isoformat()"
   ]
  },
  {
   "cell_type": "code",
   "execution_count": 4,
   "metadata": {},
   "outputs": [
    {
     "name": "stderr",
     "output_type": "stream",
     "text": [
      "/Users/bradleyallen/Documents/GitHub/shroom/env/lib/python3.11/site-packages/langchain_core/_api/deprecation.py:117: LangChainDeprecationWarning: The class `langchain_community.chat_models.openai.ChatOpenAI` was deprecated in langchain-community 0.0.10 and will be removed in 0.2.0. An updated version of the class exists in the langchain-openai package and should be used instead. To use it run `pip install -U langchain-openai` and import as `from langchain_openai import ChatOpenAI`.\n",
      "  warn_deprecated(\n",
      "100%|██████████| 499/499 [2:59:39<00:00, 21.60s/it]     \n",
      "100%|██████████| 501/501 [40:56<00:00,  4.90s/it]   \n"
     ]
    }
   ],
   "source": [
    "CLASSIFIER = ShroomClassifier(model_name=MODEL, temperature=TEMP)\n",
    "run_experiment(CLASSIFIER, 'reference/val.model-agnostic.json', 'submission/val.model-agnostic.json')\n",
    "run_experiment(CLASSIFIER, 'reference/val.model-aware.json', 'submission/val.model-aware.json')"
   ]
  },
  {
   "cell_type": "code",
   "execution_count": 5,
   "metadata": {},
   "outputs": [],
   "source": [
    "! python score.py --is_val submission reference scores/score-{MODEL}-{RUN}-{DATE}.txt"
   ]
  },
  {
   "cell_type": "code",
   "execution_count": 6,
   "metadata": {},
   "outputs": [],
   "source": [
    "record = { \"date\": DATE, \"version\": RUN, \"model\": MODEL, \"temperature\": TEMP }\n",
    "score_filename = f'scores/score-{MODEL}-{RUN}-{DATE}.txt'\n",
    "score_file = open(score_filename, 'r')\n",
    "for score in score_file.readlines():\n",
    "    pair = score.strip().split(':')\n",
    "    record[pair[0]] = float(pair[1])\n",
    "record[\"avg_acc\"] = (record[\"agnostic_acc\"] + record[\"aware_acc\"]) / 2.\n",
    "record[\"avg_rho\"] = (record[\"agnostic_rho\"] + record[\"aware_rho\"]) / 2.\n",
    "record[\"val.model-aware\"] = json.load(open('submission/val.model-aware.json', 'r'))\n",
    "record[\"val.model-agnostic\"] = json.load(open('submission/val.model-agnostic.json', 'r'))\n",
    "records = json.load(open('validation_runs.json', 'r'))\n",
    "records.append(record)\n",
    "json.dump(records, open('validation_runs.json', 'w+'))"
   ]
  },
  {
   "cell_type": "code",
   "execution_count": 7,
   "metadata": {},
   "outputs": [],
   "source": [
    "! mv submission/val.model-agnostic.json results/val.model-agnostic.{MODEL}-{RUN}-{DATE}\n",
    "! mv submission/val.model-aware.json results/val.model-aware.{MODEL}-{RUN}-{DATE}"
   ]
  }
 ],
 "metadata": {
  "kernelspec": {
   "display_name": "conceptual-engineering-using-llms",
   "language": "python",
   "name": "python3"
  },
  "language_info": {
   "codemirror_mode": {
    "name": "ipython",
    "version": 3
   },
   "file_extension": ".py",
   "mimetype": "text/x-python",
   "name": "python",
   "nbconvert_exporter": "python",
   "pygments_lexer": "ipython3",
   "version": "3.11.4"
  },
  "orig_nbformat": 4
 },
 "nbformat": 4,
 "nbformat_minor": 2
}
