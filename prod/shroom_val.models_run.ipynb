{
 "cells": [
  {
   "cell_type": "code",
   "execution_count": 1,
   "metadata": {},
   "outputs": [],
   "source": [
    "import json\n",
    "from datetime import datetime\n",
    "from tqdm import tqdm\n",
    "from shroom_classifier_lcel_baseline_v5 import ShroomClassifier"
   ]
  },
  {
   "cell_type": "code",
   "execution_count": 2,
   "metadata": {},
   "outputs": [],
   "source": [
    "def run_experiment(cp, reference, submission):\n",
    "    data = json.load(open(reference, \"r\"))\n",
    "    predictions = []\n",
    "    for dp in tqdm(data):\n",
    "        prediction = cp.classify(dp)\n",
    "        predictions.append(prediction)\n",
    "    json.dump(predictions, open(submission, \"w+\"))"
   ]
  },
  {
   "cell_type": "code",
   "execution_count": 3,
   "metadata": {},
   "outputs": [],
   "source": [
    "RUN = \"baseline_v5\"\n",
    "MODEL = \"gpt-4-1106-preview\"\n",
    "TEMP = 1.2\n",
    "DATE = datetime.utcnow().date().isoformat()"
   ]
  },
  {
   "cell_type": "code",
   "execution_count": 4,
   "metadata": {},
   "outputs": [
    {
     "name": "stderr",
     "output_type": "stream",
     "text": [
      "100%|██████████| 499/499 [27:31<00:00,  3.31s/it]  \n",
      "100%|██████████| 501/501 [16:59<00:00,  2.04s/it]\n"
     ]
    }
   ],
   "source": [
    "CLASSIFIER = ShroomClassifier(model_name=MODEL, temperature=TEMP)\n",
    "run_experiment(CLASSIFIER, 'reference/val.model-agnostic.json', 'submission/val.model-agnostic.json')\n",
    "run_experiment(CLASSIFIER, 'reference/val.model-aware.json', 'submission/val.model-aware.json')"
   ]
  },
  {
   "cell_type": "code",
   "execution_count": 5,
   "metadata": {},
   "outputs": [],
   "source": [
    "! python score.py --is_val submission reference scores/score-{MODEL}-{RUN}-{DATE}.txt\n",
    "! mv submission/val.model-agnostic.json results/val.model-agnostic.{MODEL}-{RUN}-{DATE}\n",
    "! mv submission/val.model-aware.json results/val.model-aware.{MODEL}-{RUN}-{DATE}"
   ]
  }
 ],
 "metadata": {
  "kernelspec": {
   "display_name": "conceptual-engineering-using-llms",
   "language": "python",
   "name": "python3"
  },
  "language_info": {
   "codemirror_mode": {
    "name": "ipython",
    "version": 3
   },
   "file_extension": ".py",
   "mimetype": "text/x-python",
   "name": "python",
   "nbconvert_exporter": "python",
   "pygments_lexer": "ipython3",
   "version": "3.11.4"
  },
  "orig_nbformat": 4
 },
 "nbformat": 4,
 "nbformat_minor": 2
}
