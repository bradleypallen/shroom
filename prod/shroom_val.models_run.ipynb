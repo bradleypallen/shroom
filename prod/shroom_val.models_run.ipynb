{
 "cells": [
  {
   "cell_type": "code",
   "execution_count": 1,
   "metadata": {},
   "outputs": [],
   "source": [
    "import json\n",
    "from tqdm import tqdm\n",
    "from shroom_classifier_lcel_baseline_v2 import ShroomClassifier"
   ]
  },
  {
   "cell_type": "code",
   "execution_count": 2,
   "metadata": {},
   "outputs": [],
   "source": [
    "def run_experiment(cp, reference, submission):\n",
    "    data = json.load(open(reference, \"r\"))\n",
    "    predictions = []\n",
    "    for dp in tqdm(data):\n",
    "        prediction = cp.classify(dp)\n",
    "        predictions.append(prediction)\n",
    "    json.dump(predictions, open(submission, \"w+\"))"
   ]
  },
  {
   "cell_type": "code",
   "execution_count": 3,
   "metadata": {},
   "outputs": [
    {
     "name": "stderr",
     "output_type": "stream",
     "text": [
      "/Users/bradleyallen/Documents/GitHub/shroom/lib/python3.11/site-packages/langchain_core/_api/deprecation.py:115: LangChainDeprecationWarning: The class `ChatOpenAI` was deprecated in LangChain 0.1.0 and will be removed in 0.2.0. Use langchain_openai.ChatOpenAI instead.\n",
      "  warn_deprecated(\n",
      "100%|██████████| 499/499 [27:10<00:00,  3.27s/it]\n"
     ]
    }
   ],
   "source": [
    "cp = ShroomClassifier(model_name=\"gpt-3.5-turbo\", temperature=0.7)\n",
    "run_experiment(cp, 'reference/val.model-agnostic.json', 'submission/val.model-agnostic.json')"
   ]
  },
  {
   "cell_type": "code",
   "execution_count": 4,
   "metadata": {},
   "outputs": [
    {
     "name": "stderr",
     "output_type": "stream",
     "text": [
      " 41%|████▏     | 207/501 [11:16<12:13,  2.50s/it]Retrying langchain_community.chat_models.openai.ChatOpenAI.completion_with_retry.<locals>._completion_with_retry in 4.0 seconds as it raised Timeout: Request timed out: HTTPSConnectionPool(host='api.openai.com', port=443): Read timed out. (read timeout=100.0).\n",
      "100%|██████████| 501/501 [28:51<00:00,  3.46s/it]  \n"
     ]
    }
   ],
   "source": [
    "cp = ShroomClassifier(model_name=\"gpt-3.5-turbo\", temperature=0.7)\n",
    "run_experiment(cp, 'reference/val.model-aware.json', 'submission/val.model-aware.json')"
   ]
  },
  {
   "cell_type": "code",
   "execution_count": 5,
   "metadata": {},
   "outputs": [],
   "source": [
    "! python score.py --is_val submission reference latest_score.txt"
   ]
  }
 ],
 "metadata": {
  "kernelspec": {
   "display_name": "conceptual-engineering-using-llms",
   "language": "python",
   "name": "python3"
  },
  "language_info": {
   "codemirror_mode": {
    "name": "ipython",
    "version": 3
   },
   "file_extension": ".py",
   "mimetype": "text/x-python",
   "name": "python",
   "nbconvert_exporter": "python",
   "pygments_lexer": "ipython3",
   "version": "3.11.4"
  },
  "orig_nbformat": 4
 },
 "nbformat": 4,
 "nbformat_minor": 2
}
