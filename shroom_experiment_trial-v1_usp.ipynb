{
 "cells": [
  {
   "cell_type": "code",
   "execution_count": 1,
   "metadata": {},
   "outputs": [],
   "source": [
    "import json, pycm\n",
    "from tqdm import tqdm\n",
    "from shroom_classifier_usp import ShroomClassifier"
   ]
  },
  {
   "cell_type": "code",
   "execution_count": 2,
   "metadata": {},
   "outputs": [],
   "source": [
    "def run_experiment(cp, filename):\n",
    "    data = json.load(open(filename, \"r\"))\n",
    "    for dp in tqdm(data):\n",
    "        if \"predicted\" in dp:\n",
    "            pass\n",
    "        else:\n",
    "            dp.update(cp.classify(dp[\"task\"], dp[\"src\"], dp[\"tgt\"], dp[\"hyp\"], dp[\"ref\"]))\n",
    "            json.dump(data, open(filename, \"w+\"))"
   ]
  },
  {
   "cell_type": "code",
   "execution_count": 3,
   "metadata": {},
   "outputs": [
    {
     "name": "stderr",
     "output_type": "stream",
     "text": [
      "  5%|▌         | 4/80 [01:32<27:39, 21.83s/it]Retrying langchain.chat_models.openai.ChatOpenAI.completion_with_retry.<locals>._completion_with_retry in 4.0 seconds as it raised Timeout: Request timed out: HTTPSConnectionPool(host='api.openai.com', port=443): Read timed out. (read timeout=50.0).\n",
      " 72%|███████▎  | 58/80 [22:34<09:01, 24.61s/it]Retrying langchain.chat_models.openai.ChatOpenAI.completion_with_retry.<locals>._completion_with_retry in 4.0 seconds as it raised APIConnectionError: Error communicating with OpenAI: ('Connection aborted.', RemoteDisconnected('Remote end closed connection without response')).\n",
      "100%|██████████| 80/80 [30:58<00:00, 23.23s/it]\n"
     ]
    }
   ],
   "source": [
    "cp = ShroomClassifier(temperature=0.7)\n",
    "run_experiment(cp, 'results_trial-v1_usp_v4.json')"
   ]
  }
 ],
 "metadata": {
  "kernelspec": {
   "display_name": "conceptual-engineering-using-llms",
   "language": "python",
   "name": "python3"
  },
  "language_info": {
   "codemirror_mode": {
    "name": "ipython",
    "version": 3
   },
   "file_extension": ".py",
   "mimetype": "text/x-python",
   "name": "python",
   "nbconvert_exporter": "python",
   "pygments_lexer": "ipython3",
   "version": "3.11.4"
  },
  "orig_nbformat": 4
 },
 "nbformat": 4,
 "nbformat_minor": 2
}
