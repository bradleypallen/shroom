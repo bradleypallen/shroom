{
 "cells": [
  {
   "cell_type": "code",
   "execution_count": 1,
   "metadata": {},
   "outputs": [],
   "source": [
    "import json, pycm\n",
    "from tqdm import tqdm\n",
    "from shroom_classifier_usp_v2 import ShroomClassifier"
   ]
  },
  {
   "cell_type": "code",
   "execution_count": 2,
   "metadata": {},
   "outputs": [],
   "source": [
    "def run_experiment(cp, filename):\n",
    "    data = json.load(open(filename, \"r\"))\n",
    "    for dp in tqdm(data):\n",
    "        if \"predicted\" in dp:\n",
    "            pass\n",
    "        else:\n",
    "            dp.update(cp.stage_2_classify(dp[\"task\"], dp[\"src\"], dp[\"tgt\"], dp[\"hyp\"], dp[\"ref\"]))\n",
    "            json.dump(data, open(filename, \"w+\"))"
   ]
  },
  {
   "cell_type": "code",
   "execution_count": 3,
   "metadata": {},
   "outputs": [
    {
     "name": "stderr",
     "output_type": "stream",
     "text": [
      " 49%|████▉     | 245/499 [15:50<17:58,  4.24s/it]Retrying langchain.chat_models.openai.ChatOpenAI.completion_with_retry.<locals>._completion_with_retry in 4.0 seconds as it raised APIError: Request failed due to server shutdown {\n",
      "  \"error\": {\n",
      "    \"message\": \"Request failed due to server shutdown\",\n",
      "    \"type\": \"server_error\",\n",
      "    \"param\": null,\n",
      "    \"code\": null\n",
      "  }\n",
      "}\n",
      " 500 {'error': {'message': 'Request failed due to server shutdown', 'type': 'server_error', 'param': None, 'code': None}} {'Date': 'Sat, 11 Nov 2023 05:45:04 GMT', 'Content-Type': 'application/json', 'Content-Length': '141', 'Connection': 'keep-alive', 'access-control-allow-origin': '*', 'openai-model': 'gpt-4-1106-preview', 'openai-organization': 'saros156', 'openai-processing-ms': '4640', 'openai-version': '2020-10-01', 'strict-transport-security': 'max-age=15724800; includeSubDomains', 'x-ratelimit-limit-requests': '10000', 'x-ratelimit-limit-tokens': '300000', 'x-ratelimit-remaining-requests': '9572', 'x-ratelimit-remaining-tokens': '299748', 'x-ratelimit-reset-requests': '1h1m36.95s', 'x-ratelimit-reset-tokens': '50ms', 'x-request-id': 'd89e0437056dece5b42c35a48ceaba37', 'CF-Cache-Status': 'DYNAMIC', 'Server': 'cloudflare', 'CF-RAY': '824439fdfee11035-LAX', 'alt-svc': 'h3=\":443\"; ma=86400'}.\n",
      "100%|██████████| 499/499 [34:58<00:00,  4.21s/it]\n"
     ]
    }
   ],
   "source": [
    "cp = ShroomClassifier(model_name=\"gpt-4-1106-preview\", temperature=0.1)\n",
    "run_experiment(cp, 'results_val.model-agnostic_usp_v2_stage_2.json')"
   ]
  }
 ],
 "metadata": {
  "kernelspec": {
   "display_name": "conceptual-engineering-using-llms",
   "language": "python",
   "name": "python3"
  },
  "language_info": {
   "codemirror_mode": {
    "name": "ipython",
    "version": 3
   },
   "file_extension": ".py",
   "mimetype": "text/x-python",
   "name": "python",
   "nbconvert_exporter": "python",
   "pygments_lexer": "ipython3",
   "version": "3.11.4"
  },
  "orig_nbformat": 4
 },
 "nbformat": 4,
 "nbformat_minor": 2
}
