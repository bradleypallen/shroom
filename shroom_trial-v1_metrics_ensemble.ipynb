{
 "cells": [
  {
   "cell_type": "code",
   "execution_count": 161,
   "metadata": {},
   "outputs": [],
   "source": [
    "import json, pycm, pandas as pd, matplotlib.pyplot as plt, seaborn as sns\n",
    "from IPython.display import display, Markdown"
   ]
  },
  {
   "cell_type": "code",
   "execution_count": 162,
   "metadata": {},
   "outputs": [
    {
     "data": {
      "text/markdown": [
       "## Performance: N = 80, accuracy = 0.900, Spearman's correlation = 0.826"
      ],
      "text/plain": [
       "<IPython.core.display.Markdown object>"
      ]
     },
     "metadata": {},
     "output_type": "display_data"
    },
    {
     "data": {
      "image/png": "[encoded data removed]",
      "text/plain": [
       "<Figure size 640x480 with 2 Axes>"
      ]
     },
     "metadata": {},
     "output_type": "display_data"
    }
   ],
   "source": [
    "datapoints = json.load(open('results_trial-v1_ensemble_version_5.json', 'r'))\n",
    "datapoints = [ dp for dp in datapoints if \"predicted\" in dp ]\n",
    "results = pd.DataFrame.from_records(datapoints)\n",
    "cm = pycm.ConfusionMatrix(results[\"label\"].tolist(), results[\"predicted\"].tolist(), digit=2, classes=[ 'Hallucination', 'Not Hallucination' ])\n",
    "#df_corr = results[[\"p(Hallucination)\", \"predicted_p\"]].corr(method='pearson',numeric_only=True)\n",
    "df_corr = results[[\"p(Hallucination)\", \"predicted_p\"]].corr(method='spearman',numeric_only=True)\n",
    "\n",
    "display(Markdown(f'## Performance: N = {cm.POP[\"Hallucination\"]}, accuracy = {cm.ACC[\"Hallucination\"]:.3f}, Spearman\\'s correlation = {df_corr.iloc[0,1]:.3f}'))\n",
    "df_cm = pd.DataFrame(cm.matrix).T.fillna(0)\n",
    "ax = sns.heatmap(df_cm, annot=True, fmt='d', cmap=\"YlGnBu\")\n",
    "ax.set_title(\"SHROOM Trial v1 - Ensemble\")\n",
    "ax.set(xlabel='Predicted', ylabel='Actual')\n",
    "plt.show()"
   ]
  },
  {
   "cell_type": "code",
   "execution_count": 163,
   "metadata": {},
   "outputs": [
    {
     "data": {
      "text/markdown": [
       "## False negatives"
      ],
      "text/plain": [
       "<IPython.core.display.Markdown object>"
      ]
     },
     "metadata": {},
     "output_type": "display_data"
    },
    {
     "data": {
      "text/html": [
       "<style type=\"text/css\">\n",
       "#T_bdf58_row0_col0, #T_bdf58_row0_col1, #T_bdf58_row0_col2, #T_bdf58_row0_col3, #T_bdf58_row0_col4, #T_bdf58_row0_col5, #T_bdf58_row0_col6, #T_bdf58_row0_col7, #T_bdf58_row0_col8, #T_bdf58_row0_col9, #T_bdf58_row0_col10, #T_bdf58_row0_col11, #T_bdf58_row1_col0, #T_bdf58_row1_col1, #T_bdf58_row1_col2, #T_bdf58_row1_col3, #T_bdf58_row1_col4, #T_bdf58_row1_col5, #T_bdf58_row1_col6, #T_bdf58_row1_col7, #T_bdf58_row1_col8, #T_bdf58_row1_col9, #T_bdf58_row1_col10, #T_bdf58_row1_col11 {\n",
       "  text-align: left;\n",
       "  vertical-align: top;\n",
       "  overflow-wrap: break-word;\n",
       "}\n",
       "</style>\n",
       "<table id=\"T_bdf58\">\n",
       "  <thead>\n",
       "    <tr>\n",
       "      <th id=\"T_bdf58_level0_col0\" class=\"col_heading level0 col0\" >hyp</th>\n",
       "      <th id=\"T_bdf58_level0_col1\" class=\"col_heading level0 col1\" >ref</th>\n",
       "      <th id=\"T_bdf58_level0_col2\" class=\"col_heading level0 col2\" >src</th>\n",
       "      <th id=\"T_bdf58_level0_col3\" class=\"col_heading level0 col3\" >tgt</th>\n",
       "      <th id=\"T_bdf58_level0_col4\" class=\"col_heading level0 col4\" >task</th>\n",
       "      <th id=\"T_bdf58_level0_col5\" class=\"col_heading level0 col5\" >p(Hallucination)</th>\n",
       "      <th id=\"T_bdf58_level0_col6\" class=\"col_heading level0 col6\" >predicted_p</th>\n",
       "      <th id=\"T_bdf58_level0_col7\" class=\"col_heading level0 col7\" >translator_r</th>\n",
       "      <th id=\"T_bdf58_level0_col8\" class=\"col_heading level0 col8\" >editor_r</th>\n",
       "      <th id=\"T_bdf58_level0_col9\" class=\"col_heading level0 col9\" >writer_r</th>\n",
       "      <th id=\"T_bdf58_level0_col10\" class=\"col_heading level0 col10\" >grammarian_r</th>\n",
       "      <th id=\"T_bdf58_level0_col11\" class=\"col_heading level0 col11\" >lawyer_r</th>\n",
       "    </tr>\n",
       "  </thead>\n",
       "  <tbody>\n",
       "    <tr>\n",
       "      <td id=\"T_bdf58_row0_col0\" class=\"data row0 col0\" >That is a safer way to travel.</td>\n",
       "      <td id=\"T_bdf58_row0_col1\" class=\"data row0 col1\" >either</td>\n",
       "      <td id=\"T_bdf58_row0_col2\" class=\"data row0 col2\" >A lot safer that way.</td>\n",
       "      <td id=\"T_bdf58_row0_col3\" class=\"data row0 col3\" >Because it’s safer.</td>\n",
       "      <td id=\"T_bdf58_row0_col4\" class=\"data row0 col4\" >PG</td>\n",
       "      <td id=\"T_bdf58_row0_col5\" class=\"data row0 col5\" >1.000000</td>\n",
       "      <td id=\"T_bdf58_row0_col6\" class=\"data row0 col6\" >0.000000</td>\n",
       "      <td id=\"T_bdf58_row0_col7\" class=\"data row0 col7\" >The output is not a hallucination. As a translator, it's crucial to ensure that the essence and meaning of the original text is maintained in the translated or paraphrased version. In this case, the output \"That is a safer way to travel.\" effectively communicates the same idea as the input \"A lot safer that way.\" However, it is important to note that the context of 'travel' is added in the output which might not be present in the input, depending on the wider context. Though the added context doesn't make it a hallucination, it may not be a perfectly accurate paraphrase if the original context didn't refer to travel.</td>\n",
       "      <td id=\"T_bdf58_row0_col8\" class=\"data row0 col8\" >The output is not a hallucination. It accurately captures the essence of the input and target phrases by suggesting that a certain unspecified method or approach is safer. It adheres to the meaning of the original sentence and does not include any extraneous or incorrect information.</td>\n",
       "      <td id=\"T_bdf58_row0_col9\" class=\"data row0 col9\" >The output is not a hallucination. While it does add a touch of specificity by stating \"way to travel\", the context or subject of safety is not drastically altered or misleading. It's a reasonable inference from the input. As a creative writer, I find this output engaging because it adds a bit of intrigue by implying a journey or travel.</td>\n",
       "      <td id=\"T_bdf58_row0_col10\" class=\"data row0 col10\" >The output is not a hallucination. As a grammarian, I can confirm that the generated output is grammatically correct and accurately conveys the same message as the input. The phrase \"That is a safer way to travel\" is a proper paraphrase of \"A lot safer that way\", as both sentences imply a method or approach that is deemed safer than alternatives. The output does not introduce any new or extraneous information that cannot be inferred from the input, thus it is not a hallucination.</td>\n",
       "      <td id=\"T_bdf58_row0_col11\" class=\"data row0 col11\" >As a lawyer, I can confirm that the output is not a hallucination. It accurately conveys the intended meaning of the input sentence by suggesting that the unspecified action or method is safer. The output does not add or imply any additional or extraneous information that is not present in the input. Therefore, it accurately paraphrases the input sentence.</td>\n",
       "    </tr>\n",
       "    <tr>\n",
       "      <td id=\"T_bdf58_row1_col0\" class=\"data row1 col0\" >I have nothing to do with it.</td>\n",
       "      <td id=\"T_bdf58_row1_col1\" class=\"data row1 col1\" >either</td>\n",
       "      <td id=\"T_bdf58_row1_col2\" class=\"data row1 col2\" >J'en ai rien à secouer.</td>\n",
       "      <td id=\"T_bdf58_row1_col3\" class=\"data row1 col3\" >I don't give a shit about it.</td>\n",
       "      <td id=\"T_bdf58_row1_col4\" class=\"data row1 col4\" >MT</td>\n",
       "      <td id=\"T_bdf58_row1_col5\" class=\"data row1 col5\" >0.666667</td>\n",
       "      <td id=\"T_bdf58_row1_col6\" class=\"data row1 col6\" >0.400000</td>\n",
       "      <td id=\"T_bdf58_row1_col7\" class=\"data row1 col7\" >The output is a hallucination. While the output is not entirely incorrect, it fails to capture the full nuance and intensity of the input. The French phrase \"J'en ai rien à secouer\" is a colloquial and somewhat crude way of saying \"I don't care at all\" or \"I don't give a damn\". The English translation \"I have nothing to do with it\" doesn't fully convey this same sense of dismissiveness or indifference, making it a less accurate translation.</td>\n",
       "      <td id=\"T_bdf58_row1_col8\" class=\"data row1 col8\" >The output is not a hallucination, but it is not a completely accurate translation. The French phrase \"J'en ai rien à secouer\" is a colloquial expression which literally translates to \"I have nothing to shake\", but its idiomatic meaning is closer to \"I don't care\" or \"I don't give a damn\". While \"I have nothing to do with it\" could be seen as a way to express indifference, it does not convey the same level of dismissiveness and indifference as the original French phrase and the target translation \"I don't give a shit about it\". Therefore, the output is not fully accurate in capturing the tone and intensity of the original input.</td>\n",
       "      <td id=\"T_bdf58_row1_col9\" class=\"data row1 col9\" >While the output provided is a valid translation, it is not an accurate one in terms of capturing the intensity and informality of the original French phrase. \"J'en ai rien à secouer\" is a very casual and somewhat vulgar way to say \"I don't care\" in French, which is more accurately translated to \"I don't give a shit about it\" in English. Therefore, the output can be considered a hallucination as it fails to convey the same tone and level of dismissiveness present in the original input. This is crucial in creative writing as it can impact the personality of a character or the mood of a narrative.</td>\n",
       "      <td id=\"T_bdf58_row1_col10\" class=\"data row1 col10\" >As a grammarian, I can confirm that the output \"I have nothing to do with it\" is grammatically correct. However, comparing it to the target \"I don't give a shit about it\" suggests that the output is not an accurate translation of the input. Therefore, although the output is not a hallucination in the sense that it is extraneous or off point, it does not accurately reflect the input's meaning.</td>\n",
       "      <td id=\"T_bdf58_row1_col11\" class=\"data row1 col11\" >The output is a hallucination. As a lawyer, precision in language is crucial. The French phrase \"J'en ai rien à secouer\" translates colloquially to \"I don't give a shit about it,\" which conveys a strong sense of indifference or disregard. The output \"I have nothing to do with it\" does not carry the same tone or intensity of indifference and can be interpreted as a mere statement of non-involvement or non-responsibility. Thus, the translation is not accurate.</td>\n",
       "    </tr>\n",
       "  </tbody>\n",
       "</table>\n"
      ],
      "text/plain": [
       "<pandas.io.formats.style.Styler at 0x167d57110>"
      ]
     },
     "metadata": {},
     "output_type": "display_data"
    },
    {
     "data": {
      "text/markdown": [
       "## False positives"
      ],
      "text/plain": [
       "<IPython.core.display.Markdown object>"
      ]
     },
     "metadata": {},
     "output_type": "display_data"
    },
    {
     "data": {
      "text/html": [
       "<style type=\"text/css\">\n",
       "#T_1d5f0_row0_col0, #T_1d5f0_row0_col1, #T_1d5f0_row0_col2, #T_1d5f0_row0_col3, #T_1d5f0_row0_col4, #T_1d5f0_row0_col5, #T_1d5f0_row0_col6, #T_1d5f0_row0_col7, #T_1d5f0_row0_col8, #T_1d5f0_row0_col9, #T_1d5f0_row0_col10, #T_1d5f0_row0_col11, #T_1d5f0_row1_col0, #T_1d5f0_row1_col1, #T_1d5f0_row1_col2, #T_1d5f0_row1_col3, #T_1d5f0_row1_col4, #T_1d5f0_row1_col5, #T_1d5f0_row1_col6, #T_1d5f0_row1_col7, #T_1d5f0_row1_col8, #T_1d5f0_row1_col9, #T_1d5f0_row1_col10, #T_1d5f0_row1_col11, #T_1d5f0_row2_col0, #T_1d5f0_row2_col1, #T_1d5f0_row2_col2, #T_1d5f0_row2_col3, #T_1d5f0_row2_col4, #T_1d5f0_row2_col5, #T_1d5f0_row2_col6, #T_1d5f0_row2_col7, #T_1d5f0_row2_col8, #T_1d5f0_row2_col9, #T_1d5f0_row2_col10, #T_1d5f0_row2_col11, #T_1d5f0_row3_col0, #T_1d5f0_row3_col1, #T_1d5f0_row3_col2, #T_1d5f0_row3_col3, #T_1d5f0_row3_col4, #T_1d5f0_row3_col5, #T_1d5f0_row3_col6, #T_1d5f0_row3_col7, #T_1d5f0_row3_col8, #T_1d5f0_row3_col9, #T_1d5f0_row3_col10, #T_1d5f0_row3_col11, #T_1d5f0_row4_col0, #T_1d5f0_row4_col1, #T_1d5f0_row4_col2, #T_1d5f0_row4_col3, #T_1d5f0_row4_col4, #T_1d5f0_row4_col5, #T_1d5f0_row4_col6, #T_1d5f0_row4_col7, #T_1d5f0_row4_col8, #T_1d5f0_row4_col9, #T_1d5f0_row4_col10, #T_1d5f0_row4_col11, #T_1d5f0_row5_col0, #T_1d5f0_row5_col1, #T_1d5f0_row5_col2, #T_1d5f0_row5_col3, #T_1d5f0_row5_col4, #T_1d5f0_row5_col5, #T_1d5f0_row5_col6, #T_1d5f0_row5_col7, #T_1d5f0_row5_col8, #T_1d5f0_row5_col9, #T_1d5f0_row5_col10, #T_1d5f0_row5_col11 {\n",
       "  text-align: left;\n",
       "  vertical-align: top;\n",
       "  overflow-wrap: break-word;\n",
       "}\n",
       "</style>\n",
       "<table id=\"T_1d5f0\">\n",
       "  <thead>\n",
       "    <tr>\n",
       "      <th id=\"T_1d5f0_level0_col0\" class=\"col_heading level0 col0\" >hyp</th>\n",
       "      <th id=\"T_1d5f0_level0_col1\" class=\"col_heading level0 col1\" >ref</th>\n",
       "      <th id=\"T_1d5f0_level0_col2\" class=\"col_heading level0 col2\" >src</th>\n",
       "      <th id=\"T_1d5f0_level0_col3\" class=\"col_heading level0 col3\" >tgt</th>\n",
       "      <th id=\"T_1d5f0_level0_col4\" class=\"col_heading level0 col4\" >task</th>\n",
       "      <th id=\"T_1d5f0_level0_col5\" class=\"col_heading level0 col5\" >p(Hallucination)</th>\n",
       "      <th id=\"T_1d5f0_level0_col6\" class=\"col_heading level0 col6\" >predicted_p</th>\n",
       "      <th id=\"T_1d5f0_level0_col7\" class=\"col_heading level0 col7\" >translator_r</th>\n",
       "      <th id=\"T_1d5f0_level0_col8\" class=\"col_heading level0 col8\" >editor_r</th>\n",
       "      <th id=\"T_1d5f0_level0_col9\" class=\"col_heading level0 col9\" >writer_r</th>\n",
       "      <th id=\"T_1d5f0_level0_col10\" class=\"col_heading level0 col10\" >grammarian_r</th>\n",
       "      <th id=\"T_1d5f0_level0_col11\" class=\"col_heading level0 col11\" >lawyer_r</th>\n",
       "    </tr>\n",
       "  </thead>\n",
       "  <tbody>\n",
       "    <tr>\n",
       "      <td id=\"T_1d5f0_row0_col0\" class=\"data row0 col0\" >(nautical) A halyard.</td>\n",
       "      <td id=\"T_1d5f0_row0_col1\" class=\"data row0 col1\" >tgt</td>\n",
       "      <td id=\"T_1d5f0_row0_col2\" class=\"data row0 col2\" >Haul away , keeping strain on both parts of the halyard so that the &lt;define&gt; pigstick &lt;/define&gt; remains vertical as it goes up and does n't foul the spreaders .</td>\n",
       "      <td id=\"T_1d5f0_row0_col3\" class=\"data row0 col3\" >(nautical) A staff that carries a flag or pennant above the mast of a sailboat.</td>\n",
       "      <td id=\"T_1d5f0_row0_col4\" class=\"data row0 col4\" >DM</td>\n",
       "      <td id=\"T_1d5f0_row0_col5\" class=\"data row0 col5\" >0.333333</td>\n",
       "      <td id=\"T_1d5f0_row0_col6\" class=\"data row0 col6\" >0.800000</td>\n",
       "      <td id=\"T_1d5f0_row0_col7\" class=\"data row0 col7\" >The output is a hallucination. The term to be defined is 'pigstick', but the output defines 'halyard' instead. The correct definition, as given in the target, is that a pigstick is a staff that carries a flag or pennant above the mast of a sailboat. The output does not match this definition.</td>\n",
       "      <td id=\"T_1d5f0_row0_col8\" class=\"data row0 col8\" >The output is a hallucination. The term 'pigstick' is incorrectly defined as a 'halyard' in the output. According to the target, a 'pigstick' is a staff that carries a flag or pennant above the mast of a sailboat, not a halyard. Thus, the output is incorrect.</td>\n",
       "      <td id=\"T_1d5f0_row0_col9\" class=\"data row0 col9\" >The output is a hallucination. The term that needed defining was 'pigstick', and the output provided a definition for 'halyard', which is a different nautical term altogether. The output fails to engage the reader with the correct information, which is a critical aspect of creative writing.</td>\n",
       "      <td id=\"T_1d5f0_row0_col10\" class=\"data row0 col10\" >As a grammarian, I can verify that the output is grammatically correct. However, the accuracy of the definition is not within my realm of expertise. Therefore, I would recommend consulting a nautical expert to verify the accuracy of the definition.</td>\n",
       "      <td id=\"T_1d5f0_row0_col11\" class=\"data row0 col11\" >As a lawyer, my expertise does not extend to nautical terminology. However, based on the information given, it appears that the output is a hallucination. The term 'pigstick' is defined in the target as a staff that carries a flag or pennant above the mast of a sailboat. This definition is not aligned with the output, which defines it as a halyard. The output is not consistent with the target definition provided, hence it's incorrect.</td>\n",
       "    </tr>\n",
       "    <tr>\n",
       "      <td id=\"T_1d5f0_row1_col0\" class=\"data row1 col0\" >(Australia, New Zealand, colloquial) A hatfish.</td>\n",
       "      <td id=\"T_1d5f0_row1_col1\" class=\"data row1 col1\" >tgt</td>\n",
       "      <td id=\"T_1d5f0_row1_col2\" class=\"data row1 col2\" >Noah did n't realize when he stayed on the job - he was then about 600 years old and built the ark and drove the animals in two by two , the &lt;define&gt; hatfish &lt;/define&gt; and the kangaroo — — he did n't realize he was laying the foundation for an occupation for old men in New York , several years later .</td>\n",
       "      <td id=\"T_1d5f0_row1_col3\" class=\"data row1 col3\" >(colloquial) Synonym of halibut</td>\n",
       "      <td id=\"T_1d5f0_row1_col4\" class=\"data row1 col4\" >DM</td>\n",
       "      <td id=\"T_1d5f0_row1_col5\" class=\"data row1 col5\" >0.333333</td>\n",
       "      <td id=\"T_1d5f0_row1_col6\" class=\"data row1 col6\" >1.000000</td>\n",
       "      <td id=\"T_1d5f0_row1_col7\" class=\"data row1 col7\" >The output is a hallucination. As a translator, my primary concern is the accuracy and correctness of the provided translation. In this case, the output incorrectly defines \"hatfish\" with reference to Australia and New Zealand, which is not mentioned or implied in the input. The correct definition according to the target is \"Synonym of halibut\". The output provided does not align with this definition, hence it can be classified as a hallucination.</td>\n",
       "      <td id=\"T_1d5f0_row1_col8\" class=\"data row1 col8\" >The output is a hallucination. The output inaccurately defines \"hatfish\" as an Australian and New Zealand colloquial term, without providing any specific meaning. This contradicts the target, which indicates that \"hatfish\" is a synonym for halibut. The output does not provide a correct or useful definition, and it adds extraneous geographic information not suggested by the input.</td>\n",
       "      <td id=\"T_1d5f0_row1_col9\" class=\"data row1 col9\" >The output is a hallucination. As a creative writer, I am concerned with the accuracy and relevance of the content. The output definition provided for the term 'hatfish' is incorrect and off point. It is specified as a colloquial term used in Australia and New Zealand. However, the target definition indicates that it's a synonym for 'halibut'. The output does not match the target and does not provide an accurate or relevant definition for the term in the context provided in the input. Thus, the output is a hallucination.</td>\n",
       "      <td id=\"T_1d5f0_row1_col10\" class=\"data row1 col10\" >The output is a hallucination. From a grammatical perspective, the output is well-formed. However, the content is incorrect. The term 'hatfish' in the output is incorrectly defined as an Australian or New Zealand colloquial term. The target indicates that 'hatfish' is a synonym for 'halibut'. Hence, the output does not match the target and is considered a hallucination.</td>\n",
       "      <td id=\"T_1d5f0_row1_col11\" class=\"data row1 col11\" >As a lawyer, my expertise lies primarily in the application and interpretation of the law. Evaluating the accuracy of language model outputs such as this falls outside my field of expertise. However, from a general perspective, the output seems to be a hallucination. The output defines \"hatfish\" in a regional and colloquial context that is not provided or suggested in the input, and there is no connection made to the target definition of \"halibut.\" Furthermore, the output does not provide an actual definition of the term. Therefore, it appears to be incorrect and a hallucination.</td>\n",
       "    </tr>\n",
       "    <tr>\n",
       "      <td id=\"T_1d5f0_row2_col0\" class=\"data row2 col0\" >(transitive) To cook (something) in a frying pan.</td>\n",
       "      <td id=\"T_1d5f0_row2_col1\" class=\"data row2 col1\" >tgt</td>\n",
       "      <td id=\"T_1d5f0_row2_col2\" class=\"data row2 col2\" >Innawong et al . ( 2006 ) conducted experiments to study the effect of using nitrogen gas on the quality of &lt;define&gt; fried &lt;/define&gt; chicken nuggets during pressure frying in terms of moisture retention and reduction in fat   [ … ]</td>\n",
       "      <td id=\"T_1d5f0_row2_col3\" class=\"data row2 col3\" >Cooked in a deep fryer or pressure fryer or the like after being coated (breaded) in batter; compare deep-fried.</td>\n",
       "      <td id=\"T_1d5f0_row2_col4\" class=\"data row2 col4\" >DM</td>\n",
       "      <td id=\"T_1d5f0_row2_col5\" class=\"data row2 col5\" >0.000000</td>\n",
       "      <td id=\"T_1d5f0_row2_col6\" class=\"data row2 col6\" >0.600000</td>\n",
       "      <td id=\"T_1d5f0_row2_col7\" class=\"data row2 col7\" >The output is a hallucination. The term \"fried\" in the context of the input refers specifically to a method of cooking chicken nuggets, which involves deep frying or pressure frying them after they have been coated in batter. The output, however, provides a general definition of frying something in a frying pan. This definition does not capture the specific context of frying chicken nuggets in deep or pressure fryers, making it inaccurate and misleading.</td>\n",
       "      <td id=\"T_1d5f0_row2_col8\" class=\"data row2 col8\" >The output is a hallucination. Although the provided output is a general definition of the term \"fried\", it does not accurately reflect the specific context of \"fried\" as it pertains to chicken nuggets in the given input. The target definition, which refers to the process of cooking something coated in batter in a deep fryer or pressure fryer, is much more applicable in this context. The output misses key specifics such as the coating in batter and the type of fryer used, making it a broad and not contextually accurate definition.</td>\n",
       "      <td id=\"T_1d5f0_row2_col9\" class=\"data row2 col9\" >The output is not a hallucination. It's a correct and concise definition of the term 'fried'. However, it's not as comprehensive or specific as the target definition. The output defines the term in a general context, not necessarily specific to the context of fried chicken nuggets. Despite this, it does not provide any incorrect or extraneous information, therefore it cannot be classified as a hallucination.</td>\n",
       "      <td id=\"T_1d5f0_row2_col10\" class=\"data row2 col10\" >The output is grammatically correct. It uses appropriate verb tense and sentence structure. However, it does not match the specific context of the input which is about 'fried' in the context of 'fried chicken nuggets'. Therefore, it could be argued that it is a hallucination in the context of the specific task, but not from a grammatical perspective.</td>\n",
       "      <td id=\"T_1d5f0_row2_col11\" class=\"data row2 col11\" >As a lawyer, I can attest that the output is not a hallucination. It accurately defines the term \"fried\" in a general culinary context, which is to cook something in a frying pan. However, it does not fully align with the target definition, which specifically refers to the method of deep frying or pressure frying. Therefore, while the output is not a hallucination, it may not be entirely accurate in the specific context of the input.</td>\n",
       "    </tr>\n",
       "    <tr>\n",
       "      <td id=\"T_1d5f0_row3_col0\" class=\"data row3 col0\" >That’s not happening at the moment.</td>\n",
       "      <td id=\"T_1d5f0_row3_col1\" class=\"data row3 col1\" >either</td>\n",
       "      <td id=\"T_1d5f0_row3_col2\" class=\"data row3 col2\" >That’s not happening.</td>\n",
       "      <td id=\"T_1d5f0_row3_col3\" class=\"data row3 col3\" >That isn’t gonna happen.</td>\n",
       "      <td id=\"T_1d5f0_row3_col4\" class=\"data row3 col4\" >PG</td>\n",
       "      <td id=\"T_1d5f0_row3_col5\" class=\"data row3 col5\" >0.333333</td>\n",
       "      <td id=\"T_1d5f0_row3_col6\" class=\"data row3 col6\" >1.000000</td>\n",
       "      <td id=\"T_1d5f0_row3_col7\" class=\"data row3 col7\" >The output can be considered a mild form of hallucination. While the general idea is maintained - that something isn't occurring - the addition of \"at the moment\" adds temporal context that isn't present in the original input. As a translator, it's important to maintain the original meaning and context as closely as possible, so this addition can be seen as a deviation from the original text.</td>\n",
       "      <td id=\"T_1d5f0_row3_col8\" class=\"data row3 col8\" >As an editor, the output can be considered a mild form of hallucination. While it maintains the general meaning of the input, the addition of \"at the moment\" introduces a temporal element that isn't present or implied in the original sentence. The output suggests that the event might happen in the future, which is not conveyed in the input or the target. Hence, it includes extraneous information that cannot be reasonably inferred from the input, making it a mild hallucination.</td>\n",
       "      <td id=\"T_1d5f0_row3_col9\" class=\"data row3 col9\" >The output is a hallucination. While it retains the general meaning of the input, it adds new information \"at the moment\" that was not implied or stated in the input. The addition of this phrase changes the tone and meaning of the sentence, implying that the situation might change in the future, which is not present in the original statement. Thus, it's not a faithful paraphrase. As a writer, it's crucial to ensure that the essence of the original text is maintained while paraphrasing.</td>\n",
       "      <td id=\"T_1d5f0_row3_col10\" class=\"data row3 col10\" >As a grammarian, the output \"That’s not happening at the moment.\" is grammatically correct. However, it includes additional information (\"at the moment\") that is not present in the input \"That’s not happening.\" Therefore, it could be considered a hallucination because it includes extraneous information not present in the input.</td>\n",
       "      <td id=\"T_1d5f0_row3_col11\" class=\"data row3 col11\" >As a lawyer, the output can be viewed as a slight hallucination. While the output is somewhat similar to the input, it has added information - \"at the moment\" - which was not present or implied in the original input. In legal terms, this could significantly alter the meaning. The phrase \"at the moment\" implies that the situation could change in the future, which is not indicated in the original input. Therefore, it's not an accurate paraphrase.</td>\n",
       "    </tr>\n",
       "    <tr>\n",
       "      <td id=\"T_1d5f0_row4_col0\" class=\"data row4 col0\" >Do you love her?</td>\n",
       "      <td id=\"T_1d5f0_row4_col1\" class=\"data row4 col1\" >either</td>\n",
       "      <td id=\"T_1d5f0_row4_col2\" class=\"data row4 col2\" >Est-ce que tu l'aimes ?</td>\n",
       "      <td id=\"T_1d5f0_row4_col3\" class=\"data row4 col3\" >Do you love him?</td>\n",
       "      <td id=\"T_1d5f0_row4_col4\" class=\"data row4 col4\" >MT</td>\n",
       "      <td id=\"T_1d5f0_row4_col5\" class=\"data row4 col5\" >0.333333</td>\n",
       "      <td id=\"T_1d5f0_row4_col6\" class=\"data row4 col6\" >0.800000</td>\n",
       "      <td id=\"T_1d5f0_row4_col7\" class=\"data row4 col7\" >The output is a hallucination. The French input \"Est-ce que tu l'aimes?\" is correctly translated to English as \"Do you love him?\". However, the model incorrectly translates it as \"Do you love her?\". This mistake can change the context of the conversation, therefore the output is not a good translation.</td>\n",
       "      <td id=\"T_1d5f0_row4_col8\" class=\"data row4 col8\" >The output is a hallucination. The input sentence \"Est-ce que tu l'aimes?\" translates to \"Do you love him?\" in English. The model incorrectly translated \"him\" to \"her\", which changes the gender of the person being referred to. This is a clear error as it does not accurately reflect the content of the source sentence.</td>\n",
       "      <td id=\"T_1d5f0_row4_col9\" class=\"data row4 col9\" >As a creative writer, I find the output engaging and it maintains the general sentiment of the original input. However, the output is inaccurate because it mistranslates the gender of the person being referred to. The French input \"Est-ce que tu l'aimes?\" does not specify gender, but the given target translation \"Do you love him?\" implies a male subject. The output \"Do you love her?\" implies a female subject instead. In this case, the output could be considered a hallucination because it introduces information not present or suggested in the input.</td>\n",
       "      <td id=\"T_1d5f0_row4_col10\" class=\"data row4 col10\" >As a grammarian, I can confirm that the output is grammatically correct in English. However, the translation is inaccurate. In French, gender is specified in pronouns, \"le\" is used for masculine (him) and \"la\" for feminine (her). The input \"Est-ce que tu l'aimes?\" implies \"Do you love him?\". Hence, the output \"Do you love her?\" is incorrect from a translation accuracy perspective, but not from a grammatical perspective.</td>\n",
       "      <td id=\"T_1d5f0_row4_col11\" class=\"data row4 col11\" >As a lawyer, my primary concern is the accuracy of the translation. The output translation \"Do you love her?\" is incorrect as the French input \"Est-ce que tu l'aimes ?\" is gender-neutral and can refer to either a male or female. The target translation, \"Do you love him?\" is accurate. Therefore, the provided output is a hallucination due to its misinterpretation of the gender, which can lead to a different understanding or context of the conversation.</td>\n",
       "    </tr>\n",
       "    <tr>\n",
       "      <td id=\"T_1d5f0_row5_col0\" class=\"data row5 col0\" >It's my duty.</td>\n",
       "      <td id=\"T_1d5f0_row5_col1\" class=\"data row5 col1\" >either</td>\n",
       "      <td id=\"T_1d5f0_row5_col2\" class=\"data row5 col2\" >C'est mon métier.</td>\n",
       "      <td id=\"T_1d5f0_row5_col3\" class=\"data row5 col3\" >It's my job.</td>\n",
       "      <td id=\"T_1d5f0_row5_col4\" class=\"data row5 col4\" >MT</td>\n",
       "      <td id=\"T_1d5f0_row5_col5\" class=\"data row5 col5\" >0.333333</td>\n",
       "      <td id=\"T_1d5f0_row5_col6\" class=\"data row5 col6\" >0.600000</td>\n",
       "      <td id=\"T_1d5f0_row5_col7\" class=\"data row5 col7\" >The output can be considered a slight hallucination. While \"duty\" and \"job\" can be used interchangeably in some contexts, they do not have the exact same meaning. The French word \"métier\" directly translates to \"job\" or \"profession,\" not \"duty.\" Therefore, the translation is not completely accurate.</td>\n",
       "      <td id=\"T_1d5f0_row5_col8\" class=\"data row5 col8\" >The output is a hallucination. While \"duty\" and \"job\" can often be used interchangeably in English, they do not mean exactly the same thing. In French, \"métier\" specifically translates to \"job\" or \"profession,\" not \"duty.\" Therefore, the output does not accurately reflect the input.</td>\n",
       "      <td id=\"T_1d5f0_row5_col9\" class=\"data row5 col9\" >As a creative writer, I would argue that the output is not a hallucination. While the exact translation of \"C'est mon métier\" is \"It's my job\", in a creative context, \"It's my duty\" can be seen as a valid translation. This is because in certain contexts, a job can be seen as a duty, especially if the speaker feels a strong responsibility or commitment towards it. Therefore, the translation is engaging and accurately captures the potential emotional depth of the statement.</td>\n",
       "      <td id=\"T_1d5f0_row5_col10\" class=\"data row5 col10\" >As a grammarian, I can confirm that the output \"It's my duty.\" is grammatically correct. However, in terms of translation accuracy, it does not correctly translate the input \"C'est mon métier.\" which means \"It's my job.\" Therefore, while the output is not a hallucination in terms of grammar, it can be considered a hallucination in terms of semantics as it does not accurately reflect the original meaning of the input.</td>\n",
       "      <td id=\"T_1d5f0_row5_col11\" class=\"data row5 col11\" >The output is not a hallucination. As a lawyer, the terms \"job\" and \"duty\" can be seen as interchangeable in the context of a professional obligation or responsibility. Thus, the translation from French to English where \"C'est mon métier\" (It's my job) is translated to \"It's my duty\" is contextually accurate and truthful.</td>\n",
       "    </tr>\n",
       "  </tbody>\n",
       "</table>\n"
      ],
      "text/plain": [
       "<pandas.io.formats.style.Styler at 0x167dc7290>"
      ]
     },
     "metadata": {},
     "output_type": "display_data"
    }
   ],
   "source": [
    "def display_errors(results):\n",
    "    fns = results[((results[\"label\"] == 'Hallucination') & (results[\"predicted\"] == 'Not Hallucination'))].copy()\n",
    "    fns[\"src\"] = fns[\"src\"].str.replace('<','&lt;')\n",
    "    fns[\"src\"] = fns[\"src\"].str.replace('>','&gt;')\n",
    "    fns = fns.drop(\"model\", axis=1)\n",
    "    fns = fns.drop(\"label\", axis=1)\n",
    "    fns = fns.drop(\"labels\", axis=1)\n",
    "    fns = fns.drop(\"predicted\", axis=1)\n",
    "    fns = fns.drop(\"predictions\", axis=1)\n",
    "    fns = fns.drop(\"timestamp\", axis=1)\n",
    "    if len(fns) > 0:\n",
    "        fns_styler = fns.style.set_properties(**{\"text-align\": \"left\", \"vertical-align\" : \"top\", \"overflow-wrap\": \"break-word\"}).hide(axis=\"index\")\n",
    "        display(Markdown(f'## False negatives'))\n",
    "        display(fns_styler)\n",
    "    fps = results[((results[\"label\"] == 'Not Hallucination') & (results[\"predicted\"] == 'Hallucination'))].copy()\n",
    "    fps[\"src\"] = fps[\"src\"].str.replace('<','&lt;')\n",
    "    fps[\"src\"] = fps[\"src\"].str.replace('>','&gt;')\n",
    "    fps = fps.drop(\"model\", axis=1)\n",
    "    fps = fps.drop(\"label\", axis=1)\n",
    "    fps = fps.drop(\"labels\", axis=1)\n",
    "    fps = fps.drop(\"predicted\", axis=1)\n",
    "    fps = fps.drop(\"predictions\", axis=1)\n",
    "    fps = fps.drop(\"timestamp\", axis=1)\n",
    "    if len(fps) > 0:\n",
    "        fps_styler = fps.style.set_properties(**{\"text-align\": \"left\", \"vertical-align\" : \"top\", \"overflow-wrap\": \"break-word\"}).hide(axis=\"index\")\n",
    "        display(Markdown(f'## False positives'))\n",
    "        display(fps_styler)\n",
    "\n",
    "display_errors(results)"
   ]
  }
 ],
 "metadata": {
  "kernelspec": {
   "display_name": "conceptual-engineering-using-llms",
   "language": "python",
   "name": "python3"
  },
  "language_info": {
   "codemirror_mode": {
    "name": "ipython",
    "version": 3
   },
   "file_extension": ".py",
   "mimetype": "text/x-python",
   "name": "python",
   "nbconvert_exporter": "python",
   "pygments_lexer": "ipython3",
   "version": "3.11.4"
  },
  "orig_nbformat": 4
 },
 "nbformat": 4,
 "nbformat_minor": 2
}
